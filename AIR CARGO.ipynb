{
 "cells": [
  {
   "cell_type": "code",
   "execution_count": 5,
   "id": "66f0f756-13c5-4c84-b923-8495b53f17db",
   "metadata": {},
   "outputs": [],
   "source": [
    "import pandas as pd\n",
    "import numpy as np\n",
    "import matplotlib.pyplot as plt\n",
    "import seaborn as sns"
   ]
  },
  {
   "cell_type": "code",
   "execution_count": 6,
   "id": "878e97d6-d582-4435-9f8c-5300bd2460a9",
   "metadata": {},
   "outputs": [
    {
     "data": {
      "text/html": [
       "<div>\n",
       "<style scoped>\n",
       "    .dataframe tbody tr th:only-of-type {\n",
       "        vertical-align: middle;\n",
       "    }\n",
       "\n",
       "    .dataframe tbody tr th {\n",
       "        vertical-align: top;\n",
       "    }\n",
       "\n",
       "    .dataframe thead th {\n",
       "        text-align: right;\n",
       "    }\n",
       "</style>\n",
       "<table border=\"1\" class=\"dataframe\">\n",
       "  <thead>\n",
       "    <tr style=\"text-align: right;\">\n",
       "      <th></th>\n",
       "      <th>Shipment ID</th>\n",
       "      <th>Origin Airport</th>\n",
       "      <th>Destination Airport</th>\n",
       "      <th>Shipment Weight (kg)</th>\n",
       "      <th>Shipment Volume (m³)</th>\n",
       "      <th>Freight Cost (USD)</th>\n",
       "      <th>Mode of Transport</th>\n",
       "      <th>Carrier Name</th>\n",
       "      <th>Transit Time (hours)</th>\n",
       "      <th>Temperature-Sensitive</th>\n",
       "      <th>Perishable Goods</th>\n",
       "      <th>Customs Clearance Time (hours)</th>\n",
       "      <th>Weather Conditions</th>\n",
       "      <th>Day of Week</th>\n",
       "      <th>Delay Status</th>\n",
       "    </tr>\n",
       "  </thead>\n",
       "  <tbody>\n",
       "    <tr>\n",
       "      <th>0</th>\n",
       "      <td>SHIP000001</td>\n",
       "      <td>SFO</td>\n",
       "      <td>LHR</td>\n",
       "      <td>655.03</td>\n",
       "      <td>7.80</td>\n",
       "      <td>1238.23</td>\n",
       "      <td>Air</td>\n",
       "      <td>UPS</td>\n",
       "      <td>16</td>\n",
       "      <td>No</td>\n",
       "      <td>Yes</td>\n",
       "      <td>7</td>\n",
       "      <td>Clear</td>\n",
       "      <td>Thursday</td>\n",
       "      <td>Delayed</td>\n",
       "    </tr>\n",
       "    <tr>\n",
       "      <th>1</th>\n",
       "      <td>SHIP000002</td>\n",
       "      <td>ATL</td>\n",
       "      <td>SIN</td>\n",
       "      <td>988.60</td>\n",
       "      <td>37.41</td>\n",
       "      <td>1868.80</td>\n",
       "      <td>Air</td>\n",
       "      <td>Lufthansa Cargo</td>\n",
       "      <td>21</td>\n",
       "      <td>No</td>\n",
       "      <td>No</td>\n",
       "      <td>5</td>\n",
       "      <td>Clear</td>\n",
       "      <td>Thursday</td>\n",
       "      <td>On-Time</td>\n",
       "    </tr>\n",
       "    <tr>\n",
       "      <th>2</th>\n",
       "      <td>SHIP000003</td>\n",
       "      <td>DFW</td>\n",
       "      <td>HKG</td>\n",
       "      <td>637.71</td>\n",
       "      <td>10.53</td>\n",
       "      <td>1205.49</td>\n",
       "      <td>Air</td>\n",
       "      <td>FedEx</td>\n",
       "      <td>6</td>\n",
       "      <td>No</td>\n",
       "      <td>No</td>\n",
       "      <td>36</td>\n",
       "      <td>Clear</td>\n",
       "      <td>Wednesday</td>\n",
       "      <td>On-Time</td>\n",
       "    </tr>\n",
       "    <tr>\n",
       "      <th>3</th>\n",
       "      <td>SHIP000004</td>\n",
       "      <td>SFO</td>\n",
       "      <td>DXB</td>\n",
       "      <td>367.47</td>\n",
       "      <td>7.70</td>\n",
       "      <td>694.65</td>\n",
       "      <td>Rail</td>\n",
       "      <td>DHL</td>\n",
       "      <td>17</td>\n",
       "      <td>Yes</td>\n",
       "      <td>No</td>\n",
       "      <td>16</td>\n",
       "      <td>Rainy</td>\n",
       "      <td>Sunday</td>\n",
       "      <td>On-Time</td>\n",
       "    </tr>\n",
       "    <tr>\n",
       "      <th>4</th>\n",
       "      <td>SHIP000005</td>\n",
       "      <td>ORD</td>\n",
       "      <td>HKG</td>\n",
       "      <td>671.23</td>\n",
       "      <td>3.59</td>\n",
       "      <td>1268.86</td>\n",
       "      <td>Air</td>\n",
       "      <td>DHL</td>\n",
       "      <td>36</td>\n",
       "      <td>No</td>\n",
       "      <td>No</td>\n",
       "      <td>3</td>\n",
       "      <td>Rainy</td>\n",
       "      <td>Friday</td>\n",
       "      <td>Delayed</td>\n",
       "    </tr>\n",
       "    <tr>\n",
       "      <th>...</th>\n",
       "      <td>...</td>\n",
       "      <td>...</td>\n",
       "      <td>...</td>\n",
       "      <td>...</td>\n",
       "      <td>...</td>\n",
       "      <td>...</td>\n",
       "      <td>...</td>\n",
       "      <td>...</td>\n",
       "      <td>...</td>\n",
       "      <td>...</td>\n",
       "      <td>...</td>\n",
       "      <td>...</td>\n",
       "      <td>...</td>\n",
       "      <td>...</td>\n",
       "      <td>...</td>\n",
       "    </tr>\n",
       "    <tr>\n",
       "      <th>19995</th>\n",
       "      <td>SHIP019996</td>\n",
       "      <td>ATL</td>\n",
       "      <td>DXB</td>\n",
       "      <td>158.99</td>\n",
       "      <td>10.97</td>\n",
       "      <td>300.55</td>\n",
       "      <td>Air</td>\n",
       "      <td>UPS</td>\n",
       "      <td>36</td>\n",
       "      <td>Yes</td>\n",
       "      <td>Yes</td>\n",
       "      <td>32</td>\n",
       "      <td>Clear</td>\n",
       "      <td>Monday</td>\n",
       "      <td>Delayed</td>\n",
       "    </tr>\n",
       "    <tr>\n",
       "      <th>19996</th>\n",
       "      <td>SHIP019997</td>\n",
       "      <td>MIA</td>\n",
       "      <td>NRT</td>\n",
       "      <td>655.74</td>\n",
       "      <td>42.92</td>\n",
       "      <td>1239.58</td>\n",
       "      <td>Air</td>\n",
       "      <td>FedEx</td>\n",
       "      <td>46</td>\n",
       "      <td>Yes</td>\n",
       "      <td>No</td>\n",
       "      <td>28</td>\n",
       "      <td>Foggy</td>\n",
       "      <td>Friday</td>\n",
       "      <td>On-Time</td>\n",
       "    </tr>\n",
       "    <tr>\n",
       "      <th>19997</th>\n",
       "      <td>SHIP019998</td>\n",
       "      <td>LAX</td>\n",
       "      <td>LHR</td>\n",
       "      <td>711.80</td>\n",
       "      <td>29.54</td>\n",
       "      <td>1345.55</td>\n",
       "      <td>Air</td>\n",
       "      <td>UPS</td>\n",
       "      <td>30</td>\n",
       "      <td>Yes</td>\n",
       "      <td>No</td>\n",
       "      <td>16</td>\n",
       "      <td>Clear</td>\n",
       "      <td>Monday</td>\n",
       "      <td>On-Time</td>\n",
       "    </tr>\n",
       "    <tr>\n",
       "      <th>19998</th>\n",
       "      <td>SHIP019999</td>\n",
       "      <td>DFW</td>\n",
       "      <td>HKG</td>\n",
       "      <td>147.04</td>\n",
       "      <td>4.38</td>\n",
       "      <td>277.96</td>\n",
       "      <td>Rail</td>\n",
       "      <td>FedEx</td>\n",
       "      <td>16</td>\n",
       "      <td>No</td>\n",
       "      <td>No</td>\n",
       "      <td>19</td>\n",
       "      <td>Clear</td>\n",
       "      <td>Thursday</td>\n",
       "      <td>On-Time</td>\n",
       "    </tr>\n",
       "    <tr>\n",
       "      <th>19999</th>\n",
       "      <td>SHIP020000</td>\n",
       "      <td>SFO</td>\n",
       "      <td>CDG</td>\n",
       "      <td>261.57</td>\n",
       "      <td>7.08</td>\n",
       "      <td>494.46</td>\n",
       "      <td>Rail</td>\n",
       "      <td>DHL</td>\n",
       "      <td>18</td>\n",
       "      <td>Yes</td>\n",
       "      <td>No</td>\n",
       "      <td>39</td>\n",
       "      <td>Clear</td>\n",
       "      <td>Friday</td>\n",
       "      <td>On-Time</td>\n",
       "    </tr>\n",
       "  </tbody>\n",
       "</table>\n",
       "<p>20000 rows × 15 columns</p>\n",
       "</div>"
      ],
      "text/plain": [
       "      Shipment ID Origin Airport Destination Airport  Shipment Weight (kg)  \\\n",
       "0      SHIP000001            SFO                 LHR                655.03   \n",
       "1      SHIP000002            ATL                 SIN                988.60   \n",
       "2      SHIP000003            DFW                 HKG                637.71   \n",
       "3      SHIP000004            SFO                 DXB                367.47   \n",
       "4      SHIP000005            ORD                 HKG                671.23   \n",
       "...           ...            ...                 ...                   ...   \n",
       "19995  SHIP019996            ATL                 DXB                158.99   \n",
       "19996  SHIP019997            MIA                 NRT                655.74   \n",
       "19997  SHIP019998            LAX                 LHR                711.80   \n",
       "19998  SHIP019999            DFW                 HKG                147.04   \n",
       "19999  SHIP020000            SFO                 CDG                261.57   \n",
       "\n",
       "       Shipment Volume (m³)  Freight Cost (USD) Mode of Transport  \\\n",
       "0                      7.80             1238.23               Air   \n",
       "1                     37.41             1868.80               Air   \n",
       "2                     10.53             1205.49               Air   \n",
       "3                      7.70              694.65              Rail   \n",
       "4                      3.59             1268.86               Air   \n",
       "...                     ...                 ...               ...   \n",
       "19995                 10.97              300.55               Air   \n",
       "19996                 42.92             1239.58               Air   \n",
       "19997                 29.54             1345.55               Air   \n",
       "19998                  4.38              277.96              Rail   \n",
       "19999                  7.08              494.46              Rail   \n",
       "\n",
       "          Carrier Name  Transit Time (hours) Temperature-Sensitive  \\\n",
       "0                  UPS                    16                    No   \n",
       "1      Lufthansa Cargo                    21                    No   \n",
       "2                FedEx                     6                    No   \n",
       "3                  DHL                    17                   Yes   \n",
       "4                  DHL                    36                    No   \n",
       "...                ...                   ...                   ...   \n",
       "19995              UPS                    36                   Yes   \n",
       "19996            FedEx                    46                   Yes   \n",
       "19997              UPS                    30                   Yes   \n",
       "19998            FedEx                    16                    No   \n",
       "19999              DHL                    18                   Yes   \n",
       "\n",
       "      Perishable Goods  Customs Clearance Time (hours) Weather Conditions  \\\n",
       "0                  Yes                               7              Clear   \n",
       "1                   No                               5              Clear   \n",
       "2                   No                              36              Clear   \n",
       "3                   No                              16              Rainy   \n",
       "4                   No                               3              Rainy   \n",
       "...                ...                             ...                ...   \n",
       "19995              Yes                              32              Clear   \n",
       "19996               No                              28              Foggy   \n",
       "19997               No                              16              Clear   \n",
       "19998               No                              19              Clear   \n",
       "19999               No                              39              Clear   \n",
       "\n",
       "      Day of Week Delay Status  \n",
       "0        Thursday      Delayed  \n",
       "1        Thursday      On-Time  \n",
       "2       Wednesday      On-Time  \n",
       "3          Sunday      On-Time  \n",
       "4          Friday      Delayed  \n",
       "...           ...          ...  \n",
       "19995      Monday      Delayed  \n",
       "19996      Friday      On-Time  \n",
       "19997      Monday      On-Time  \n",
       "19998    Thursday      On-Time  \n",
       "19999      Friday      On-Time  \n",
       "\n",
       "[20000 rows x 15 columns]"
      ]
     },
     "execution_count": 6,
     "metadata": {},
     "output_type": "execute_result"
    }
   ],
   "source": [
    "tb=pd.read_csv(r\"C:\\Users\\sirii\\Downloads\\air cargo supplychain (1).csv\")\n",
    "tb"
   ]
  },
  {
   "cell_type": "code",
   "execution_count": 7,
   "id": "1c8ed00b-2d12-41aa-8822-567b9d233959",
   "metadata": {},
   "outputs": [
    {
     "data": {
      "text/plain": [
       "(20000, 15)"
      ]
     },
     "execution_count": 7,
     "metadata": {},
     "output_type": "execute_result"
    }
   ],
   "source": [
    "tb.shape"
   ]
  },
  {
   "cell_type": "code",
   "execution_count": 8,
   "id": "e6e4ef68-50b2-437e-b99b-871df7a566fa",
   "metadata": {},
   "outputs": [
    {
     "data": {
      "text/plain": [
       "Shipment ID                       0\n",
       "Origin Airport                    0\n",
       "Destination Airport               0\n",
       "Shipment Weight (kg)              0\n",
       "Shipment Volume (m³)              0\n",
       "Freight Cost (USD)                0\n",
       "Mode of Transport                 0\n",
       "Carrier Name                      0\n",
       "Transit Time (hours)              0\n",
       "Temperature-Sensitive             0\n",
       "Perishable Goods                  0\n",
       "Customs Clearance Time (hours)    0\n",
       "Weather Conditions                0\n",
       "Day of Week                       0\n",
       "Delay Status                      0\n",
       "dtype: int64"
      ]
     },
     "execution_count": 8,
     "metadata": {},
     "output_type": "execute_result"
    }
   ],
   "source": [
    "tb.isnull().sum()"
   ]
  },
  {
   "cell_type": "code",
   "execution_count": 9,
   "id": "f945f445-58cb-49f7-943b-52a32e111f95",
   "metadata": {},
   "outputs": [
    {
     "name": "stdout",
     "output_type": "stream",
     "text": [
      "Duplicatesd rows: 0\n"
     ]
    }
   ],
   "source": [
    "duplicates=tb.duplicated().sum()\n",
    "\n",
    "print(\"Duplicatesd rows:\",duplicates)"
   ]
  },
  {
   "cell_type": "code",
   "execution_count": 11,
   "id": "eaad10c9-da85-4294-b151-59581a05f89b",
   "metadata": {},
   "outputs": [],
   "source": [
    "tb=tb.drop_duplicates()"
   ]
  },
  {
   "cell_type": "code",
   "execution_count": 74,
   "id": "bdff68c5-5144-40c2-a7c0-547e7cd2b131",
   "metadata": {},
   "outputs": [
    {
     "name": "stderr",
     "output_type": "stream",
     "text": [
      "C:\\Users\\sirii\\AppData\\Local\\Temp\\ipykernel_10208\\1617999984.py:2: FutureWarning: \n",
      "\n",
      "Passing `palette` without assigning `hue` is deprecated and will be removed in v0.14.0. Assign the `x` variable to `hue` and set `legend=False` for the same effect.\n",
      "\n",
      "  sns.countplot(x=\"On-Time\", data=tb, palette=\"coolwarm\")\n"
     ]
    },
    {
     "data": {
      "image/png": "[encoded data removed]",
      "text/plain": [
       "<Figure size 640x480 with 1 Axes>"
      ]
     },
     "metadata": {},
     "output_type": "display_data"
    },
    {
     "ename": "KeyError",
     "evalue": "'Delay Status'",
     "output_type": "error",
     "traceback": [
      "\u001b[1;31m---------------------------------------------------------------------------\u001b[0m",
      "\u001b[1;31mKeyError\u001b[0m                                  Traceback (most recent call last)",
      "File \u001b[1;32m~\\Downloads\\anaconda\\Lib\\site-packages\\pandas\\core\\indexes\\base.py:3805\u001b[0m, in \u001b[0;36mIndex.get_loc\u001b[1;34m(self, key)\u001b[0m\n\u001b[0;32m   3804\u001b[0m \u001b[38;5;28;01mtry\u001b[39;00m:\n\u001b[1;32m-> 3805\u001b[0m     \u001b[38;5;28;01mreturn\u001b[39;00m \u001b[38;5;28mself\u001b[39m\u001b[38;5;241m.\u001b[39m_engine\u001b[38;5;241m.\u001b[39mget_loc(casted_key)\n\u001b[0;32m   3806\u001b[0m \u001b[38;5;28;01mexcept\u001b[39;00m \u001b[38;5;167;01mKeyError\u001b[39;00m \u001b[38;5;28;01mas\u001b[39;00m err:\n",
      "File \u001b[1;32mindex.pyx:167\u001b[0m, in \u001b[0;36mpandas._libs.index.IndexEngine.get_loc\u001b[1;34m()\u001b[0m\n",
      "File \u001b[1;32mindex.pyx:196\u001b[0m, in \u001b[0;36mpandas._libs.index.IndexEngine.get_loc\u001b[1;34m()\u001b[0m\n",
      "File \u001b[1;32mpandas\\\\_libs\\\\hashtable_class_helper.pxi:7081\u001b[0m, in \u001b[0;36mpandas._libs.hashtable.PyObjectHashTable.get_item\u001b[1;34m()\u001b[0m\n",
      "File \u001b[1;32mpandas\\\\_libs\\\\hashtable_class_helper.pxi:7089\u001b[0m, in \u001b[0;36mpandas._libs.hashtable.PyObjectHashTable.get_item\u001b[1;34m()\u001b[0m\n",
      "\u001b[1;31mKeyError\u001b[0m: 'Delay Status'",
      "\nThe above exception was the direct cause of the following exception:\n",
      "\u001b[1;31mKeyError\u001b[0m                                  Traceback (most recent call last)",
      "Cell \u001b[1;32mIn[74], line 7\u001b[0m\n\u001b[0;32m      4\u001b[0m plt\u001b[38;5;241m.\u001b[39mshow()\n\u001b[0;32m      6\u001b[0m \u001b[38;5;66;03m# Print value counts\u001b[39;00m\n\u001b[1;32m----> 7\u001b[0m \u001b[38;5;28mprint\u001b[39m(tb[\u001b[38;5;124m\"\u001b[39m\u001b[38;5;124mDelay Status\u001b[39m\u001b[38;5;124m\"\u001b[39m]\u001b[38;5;241m.\u001b[39mvalue_counts(normalize\u001b[38;5;241m=\u001b[39m\u001b[38;5;28;01mTrue\u001b[39;00m))\n",
      "File \u001b[1;32m~\\Downloads\\anaconda\\Lib\\site-packages\\pandas\\core\\frame.py:4102\u001b[0m, in \u001b[0;36mDataFrame.__getitem__\u001b[1;34m(self, key)\u001b[0m\n\u001b[0;32m   4100\u001b[0m \u001b[38;5;28;01mif\u001b[39;00m \u001b[38;5;28mself\u001b[39m\u001b[38;5;241m.\u001b[39mcolumns\u001b[38;5;241m.\u001b[39mnlevels \u001b[38;5;241m>\u001b[39m \u001b[38;5;241m1\u001b[39m:\n\u001b[0;32m   4101\u001b[0m     \u001b[38;5;28;01mreturn\u001b[39;00m \u001b[38;5;28mself\u001b[39m\u001b[38;5;241m.\u001b[39m_getitem_multilevel(key)\n\u001b[1;32m-> 4102\u001b[0m indexer \u001b[38;5;241m=\u001b[39m \u001b[38;5;28mself\u001b[39m\u001b[38;5;241m.\u001b[39mcolumns\u001b[38;5;241m.\u001b[39mget_loc(key)\n\u001b[0;32m   4103\u001b[0m \u001b[38;5;28;01mif\u001b[39;00m is_integer(indexer):\n\u001b[0;32m   4104\u001b[0m     indexer \u001b[38;5;241m=\u001b[39m [indexer]\n",
      "File \u001b[1;32m~\\Downloads\\anaconda\\Lib\\site-packages\\pandas\\core\\indexes\\base.py:3812\u001b[0m, in \u001b[0;36mIndex.get_loc\u001b[1;34m(self, key)\u001b[0m\n\u001b[0;32m   3807\u001b[0m     \u001b[38;5;28;01mif\u001b[39;00m \u001b[38;5;28misinstance\u001b[39m(casted_key, \u001b[38;5;28mslice\u001b[39m) \u001b[38;5;129;01mor\u001b[39;00m (\n\u001b[0;32m   3808\u001b[0m         \u001b[38;5;28misinstance\u001b[39m(casted_key, abc\u001b[38;5;241m.\u001b[39mIterable)\n\u001b[0;32m   3809\u001b[0m         \u001b[38;5;129;01mand\u001b[39;00m \u001b[38;5;28many\u001b[39m(\u001b[38;5;28misinstance\u001b[39m(x, \u001b[38;5;28mslice\u001b[39m) \u001b[38;5;28;01mfor\u001b[39;00m x \u001b[38;5;129;01min\u001b[39;00m casted_key)\n\u001b[0;32m   3810\u001b[0m     ):\n\u001b[0;32m   3811\u001b[0m         \u001b[38;5;28;01mraise\u001b[39;00m InvalidIndexError(key)\n\u001b[1;32m-> 3812\u001b[0m     \u001b[38;5;28;01mraise\u001b[39;00m \u001b[38;5;167;01mKeyError\u001b[39;00m(key) \u001b[38;5;28;01mfrom\u001b[39;00m \u001b[38;5;21;01merr\u001b[39;00m\n\u001b[0;32m   3813\u001b[0m \u001b[38;5;28;01mexcept\u001b[39;00m \u001b[38;5;167;01mTypeError\u001b[39;00m:\n\u001b[0;32m   3814\u001b[0m     \u001b[38;5;66;03m# If we have a listlike key, _check_indexing_error will raise\u001b[39;00m\n\u001b[0;32m   3815\u001b[0m     \u001b[38;5;66;03m#  InvalidIndexError. Otherwise we fall through and re-raise\u001b[39;00m\n\u001b[0;32m   3816\u001b[0m     \u001b[38;5;66;03m#  the TypeError.\u001b[39;00m\n\u001b[0;32m   3817\u001b[0m     \u001b[38;5;28mself\u001b[39m\u001b[38;5;241m.\u001b[39m_check_indexing_error(key)\n",
      "\u001b[1;31mKeyError\u001b[0m: 'Delay Status'"
     ]
    }
   ],
   "source": [
    "# Check class distribution\n",
    "sns.countplot(x=\"On-Time\", data=tb, palette=\"coolwarm\")\n",
    "plt.title(\"Class Distribution of Delay Status\")\n",
    "plt.show()\n",
    "\n",
    "# Print value counts\n",
    "print(tb[\"Delay Status\"].value_counts(normalize=True))\n"
   ]
  },
  {
   "cell_type": "code",
   "execution_count": 12,
   "id": "46f8c136-dfd7-4467-8ee8-210221e0f2f1",
   "metadata": {},
   "outputs": [
    {
     "data": {
      "text/html": [
       "<div>\n",
       "<style scoped>\n",
       "    .dataframe tbody tr th:only-of-type {\n",
       "        vertical-align: middle;\n",
       "    }\n",
       "\n",
       "    .dataframe tbody tr th {\n",
       "        vertical-align: top;\n",
       "    }\n",
       "\n",
       "    .dataframe thead th {\n",
       "        text-align: right;\n",
       "    }\n",
       "</style>\n",
       "<table border=\"1\" class=\"dataframe\">\n",
       "  <thead>\n",
       "    <tr style=\"text-align: right;\">\n",
       "      <th></th>\n",
       "      <th>Shipment Weight (kg)</th>\n",
       "      <th>Shipment Volume (m³)</th>\n",
       "      <th>Freight Cost (USD)</th>\n",
       "      <th>Transit Time (hours)</th>\n",
       "      <th>Customs Clearance Time (hours)</th>\n",
       "    </tr>\n",
       "  </thead>\n",
       "  <tbody>\n",
       "    <tr>\n",
       "      <th>count</th>\n",
       "      <td>20000.000000</td>\n",
       "      <td>20000.000000</td>\n",
       "      <td>20000.000000</td>\n",
       "      <td>20000.000000</td>\n",
       "      <td>20000.000000</td>\n",
       "    </tr>\n",
       "    <tr>\n",
       "      <th>mean</th>\n",
       "      <td>505.966453</td>\n",
       "      <td>25.260027</td>\n",
       "      <td>956.452718</td>\n",
       "      <td>37.960850</td>\n",
       "      <td>24.121350</td>\n",
       "    </tr>\n",
       "    <tr>\n",
       "      <th>std</th>\n",
       "      <td>286.057561</td>\n",
       "      <td>14.388848</td>\n",
       "      <td>540.748364</td>\n",
       "      <td>19.416461</td>\n",
       "      <td>13.556833</td>\n",
       "    </tr>\n",
       "    <tr>\n",
       "      <th>min</th>\n",
       "      <td>10.020000</td>\n",
       "      <td>0.100000</td>\n",
       "      <td>18.940000</td>\n",
       "      <td>5.000000</td>\n",
       "      <td>1.000000</td>\n",
       "    </tr>\n",
       "    <tr>\n",
       "      <th>25%</th>\n",
       "      <td>261.167500</td>\n",
       "      <td>12.857500</td>\n",
       "      <td>493.697500</td>\n",
       "      <td>21.000000</td>\n",
       "      <td>12.000000</td>\n",
       "    </tr>\n",
       "    <tr>\n",
       "      <th>50%</th>\n",
       "      <td>505.990000</td>\n",
       "      <td>25.270000</td>\n",
       "      <td>956.495000</td>\n",
       "      <td>38.000000</td>\n",
       "      <td>24.000000</td>\n",
       "    </tr>\n",
       "    <tr>\n",
       "      <th>75%</th>\n",
       "      <td>754.390000</td>\n",
       "      <td>37.830000</td>\n",
       "      <td>1426.057500</td>\n",
       "      <td>55.000000</td>\n",
       "      <td>36.000000</td>\n",
       "    </tr>\n",
       "    <tr>\n",
       "      <th>max</th>\n",
       "      <td>999.970000</td>\n",
       "      <td>49.990000</td>\n",
       "      <td>1890.290000</td>\n",
       "      <td>71.000000</td>\n",
       "      <td>47.000000</td>\n",
       "    </tr>\n",
       "  </tbody>\n",
       "</table>\n",
       "</div>"
      ],
      "text/plain": [
       "       Shipment Weight (kg)  Shipment Volume (m³)  Freight Cost (USD)  \\\n",
       "count          20000.000000          20000.000000        20000.000000   \n",
       "mean             505.966453             25.260027          956.452718   \n",
       "std              286.057561             14.388848          540.748364   \n",
       "min               10.020000              0.100000           18.940000   \n",
       "25%              261.167500             12.857500          493.697500   \n",
       "50%              505.990000             25.270000          956.495000   \n",
       "75%              754.390000             37.830000         1426.057500   \n",
       "max              999.970000             49.990000         1890.290000   \n",
       "\n",
       "       Transit Time (hours)  Customs Clearance Time (hours)  \n",
       "count          20000.000000                    20000.000000  \n",
       "mean              37.960850                       24.121350  \n",
       "std               19.416461                       13.556833  \n",
       "min                5.000000                        1.000000  \n",
       "25%               21.000000                       12.000000  \n",
       "50%               38.000000                       24.000000  \n",
       "75%               55.000000                       36.000000  \n",
       "max               71.000000                       47.000000  "
      ]
     },
     "execution_count": 12,
     "metadata": {},
     "output_type": "execute_result"
    }
   ],
   "source": [
    "tb.describe()"
   ]
  },
  {
   "cell_type": "code",
   "execution_count": 13,
   "id": "606cd220-f4ab-44a8-8255-1181487d6084",
   "metadata": {
    "scrolled": true
   },
   "outputs": [
    {
     "data": {
      "text/plain": [
       "Shipment ID                        object\n",
       "Origin Airport                     object\n",
       "Destination Airport                object\n",
       "Shipment Weight (kg)              float64\n",
       "Shipment Volume (m³)              float64\n",
       "Freight Cost (USD)                float64\n",
       "Mode of Transport                  object\n",
       "Carrier Name                       object\n",
       "Transit Time (hours)                int64\n",
       "Temperature-Sensitive              object\n",
       "Perishable Goods                   object\n",
       "Customs Clearance Time (hours)      int64\n",
       "Weather Conditions                 object\n",
       "Day of Week                        object\n",
       "Delay Status                       object\n",
       "dtype: object"
      ]
     },
     "execution_count": 13,
     "metadata": {},
     "output_type": "execute_result"
    }
   ],
   "source": [
    "tb.dtypes"
   ]
  },
  {
   "cell_type": "code",
   "execution_count": 14,
   "id": "cf113a4d-b3b9-40aa-9809-17799d7c3208",
   "metadata": {},
   "outputs": [
    {
     "name": "stdout",
     "output_type": "stream",
     "text": [
      "<class 'pandas.core.frame.DataFrame'>\n",
      "RangeIndex: 20000 entries, 0 to 19999\n",
      "Data columns (total 15 columns):\n",
      " #   Column                          Non-Null Count  Dtype  \n",
      "---  ------                          --------------  -----  \n",
      " 0   Shipment ID                     20000 non-null  object \n",
      " 1   Origin Airport                  20000 non-null  object \n",
      " 2   Destination Airport             20000 non-null  object \n",
      " 3   Shipment Weight (kg)            20000 non-null  float64\n",
      " 4   Shipment Volume (m³)            20000 non-null  float64\n",
      " 5   Freight Cost (USD)              20000 non-null  float64\n",
      " 6   Mode of Transport               20000 non-null  object \n",
      " 7   Carrier Name                    20000 non-null  object \n",
      " 8   Transit Time (hours)            20000 non-null  int64  \n",
      " 9   Temperature-Sensitive           20000 non-null  object \n",
      " 10  Perishable Goods                20000 non-null  object \n",
      " 11  Customs Clearance Time (hours)  20000 non-null  int64  \n",
      " 12  Weather Conditions              20000 non-null  object \n",
      " 13  Day of Week                     20000 non-null  object \n",
      " 14  Delay Status                    20000 non-null  object \n",
      "dtypes: float64(3), int64(2), object(10)\n",
      "memory usage: 2.3+ MB\n"
     ]
    }
   ],
   "source": [
    "tb.info()"
   ]
  },
  {
   "cell_type": "code",
   "execution_count": 15,
   "id": "4530e9c9-2169-4df7-8ae8-535874e57b9e",
   "metadata": {},
   "outputs": [
    {
     "data": {
      "text/plain": [
       "<bound method DataFrame.info of       Shipment ID Origin Airport Destination Airport  Shipment Weight (kg)  \\\n",
       "0      SHIP000001            SFO                 LHR                655.03   \n",
       "1      SHIP000002            ATL                 SIN                988.60   \n",
       "2      SHIP000003            DFW                 HKG                637.71   \n",
       "3      SHIP000004            SFO                 DXB                367.47   \n",
       "4      SHIP000005            ORD                 HKG                671.23   \n",
       "...           ...            ...                 ...                   ...   \n",
       "19995  SHIP019996            ATL                 DXB                158.99   \n",
       "19996  SHIP019997            MIA                 NRT                655.74   \n",
       "19997  SHIP019998            LAX                 LHR                711.80   \n",
       "19998  SHIP019999            DFW                 HKG                147.04   \n",
       "19999  SHIP020000            SFO                 CDG                261.57   \n",
       "\n",
       "       Shipment Volume (m³)  Freight Cost (USD) Mode of Transport  \\\n",
       "0                      7.80             1238.23               Air   \n",
       "1                     37.41             1868.80               Air   \n",
       "2                     10.53             1205.49               Air   \n",
       "3                      7.70              694.65              Rail   \n",
       "4                      3.59             1268.86               Air   \n",
       "...                     ...                 ...               ...   \n",
       "19995                 10.97              300.55               Air   \n",
       "19996                 42.92             1239.58               Air   \n",
       "19997                 29.54             1345.55               Air   \n",
       "19998                  4.38              277.96              Rail   \n",
       "19999                  7.08              494.46              Rail   \n",
       "\n",
       "          Carrier Name  Transit Time (hours) Temperature-Sensitive  \\\n",
       "0                  UPS                    16                    No   \n",
       "1      Lufthansa Cargo                    21                    No   \n",
       "2                FedEx                     6                    No   \n",
       "3                  DHL                    17                   Yes   \n",
       "4                  DHL                    36                    No   \n",
       "...                ...                   ...                   ...   \n",
       "19995              UPS                    36                   Yes   \n",
       "19996            FedEx                    46                   Yes   \n",
       "19997              UPS                    30                   Yes   \n",
       "19998            FedEx                    16                    No   \n",
       "19999              DHL                    18                   Yes   \n",
       "\n",
       "      Perishable Goods  Customs Clearance Time (hours) Weather Conditions  \\\n",
       "0                  Yes                               7              Clear   \n",
       "1                   No                               5              Clear   \n",
       "2                   No                              36              Clear   \n",
       "3                   No                              16              Rainy   \n",
       "4                   No                               3              Rainy   \n",
       "...                ...                             ...                ...   \n",
       "19995              Yes                              32              Clear   \n",
       "19996               No                              28              Foggy   \n",
       "19997               No                              16              Clear   \n",
       "19998               No                              19              Clear   \n",
       "19999               No                              39              Clear   \n",
       "\n",
       "      Day of Week Delay Status  \n",
       "0        Thursday      Delayed  \n",
       "1        Thursday      On-Time  \n",
       "2       Wednesday      On-Time  \n",
       "3          Sunday      On-Time  \n",
       "4          Friday      Delayed  \n",
       "...           ...          ...  \n",
       "19995      Monday      Delayed  \n",
       "19996      Friday      On-Time  \n",
       "19997      Monday      On-Time  \n",
       "19998    Thursday      On-Time  \n",
       "19999      Friday      On-Time  \n",
       "\n",
       "[20000 rows x 15 columns]>"
      ]
     },
     "execution_count": 15,
     "metadata": {},
     "output_type": "execute_result"
    }
   ],
   "source": [
    "tb.info"
   ]
  },
  {
   "cell_type": "code",
   "execution_count": 16,
   "id": "77dd4071-6aba-439e-a001-847d6c131f6a",
   "metadata": {},
   "outputs": [
    {
     "data": {
      "text/plain": [
       "Shipment ID                       20000\n",
       "Origin Airport                        7\n",
       "Destination Airport                   7\n",
       "Shipment Weight (kg)              18158\n",
       "Shipment Volume (m³)               4898\n",
       "Freight Cost (USD)                18158\n",
       "Mode of Transport                     3\n",
       "Carrier Name                          5\n",
       "Transit Time (hours)                 67\n",
       "Temperature-Sensitive                 2\n",
       "Perishable Goods                      2\n",
       "Customs Clearance Time (hours)       47\n",
       "Weather Conditions                    4\n",
       "Day of Week                           7\n",
       "Delay Status                          2\n",
       "dtype: int64"
      ]
     },
     "execution_count": 16,
     "metadata": {},
     "output_type": "execute_result"
    }
   ],
   "source": [
    "tb.nunique()"
   ]
  },
  {
   "cell_type": "markdown",
   "id": "d40a70d6-b5f2-44b5-b21b-6715da1afc9d",
   "metadata": {},
   "source": [
    "### Encoding"
   ]
  },
  {
   "cell_type": "code",
   "execution_count": 17,
   "id": "4e06a8da-c66e-446f-845d-33e5e86faad9",
   "metadata": {},
   "outputs": [
    {
     "data": {
      "text/html": [
       "<div>\n",
       "<style scoped>\n",
       "    .dataframe tbody tr th:only-of-type {\n",
       "        vertical-align: middle;\n",
       "    }\n",
       "\n",
       "    .dataframe tbody tr th {\n",
       "        vertical-align: top;\n",
       "    }\n",
       "\n",
       "    .dataframe thead th {\n",
       "        text-align: right;\n",
       "    }\n",
       "</style>\n",
       "<table border=\"1\" class=\"dataframe\">\n",
       "  <thead>\n",
       "    <tr style=\"text-align: right;\">\n",
       "      <th></th>\n",
       "      <th>Shipment ID</th>\n",
       "      <th>Origin Airport</th>\n",
       "      <th>Destination Airport</th>\n",
       "      <th>Shipment Weight (kg)</th>\n",
       "      <th>Shipment Volume (m³)</th>\n",
       "      <th>Freight Cost (USD)</th>\n",
       "      <th>Mode of Transport</th>\n",
       "      <th>Carrier Name</th>\n",
       "      <th>Transit Time (hours)</th>\n",
       "      <th>Temperature-Sensitive</th>\n",
       "      <th>Perishable Goods</th>\n",
       "      <th>Customs Clearance Time (hours)</th>\n",
       "      <th>Weather Conditions</th>\n",
       "      <th>Day of Week</th>\n",
       "      <th>Delay Status</th>\n",
       "    </tr>\n",
       "  </thead>\n",
       "  <tbody>\n",
       "    <tr>\n",
       "      <th>0</th>\n",
       "      <td>SHIP000001</td>\n",
       "      <td>SFO</td>\n",
       "      <td>LHR</td>\n",
       "      <td>655.03</td>\n",
       "      <td>7.80</td>\n",
       "      <td>1238.23</td>\n",
       "      <td>Air</td>\n",
       "      <td>UPS</td>\n",
       "      <td>16</td>\n",
       "      <td>No</td>\n",
       "      <td>Yes</td>\n",
       "      <td>7</td>\n",
       "      <td>Clear</td>\n",
       "      <td>Thursday</td>\n",
       "      <td>Delayed</td>\n",
       "    </tr>\n",
       "    <tr>\n",
       "      <th>1</th>\n",
       "      <td>SHIP000002</td>\n",
       "      <td>ATL</td>\n",
       "      <td>SIN</td>\n",
       "      <td>988.60</td>\n",
       "      <td>37.41</td>\n",
       "      <td>1868.80</td>\n",
       "      <td>Air</td>\n",
       "      <td>Lufthansa Cargo</td>\n",
       "      <td>21</td>\n",
       "      <td>No</td>\n",
       "      <td>No</td>\n",
       "      <td>5</td>\n",
       "      <td>Clear</td>\n",
       "      <td>Thursday</td>\n",
       "      <td>On-Time</td>\n",
       "    </tr>\n",
       "    <tr>\n",
       "      <th>2</th>\n",
       "      <td>SHIP000003</td>\n",
       "      <td>DFW</td>\n",
       "      <td>HKG</td>\n",
       "      <td>637.71</td>\n",
       "      <td>10.53</td>\n",
       "      <td>1205.49</td>\n",
       "      <td>Air</td>\n",
       "      <td>FedEx</td>\n",
       "      <td>6</td>\n",
       "      <td>No</td>\n",
       "      <td>No</td>\n",
       "      <td>36</td>\n",
       "      <td>Clear</td>\n",
       "      <td>Wednesday</td>\n",
       "      <td>On-Time</td>\n",
       "    </tr>\n",
       "    <tr>\n",
       "      <th>3</th>\n",
       "      <td>SHIP000004</td>\n",
       "      <td>SFO</td>\n",
       "      <td>DXB</td>\n",
       "      <td>367.47</td>\n",
       "      <td>7.70</td>\n",
       "      <td>694.65</td>\n",
       "      <td>Rail</td>\n",
       "      <td>DHL</td>\n",
       "      <td>17</td>\n",
       "      <td>Yes</td>\n",
       "      <td>No</td>\n",
       "      <td>16</td>\n",
       "      <td>Rainy</td>\n",
       "      <td>Sunday</td>\n",
       "      <td>On-Time</td>\n",
       "    </tr>\n",
       "    <tr>\n",
       "      <th>4</th>\n",
       "      <td>SHIP000005</td>\n",
       "      <td>ORD</td>\n",
       "      <td>HKG</td>\n",
       "      <td>671.23</td>\n",
       "      <td>3.59</td>\n",
       "      <td>1268.86</td>\n",
       "      <td>Air</td>\n",
       "      <td>DHL</td>\n",
       "      <td>36</td>\n",
       "      <td>No</td>\n",
       "      <td>No</td>\n",
       "      <td>3</td>\n",
       "      <td>Rainy</td>\n",
       "      <td>Friday</td>\n",
       "      <td>Delayed</td>\n",
       "    </tr>\n",
       "    <tr>\n",
       "      <th>...</th>\n",
       "      <td>...</td>\n",
       "      <td>...</td>\n",
       "      <td>...</td>\n",
       "      <td>...</td>\n",
       "      <td>...</td>\n",
       "      <td>...</td>\n",
       "      <td>...</td>\n",
       "      <td>...</td>\n",
       "      <td>...</td>\n",
       "      <td>...</td>\n",
       "      <td>...</td>\n",
       "      <td>...</td>\n",
       "      <td>...</td>\n",
       "      <td>...</td>\n",
       "      <td>...</td>\n",
       "    </tr>\n",
       "    <tr>\n",
       "      <th>19995</th>\n",
       "      <td>SHIP019996</td>\n",
       "      <td>ATL</td>\n",
       "      <td>DXB</td>\n",
       "      <td>158.99</td>\n",
       "      <td>10.97</td>\n",
       "      <td>300.55</td>\n",
       "      <td>Air</td>\n",
       "      <td>UPS</td>\n",
       "      <td>36</td>\n",
       "      <td>Yes</td>\n",
       "      <td>Yes</td>\n",
       "      <td>32</td>\n",
       "      <td>Clear</td>\n",
       "      <td>Monday</td>\n",
       "      <td>Delayed</td>\n",
       "    </tr>\n",
       "    <tr>\n",
       "      <th>19996</th>\n",
       "      <td>SHIP019997</td>\n",
       "      <td>MIA</td>\n",
       "      <td>NRT</td>\n",
       "      <td>655.74</td>\n",
       "      <td>42.92</td>\n",
       "      <td>1239.58</td>\n",
       "      <td>Air</td>\n",
       "      <td>FedEx</td>\n",
       "      <td>46</td>\n",
       "      <td>Yes</td>\n",
       "      <td>No</td>\n",
       "      <td>28</td>\n",
       "      <td>Foggy</td>\n",
       "      <td>Friday</td>\n",
       "      <td>On-Time</td>\n",
       "    </tr>\n",
       "    <tr>\n",
       "      <th>19997</th>\n",
       "      <td>SHIP019998</td>\n",
       "      <td>LAX</td>\n",
       "      <td>LHR</td>\n",
       "      <td>711.80</td>\n",
       "      <td>29.54</td>\n",
       "      <td>1345.55</td>\n",
       "      <td>Air</td>\n",
       "      <td>UPS</td>\n",
       "      <td>30</td>\n",
       "      <td>Yes</td>\n",
       "      <td>No</td>\n",
       "      <td>16</td>\n",
       "      <td>Clear</td>\n",
       "      <td>Monday</td>\n",
       "      <td>On-Time</td>\n",
       "    </tr>\n",
       "    <tr>\n",
       "      <th>19998</th>\n",
       "      <td>SHIP019999</td>\n",
       "      <td>DFW</td>\n",
       "      <td>HKG</td>\n",
       "      <td>147.04</td>\n",
       "      <td>4.38</td>\n",
       "      <td>277.96</td>\n",
       "      <td>Rail</td>\n",
       "      <td>FedEx</td>\n",
       "      <td>16</td>\n",
       "      <td>No</td>\n",
       "      <td>No</td>\n",
       "      <td>19</td>\n",
       "      <td>Clear</td>\n",
       "      <td>Thursday</td>\n",
       "      <td>On-Time</td>\n",
       "    </tr>\n",
       "    <tr>\n",
       "      <th>19999</th>\n",
       "      <td>SHIP020000</td>\n",
       "      <td>SFO</td>\n",
       "      <td>CDG</td>\n",
       "      <td>261.57</td>\n",
       "      <td>7.08</td>\n",
       "      <td>494.46</td>\n",
       "      <td>Rail</td>\n",
       "      <td>DHL</td>\n",
       "      <td>18</td>\n",
       "      <td>Yes</td>\n",
       "      <td>No</td>\n",
       "      <td>39</td>\n",
       "      <td>Clear</td>\n",
       "      <td>Friday</td>\n",
       "      <td>On-Time</td>\n",
       "    </tr>\n",
       "  </tbody>\n",
       "</table>\n",
       "<p>20000 rows × 15 columns</p>\n",
       "</div>"
      ],
      "text/plain": [
       "      Shipment ID Origin Airport Destination Airport  Shipment Weight (kg)  \\\n",
       "0      SHIP000001            SFO                 LHR                655.03   \n",
       "1      SHIP000002            ATL                 SIN                988.60   \n",
       "2      SHIP000003            DFW                 HKG                637.71   \n",
       "3      SHIP000004            SFO                 DXB                367.47   \n",
       "4      SHIP000005            ORD                 HKG                671.23   \n",
       "...           ...            ...                 ...                   ...   \n",
       "19995  SHIP019996            ATL                 DXB                158.99   \n",
       "19996  SHIP019997            MIA                 NRT                655.74   \n",
       "19997  SHIP019998            LAX                 LHR                711.80   \n",
       "19998  SHIP019999            DFW                 HKG                147.04   \n",
       "19999  SHIP020000            SFO                 CDG                261.57   \n",
       "\n",
       "       Shipment Volume (m³)  Freight Cost (USD) Mode of Transport  \\\n",
       "0                      7.80             1238.23               Air   \n",
       "1                     37.41             1868.80               Air   \n",
       "2                     10.53             1205.49               Air   \n",
       "3                      7.70              694.65              Rail   \n",
       "4                      3.59             1268.86               Air   \n",
       "...                     ...                 ...               ...   \n",
       "19995                 10.97              300.55               Air   \n",
       "19996                 42.92             1239.58               Air   \n",
       "19997                 29.54             1345.55               Air   \n",
       "19998                  4.38              277.96              Rail   \n",
       "19999                  7.08              494.46              Rail   \n",
       "\n",
       "          Carrier Name  Transit Time (hours) Temperature-Sensitive  \\\n",
       "0                  UPS                    16                    No   \n",
       "1      Lufthansa Cargo                    21                    No   \n",
       "2                FedEx                     6                    No   \n",
       "3                  DHL                    17                   Yes   \n",
       "4                  DHL                    36                    No   \n",
       "...                ...                   ...                   ...   \n",
       "19995              UPS                    36                   Yes   \n",
       "19996            FedEx                    46                   Yes   \n",
       "19997              UPS                    30                   Yes   \n",
       "19998            FedEx                    16                    No   \n",
       "19999              DHL                    18                   Yes   \n",
       "\n",
       "      Perishable Goods  Customs Clearance Time (hours) Weather Conditions  \\\n",
       "0                  Yes                               7              Clear   \n",
       "1                   No                               5              Clear   \n",
       "2                   No                              36              Clear   \n",
       "3                   No                              16              Rainy   \n",
       "4                   No                               3              Rainy   \n",
       "...                ...                             ...                ...   \n",
       "19995              Yes                              32              Clear   \n",
       "19996               No                              28              Foggy   \n",
       "19997               No                              16              Clear   \n",
       "19998               No                              19              Clear   \n",
       "19999               No                              39              Clear   \n",
       "\n",
       "      Day of Week Delay Status  \n",
       "0        Thursday      Delayed  \n",
       "1        Thursday      On-Time  \n",
       "2       Wednesday      On-Time  \n",
       "3          Sunday      On-Time  \n",
       "4          Friday      Delayed  \n",
       "...           ...          ...  \n",
       "19995      Monday      Delayed  \n",
       "19996      Friday      On-Time  \n",
       "19997      Monday      On-Time  \n",
       "19998    Thursday      On-Time  \n",
       "19999      Friday      On-Time  \n",
       "\n",
       "[20000 rows x 15 columns]"
      ]
     },
     "execution_count": 17,
     "metadata": {},
     "output_type": "execute_result"
    }
   ],
   "source": [
    "tb"
   ]
  },
  {
   "cell_type": "code",
   "execution_count": 18,
   "id": "b8bb16da-ba9a-4cea-ad92-844e0808ba6c",
   "metadata": {},
   "outputs": [
    {
     "data": {
      "text/plain": [
       "Shipment ID                        object\n",
       "Origin Airport                     object\n",
       "Destination Airport                object\n",
       "Shipment Weight (kg)              float64\n",
       "Shipment Volume (m³)              float64\n",
       "Freight Cost (USD)                float64\n",
       "Mode of Transport                  object\n",
       "Carrier Name                       object\n",
       "Transit Time (hours)                int64\n",
       "Temperature-Sensitive              object\n",
       "Perishable Goods                   object\n",
       "Customs Clearance Time (hours)      int64\n",
       "Weather Conditions                 object\n",
       "Day of Week                        object\n",
       "Delay Status                       object\n",
       "dtype: object"
      ]
     },
     "execution_count": 18,
     "metadata": {},
     "output_type": "execute_result"
    }
   ],
   "source": [
    "tb.dtypes"
   ]
  },
  {
   "cell_type": "code",
   "execution_count": 19,
   "id": "6e32d05e-ff4f-4a3c-8bb5-22a5a8caa26f",
   "metadata": {
    "scrolled": true
   },
   "outputs": [
    {
     "data": {
      "text/html": [
       "<div>\n",
       "<style scoped>\n",
       "    .dataframe tbody tr th:only-of-type {\n",
       "        vertical-align: middle;\n",
       "    }\n",
       "\n",
       "    .dataframe tbody tr th {\n",
       "        vertical-align: top;\n",
       "    }\n",
       "\n",
       "    .dataframe thead th {\n",
       "        text-align: right;\n",
       "    }\n",
       "</style>\n",
       "<table border=\"1\" class=\"dataframe\">\n",
       "  <thead>\n",
       "    <tr style=\"text-align: right;\">\n",
       "      <th></th>\n",
       "      <th>Origin Airport</th>\n",
       "      <th>Destination Airport</th>\n",
       "      <th>Shipment Weight (kg)</th>\n",
       "      <th>Shipment Volume (m³)</th>\n",
       "      <th>Freight Cost (USD)</th>\n",
       "      <th>Mode of Transport</th>\n",
       "      <th>Carrier Name</th>\n",
       "      <th>Transit Time (hours)</th>\n",
       "      <th>Temperature-Sensitive</th>\n",
       "      <th>Perishable Goods</th>\n",
       "      <th>Customs Clearance Time (hours)</th>\n",
       "      <th>Weather Conditions</th>\n",
       "      <th>Day of Week</th>\n",
       "      <th>Delay Status</th>\n",
       "    </tr>\n",
       "  </thead>\n",
       "  <tbody>\n",
       "    <tr>\n",
       "      <th>0</th>\n",
       "      <td>SFO</td>\n",
       "      <td>LHR</td>\n",
       "      <td>655.03</td>\n",
       "      <td>7.80</td>\n",
       "      <td>1238.23</td>\n",
       "      <td>Air</td>\n",
       "      <td>UPS</td>\n",
       "      <td>16</td>\n",
       "      <td>No</td>\n",
       "      <td>Yes</td>\n",
       "      <td>7</td>\n",
       "      <td>Clear</td>\n",
       "      <td>Thursday</td>\n",
       "      <td>Delayed</td>\n",
       "    </tr>\n",
       "    <tr>\n",
       "      <th>1</th>\n",
       "      <td>ATL</td>\n",
       "      <td>SIN</td>\n",
       "      <td>988.60</td>\n",
       "      <td>37.41</td>\n",
       "      <td>1868.80</td>\n",
       "      <td>Air</td>\n",
       "      <td>Lufthansa Cargo</td>\n",
       "      <td>21</td>\n",
       "      <td>No</td>\n",
       "      <td>No</td>\n",
       "      <td>5</td>\n",
       "      <td>Clear</td>\n",
       "      <td>Thursday</td>\n",
       "      <td>On-Time</td>\n",
       "    </tr>\n",
       "    <tr>\n",
       "      <th>2</th>\n",
       "      <td>DFW</td>\n",
       "      <td>HKG</td>\n",
       "      <td>637.71</td>\n",
       "      <td>10.53</td>\n",
       "      <td>1205.49</td>\n",
       "      <td>Air</td>\n",
       "      <td>FedEx</td>\n",
       "      <td>6</td>\n",
       "      <td>No</td>\n",
       "      <td>No</td>\n",
       "      <td>36</td>\n",
       "      <td>Clear</td>\n",
       "      <td>Wednesday</td>\n",
       "      <td>On-Time</td>\n",
       "    </tr>\n",
       "    <tr>\n",
       "      <th>3</th>\n",
       "      <td>SFO</td>\n",
       "      <td>DXB</td>\n",
       "      <td>367.47</td>\n",
       "      <td>7.70</td>\n",
       "      <td>694.65</td>\n",
       "      <td>Rail</td>\n",
       "      <td>DHL</td>\n",
       "      <td>17</td>\n",
       "      <td>Yes</td>\n",
       "      <td>No</td>\n",
       "      <td>16</td>\n",
       "      <td>Rainy</td>\n",
       "      <td>Sunday</td>\n",
       "      <td>On-Time</td>\n",
       "    </tr>\n",
       "    <tr>\n",
       "      <th>4</th>\n",
       "      <td>ORD</td>\n",
       "      <td>HKG</td>\n",
       "      <td>671.23</td>\n",
       "      <td>3.59</td>\n",
       "      <td>1268.86</td>\n",
       "      <td>Air</td>\n",
       "      <td>DHL</td>\n",
       "      <td>36</td>\n",
       "      <td>No</td>\n",
       "      <td>No</td>\n",
       "      <td>3</td>\n",
       "      <td>Rainy</td>\n",
       "      <td>Friday</td>\n",
       "      <td>Delayed</td>\n",
       "    </tr>\n",
       "    <tr>\n",
       "      <th>...</th>\n",
       "      <td>...</td>\n",
       "      <td>...</td>\n",
       "      <td>...</td>\n",
       "      <td>...</td>\n",
       "      <td>...</td>\n",
       "      <td>...</td>\n",
       "      <td>...</td>\n",
       "      <td>...</td>\n",
       "      <td>...</td>\n",
       "      <td>...</td>\n",
       "      <td>...</td>\n",
       "      <td>...</td>\n",
       "      <td>...</td>\n",
       "      <td>...</td>\n",
       "    </tr>\n",
       "    <tr>\n",
       "      <th>19995</th>\n",
       "      <td>ATL</td>\n",
       "      <td>DXB</td>\n",
       "      <td>158.99</td>\n",
       "      <td>10.97</td>\n",
       "      <td>300.55</td>\n",
       "      <td>Air</td>\n",
       "      <td>UPS</td>\n",
       "      <td>36</td>\n",
       "      <td>Yes</td>\n",
       "      <td>Yes</td>\n",
       "      <td>32</td>\n",
       "      <td>Clear</td>\n",
       "      <td>Monday</td>\n",
       "      <td>Delayed</td>\n",
       "    </tr>\n",
       "    <tr>\n",
       "      <th>19996</th>\n",
       "      <td>MIA</td>\n",
       "      <td>NRT</td>\n",
       "      <td>655.74</td>\n",
       "      <td>42.92</td>\n",
       "      <td>1239.58</td>\n",
       "      <td>Air</td>\n",
       "      <td>FedEx</td>\n",
       "      <td>46</td>\n",
       "      <td>Yes</td>\n",
       "      <td>No</td>\n",
       "      <td>28</td>\n",
       "      <td>Foggy</td>\n",
       "      <td>Friday</td>\n",
       "      <td>On-Time</td>\n",
       "    </tr>\n",
       "    <tr>\n",
       "      <th>19997</th>\n",
       "      <td>LAX</td>\n",
       "      <td>LHR</td>\n",
       "      <td>711.80</td>\n",
       "      <td>29.54</td>\n",
       "      <td>1345.55</td>\n",
       "      <td>Air</td>\n",
       "      <td>UPS</td>\n",
       "      <td>30</td>\n",
       "      <td>Yes</td>\n",
       "      <td>No</td>\n",
       "      <td>16</td>\n",
       "      <td>Clear</td>\n",
       "      <td>Monday</td>\n",
       "      <td>On-Time</td>\n",
       "    </tr>\n",
       "    <tr>\n",
       "      <th>19998</th>\n",
       "      <td>DFW</td>\n",
       "      <td>HKG</td>\n",
       "      <td>147.04</td>\n",
       "      <td>4.38</td>\n",
       "      <td>277.96</td>\n",
       "      <td>Rail</td>\n",
       "      <td>FedEx</td>\n",
       "      <td>16</td>\n",
       "      <td>No</td>\n",
       "      <td>No</td>\n",
       "      <td>19</td>\n",
       "      <td>Clear</td>\n",
       "      <td>Thursday</td>\n",
       "      <td>On-Time</td>\n",
       "    </tr>\n",
       "    <tr>\n",
       "      <th>19999</th>\n",
       "      <td>SFO</td>\n",
       "      <td>CDG</td>\n",
       "      <td>261.57</td>\n",
       "      <td>7.08</td>\n",
       "      <td>494.46</td>\n",
       "      <td>Rail</td>\n",
       "      <td>DHL</td>\n",
       "      <td>18</td>\n",
       "      <td>Yes</td>\n",
       "      <td>No</td>\n",
       "      <td>39</td>\n",
       "      <td>Clear</td>\n",
       "      <td>Friday</td>\n",
       "      <td>On-Time</td>\n",
       "    </tr>\n",
       "  </tbody>\n",
       "</table>\n",
       "<p>20000 rows × 14 columns</p>\n",
       "</div>"
      ],
      "text/plain": [
       "      Origin Airport Destination Airport  Shipment Weight (kg)  \\\n",
       "0                SFO                 LHR                655.03   \n",
       "1                ATL                 SIN                988.60   \n",
       "2                DFW                 HKG                637.71   \n",
       "3                SFO                 DXB                367.47   \n",
       "4                ORD                 HKG                671.23   \n",
       "...              ...                 ...                   ...   \n",
       "19995            ATL                 DXB                158.99   \n",
       "19996            MIA                 NRT                655.74   \n",
       "19997            LAX                 LHR                711.80   \n",
       "19998            DFW                 HKG                147.04   \n",
       "19999            SFO                 CDG                261.57   \n",
       "\n",
       "       Shipment Volume (m³)  Freight Cost (USD) Mode of Transport  \\\n",
       "0                      7.80             1238.23               Air   \n",
       "1                     37.41             1868.80               Air   \n",
       "2                     10.53             1205.49               Air   \n",
       "3                      7.70              694.65              Rail   \n",
       "4                      3.59             1268.86               Air   \n",
       "...                     ...                 ...               ...   \n",
       "19995                 10.97              300.55               Air   \n",
       "19996                 42.92             1239.58               Air   \n",
       "19997                 29.54             1345.55               Air   \n",
       "19998                  4.38              277.96              Rail   \n",
       "19999                  7.08              494.46              Rail   \n",
       "\n",
       "          Carrier Name  Transit Time (hours) Temperature-Sensitive  \\\n",
       "0                  UPS                    16                    No   \n",
       "1      Lufthansa Cargo                    21                    No   \n",
       "2                FedEx                     6                    No   \n",
       "3                  DHL                    17                   Yes   \n",
       "4                  DHL                    36                    No   \n",
       "...                ...                   ...                   ...   \n",
       "19995              UPS                    36                   Yes   \n",
       "19996            FedEx                    46                   Yes   \n",
       "19997              UPS                    30                   Yes   \n",
       "19998            FedEx                    16                    No   \n",
       "19999              DHL                    18                   Yes   \n",
       "\n",
       "      Perishable Goods  Customs Clearance Time (hours) Weather Conditions  \\\n",
       "0                  Yes                               7              Clear   \n",
       "1                   No                               5              Clear   \n",
       "2                   No                              36              Clear   \n",
       "3                   No                              16              Rainy   \n",
       "4                   No                               3              Rainy   \n",
       "...                ...                             ...                ...   \n",
       "19995              Yes                              32              Clear   \n",
       "19996               No                              28              Foggy   \n",
       "19997               No                              16              Clear   \n",
       "19998               No                              19              Clear   \n",
       "19999               No                              39              Clear   \n",
       "\n",
       "      Day of Week Delay Status  \n",
       "0        Thursday      Delayed  \n",
       "1        Thursday      On-Time  \n",
       "2       Wednesday      On-Time  \n",
       "3          Sunday      On-Time  \n",
       "4          Friday      Delayed  \n",
       "...           ...          ...  \n",
       "19995      Monday      Delayed  \n",
       "19996      Friday      On-Time  \n",
       "19997      Monday      On-Time  \n",
       "19998    Thursday      On-Time  \n",
       "19999      Friday      On-Time  \n",
       "\n",
       "[20000 rows x 14 columns]"
      ]
     },
     "execution_count": 19,
     "metadata": {},
     "output_type": "execute_result"
    }
   ],
   "source": [
    "tb.drop(columns=[\"Shipment ID\"],inplace=True)\n",
    "tb"
   ]
  },
  {
   "cell_type": "code",
   "execution_count": 21,
   "id": "ba623b38-3f63-461f-88f9-3c771729834d",
   "metadata": {},
   "outputs": [
    {
     "data": {
      "text/html": [
       "<div>\n",
       "<style scoped>\n",
       "    .dataframe tbody tr th:only-of-type {\n",
       "        vertical-align: middle;\n",
       "    }\n",
       "\n",
       "    .dataframe tbody tr th {\n",
       "        vertical-align: top;\n",
       "    }\n",
       "\n",
       "    .dataframe thead th {\n",
       "        text-align: right;\n",
       "    }\n",
       "</style>\n",
       "<table border=\"1\" class=\"dataframe\">\n",
       "  <thead>\n",
       "    <tr style=\"text-align: right;\">\n",
       "      <th></th>\n",
       "      <th>DFW</th>\n",
       "      <th>JFK</th>\n",
       "      <th>LAX</th>\n",
       "      <th>MIA</th>\n",
       "      <th>ORD</th>\n",
       "      <th>SFO</th>\n",
       "    </tr>\n",
       "  </thead>\n",
       "  <tbody>\n",
       "    <tr>\n",
       "      <th>0</th>\n",
       "      <td>False</td>\n",
       "      <td>False</td>\n",
       "      <td>False</td>\n",
       "      <td>False</td>\n",
       "      <td>False</td>\n",
       "      <td>True</td>\n",
       "    </tr>\n",
       "    <tr>\n",
       "      <th>1</th>\n",
       "      <td>False</td>\n",
       "      <td>False</td>\n",
       "      <td>False</td>\n",
       "      <td>False</td>\n",
       "      <td>False</td>\n",
       "      <td>False</td>\n",
       "    </tr>\n",
       "    <tr>\n",
       "      <th>2</th>\n",
       "      <td>True</td>\n",
       "      <td>False</td>\n",
       "      <td>False</td>\n",
       "      <td>False</td>\n",
       "      <td>False</td>\n",
       "      <td>False</td>\n",
       "    </tr>\n",
       "    <tr>\n",
       "      <th>3</th>\n",
       "      <td>False</td>\n",
       "      <td>False</td>\n",
       "      <td>False</td>\n",
       "      <td>False</td>\n",
       "      <td>False</td>\n",
       "      <td>True</td>\n",
       "    </tr>\n",
       "    <tr>\n",
       "      <th>4</th>\n",
       "      <td>False</td>\n",
       "      <td>False</td>\n",
       "      <td>False</td>\n",
       "      <td>False</td>\n",
       "      <td>True</td>\n",
       "      <td>False</td>\n",
       "    </tr>\n",
       "    <tr>\n",
       "      <th>...</th>\n",
       "      <td>...</td>\n",
       "      <td>...</td>\n",
       "      <td>...</td>\n",
       "      <td>...</td>\n",
       "      <td>...</td>\n",
       "      <td>...</td>\n",
       "    </tr>\n",
       "    <tr>\n",
       "      <th>19995</th>\n",
       "      <td>False</td>\n",
       "      <td>False</td>\n",
       "      <td>False</td>\n",
       "      <td>False</td>\n",
       "      <td>False</td>\n",
       "      <td>False</td>\n",
       "    </tr>\n",
       "    <tr>\n",
       "      <th>19996</th>\n",
       "      <td>False</td>\n",
       "      <td>False</td>\n",
       "      <td>False</td>\n",
       "      <td>True</td>\n",
       "      <td>False</td>\n",
       "      <td>False</td>\n",
       "    </tr>\n",
       "    <tr>\n",
       "      <th>19997</th>\n",
       "      <td>False</td>\n",
       "      <td>False</td>\n",
       "      <td>True</td>\n",
       "      <td>False</td>\n",
       "      <td>False</td>\n",
       "      <td>False</td>\n",
       "    </tr>\n",
       "    <tr>\n",
       "      <th>19998</th>\n",
       "      <td>True</td>\n",
       "      <td>False</td>\n",
       "      <td>False</td>\n",
       "      <td>False</td>\n",
       "      <td>False</td>\n",
       "      <td>False</td>\n",
       "    </tr>\n",
       "    <tr>\n",
       "      <th>19999</th>\n",
       "      <td>False</td>\n",
       "      <td>False</td>\n",
       "      <td>False</td>\n",
       "      <td>False</td>\n",
       "      <td>False</td>\n",
       "      <td>True</td>\n",
       "    </tr>\n",
       "  </tbody>\n",
       "</table>\n",
       "<p>20000 rows × 6 columns</p>\n",
       "</div>"
      ],
      "text/plain": [
       "         DFW    JFK    LAX    MIA    ORD    SFO\n",
       "0      False  False  False  False  False   True\n",
       "1      False  False  False  False  False  False\n",
       "2       True  False  False  False  False  False\n",
       "3      False  False  False  False  False   True\n",
       "4      False  False  False  False   True  False\n",
       "...      ...    ...    ...    ...    ...    ...\n",
       "19995  False  False  False  False  False  False\n",
       "19996  False  False  False   True  False  False\n",
       "19997  False  False   True  False  False  False\n",
       "19998   True  False  False  False  False  False\n",
       "19999  False  False  False  False  False   True\n",
       "\n",
       "[20000 rows x 6 columns]"
      ]
     },
     "execution_count": 21,
     "metadata": {},
     "output_type": "execute_result"
    }
   ],
   "source": [
    "airport=pd.get_dummies(tb[\"Origin Airport\"],drop_first=True)\n",
    "airport"
   ]
  },
  {
   "cell_type": "code",
   "execution_count": 22,
   "id": "f92a241f-7b2f-4d4c-811f-751ef6417838",
   "metadata": {},
   "outputs": [
    {
     "data": {
      "text/html": [
       "<div>\n",
       "<style scoped>\n",
       "    .dataframe tbody tr th:only-of-type {\n",
       "        vertical-align: middle;\n",
       "    }\n",
       "\n",
       "    .dataframe tbody tr th {\n",
       "        vertical-align: top;\n",
       "    }\n",
       "\n",
       "    .dataframe thead th {\n",
       "        text-align: right;\n",
       "    }\n",
       "</style>\n",
       "<table border=\"1\" class=\"dataframe\">\n",
       "  <thead>\n",
       "    <tr style=\"text-align: right;\">\n",
       "      <th></th>\n",
       "      <th>DFW</th>\n",
       "      <th>JFK</th>\n",
       "      <th>LAX</th>\n",
       "      <th>MIA</th>\n",
       "      <th>ORD</th>\n",
       "      <th>SFO</th>\n",
       "    </tr>\n",
       "  </thead>\n",
       "  <tbody>\n",
       "    <tr>\n",
       "      <th>0</th>\n",
       "      <td>0</td>\n",
       "      <td>0</td>\n",
       "      <td>0</td>\n",
       "      <td>0</td>\n",
       "      <td>0</td>\n",
       "      <td>1</td>\n",
       "    </tr>\n",
       "    <tr>\n",
       "      <th>1</th>\n",
       "      <td>0</td>\n",
       "      <td>0</td>\n",
       "      <td>0</td>\n",
       "      <td>0</td>\n",
       "      <td>0</td>\n",
       "      <td>0</td>\n",
       "    </tr>\n",
       "    <tr>\n",
       "      <th>2</th>\n",
       "      <td>1</td>\n",
       "      <td>0</td>\n",
       "      <td>0</td>\n",
       "      <td>0</td>\n",
       "      <td>0</td>\n",
       "      <td>0</td>\n",
       "    </tr>\n",
       "    <tr>\n",
       "      <th>3</th>\n",
       "      <td>0</td>\n",
       "      <td>0</td>\n",
       "      <td>0</td>\n",
       "      <td>0</td>\n",
       "      <td>0</td>\n",
       "      <td>1</td>\n",
       "    </tr>\n",
       "    <tr>\n",
       "      <th>4</th>\n",
       "      <td>0</td>\n",
       "      <td>0</td>\n",
       "      <td>0</td>\n",
       "      <td>0</td>\n",
       "      <td>1</td>\n",
       "      <td>0</td>\n",
       "    </tr>\n",
       "    <tr>\n",
       "      <th>...</th>\n",
       "      <td>...</td>\n",
       "      <td>...</td>\n",
       "      <td>...</td>\n",
       "      <td>...</td>\n",
       "      <td>...</td>\n",
       "      <td>...</td>\n",
       "    </tr>\n",
       "    <tr>\n",
       "      <th>19995</th>\n",
       "      <td>0</td>\n",
       "      <td>0</td>\n",
       "      <td>0</td>\n",
       "      <td>0</td>\n",
       "      <td>0</td>\n",
       "      <td>0</td>\n",
       "    </tr>\n",
       "    <tr>\n",
       "      <th>19996</th>\n",
       "      <td>0</td>\n",
       "      <td>0</td>\n",
       "      <td>0</td>\n",
       "      <td>1</td>\n",
       "      <td>0</td>\n",
       "      <td>0</td>\n",
       "    </tr>\n",
       "    <tr>\n",
       "      <th>19997</th>\n",
       "      <td>0</td>\n",
       "      <td>0</td>\n",
       "      <td>1</td>\n",
       "      <td>0</td>\n",
       "      <td>0</td>\n",
       "      <td>0</td>\n",
       "    </tr>\n",
       "    <tr>\n",
       "      <th>19998</th>\n",
       "      <td>1</td>\n",
       "      <td>0</td>\n",
       "      <td>0</td>\n",
       "      <td>0</td>\n",
       "      <td>0</td>\n",
       "      <td>0</td>\n",
       "    </tr>\n",
       "    <tr>\n",
       "      <th>19999</th>\n",
       "      <td>0</td>\n",
       "      <td>0</td>\n",
       "      <td>0</td>\n",
       "      <td>0</td>\n",
       "      <td>0</td>\n",
       "      <td>1</td>\n",
       "    </tr>\n",
       "  </tbody>\n",
       "</table>\n",
       "<p>20000 rows × 6 columns</p>\n",
       "</div>"
      ],
      "text/plain": [
       "       DFW  JFK  LAX  MIA  ORD  SFO\n",
       "0        0    0    0    0    0    1\n",
       "1        0    0    0    0    0    0\n",
       "2        1    0    0    0    0    0\n",
       "3        0    0    0    0    0    1\n",
       "4        0    0    0    0    1    0\n",
       "...    ...  ...  ...  ...  ...  ...\n",
       "19995    0    0    0    0    0    0\n",
       "19996    0    0    0    1    0    0\n",
       "19997    0    0    1    0    0    0\n",
       "19998    1    0    0    0    0    0\n",
       "19999    0    0    0    0    0    1\n",
       "\n",
       "[20000 rows x 6 columns]"
      ]
     },
     "execution_count": 22,
     "metadata": {},
     "output_type": "execute_result"
    }
   ],
   "source": [
    "airport=airport.astype(int)\n",
    "airport"
   ]
  },
  {
   "cell_type": "code",
   "execution_count": 24,
   "id": "9f2261cb-deca-41f0-9ad1-3d4e17c155d5",
   "metadata": {},
   "outputs": [
    {
     "data": {
      "text/html": [
       "<div>\n",
       "<style scoped>\n",
       "    .dataframe tbody tr th:only-of-type {\n",
       "        vertical-align: middle;\n",
       "    }\n",
       "\n",
       "    .dataframe tbody tr th {\n",
       "        vertical-align: top;\n",
       "    }\n",
       "\n",
       "    .dataframe thead th {\n",
       "        text-align: right;\n",
       "    }\n",
       "</style>\n",
       "<table border=\"1\" class=\"dataframe\">\n",
       "  <thead>\n",
       "    <tr style=\"text-align: right;\">\n",
       "      <th></th>\n",
       "      <th>DXB</th>\n",
       "      <th>HKG</th>\n",
       "      <th>LHR</th>\n",
       "      <th>NRT</th>\n",
       "      <th>SIN</th>\n",
       "      <th>SYD</th>\n",
       "    </tr>\n",
       "  </thead>\n",
       "  <tbody>\n",
       "    <tr>\n",
       "      <th>0</th>\n",
       "      <td>False</td>\n",
       "      <td>False</td>\n",
       "      <td>True</td>\n",
       "      <td>False</td>\n",
       "      <td>False</td>\n",
       "      <td>False</td>\n",
       "    </tr>\n",
       "    <tr>\n",
       "      <th>1</th>\n",
       "      <td>False</td>\n",
       "      <td>False</td>\n",
       "      <td>False</td>\n",
       "      <td>False</td>\n",
       "      <td>True</td>\n",
       "      <td>False</td>\n",
       "    </tr>\n",
       "    <tr>\n",
       "      <th>2</th>\n",
       "      <td>False</td>\n",
       "      <td>True</td>\n",
       "      <td>False</td>\n",
       "      <td>False</td>\n",
       "      <td>False</td>\n",
       "      <td>False</td>\n",
       "    </tr>\n",
       "    <tr>\n",
       "      <th>3</th>\n",
       "      <td>True</td>\n",
       "      <td>False</td>\n",
       "      <td>False</td>\n",
       "      <td>False</td>\n",
       "      <td>False</td>\n",
       "      <td>False</td>\n",
       "    </tr>\n",
       "    <tr>\n",
       "      <th>4</th>\n",
       "      <td>False</td>\n",
       "      <td>True</td>\n",
       "      <td>False</td>\n",
       "      <td>False</td>\n",
       "      <td>False</td>\n",
       "      <td>False</td>\n",
       "    </tr>\n",
       "    <tr>\n",
       "      <th>...</th>\n",
       "      <td>...</td>\n",
       "      <td>...</td>\n",
       "      <td>...</td>\n",
       "      <td>...</td>\n",
       "      <td>...</td>\n",
       "      <td>...</td>\n",
       "    </tr>\n",
       "    <tr>\n",
       "      <th>19995</th>\n",
       "      <td>True</td>\n",
       "      <td>False</td>\n",
       "      <td>False</td>\n",
       "      <td>False</td>\n",
       "      <td>False</td>\n",
       "      <td>False</td>\n",
       "    </tr>\n",
       "    <tr>\n",
       "      <th>19996</th>\n",
       "      <td>False</td>\n",
       "      <td>False</td>\n",
       "      <td>False</td>\n",
       "      <td>True</td>\n",
       "      <td>False</td>\n",
       "      <td>False</td>\n",
       "    </tr>\n",
       "    <tr>\n",
       "      <th>19997</th>\n",
       "      <td>False</td>\n",
       "      <td>False</td>\n",
       "      <td>True</td>\n",
       "      <td>False</td>\n",
       "      <td>False</td>\n",
       "      <td>False</td>\n",
       "    </tr>\n",
       "    <tr>\n",
       "      <th>19998</th>\n",
       "      <td>False</td>\n",
       "      <td>True</td>\n",
       "      <td>False</td>\n",
       "      <td>False</td>\n",
       "      <td>False</td>\n",
       "      <td>False</td>\n",
       "    </tr>\n",
       "    <tr>\n",
       "      <th>19999</th>\n",
       "      <td>False</td>\n",
       "      <td>False</td>\n",
       "      <td>False</td>\n",
       "      <td>False</td>\n",
       "      <td>False</td>\n",
       "      <td>False</td>\n",
       "    </tr>\n",
       "  </tbody>\n",
       "</table>\n",
       "<p>20000 rows × 6 columns</p>\n",
       "</div>"
      ],
      "text/plain": [
       "         DXB    HKG    LHR    NRT    SIN    SYD\n",
       "0      False  False   True  False  False  False\n",
       "1      False  False  False  False   True  False\n",
       "2      False   True  False  False  False  False\n",
       "3       True  False  False  False  False  False\n",
       "4      False   True  False  False  False  False\n",
       "...      ...    ...    ...    ...    ...    ...\n",
       "19995   True  False  False  False  False  False\n",
       "19996  False  False  False   True  False  False\n",
       "19997  False  False   True  False  False  False\n",
       "19998  False   True  False  False  False  False\n",
       "19999  False  False  False  False  False  False\n",
       "\n",
       "[20000 rows x 6 columns]"
      ]
     },
     "execution_count": 24,
     "metadata": {},
     "output_type": "execute_result"
    }
   ],
   "source": [
    "destination=pd.get_dummies(tb[\"Destination Airport\"],drop_first=True)\n",
    "destination"
   ]
  },
  {
   "cell_type": "code",
   "execution_count": 25,
   "id": "4fcea7fe-233c-40c3-9fa6-0c8884cd686f",
   "metadata": {},
   "outputs": [
    {
     "data": {
      "text/html": [
       "<div>\n",
       "<style scoped>\n",
       "    .dataframe tbody tr th:only-of-type {\n",
       "        vertical-align: middle;\n",
       "    }\n",
       "\n",
       "    .dataframe tbody tr th {\n",
       "        vertical-align: top;\n",
       "    }\n",
       "\n",
       "    .dataframe thead th {\n",
       "        text-align: right;\n",
       "    }\n",
       "</style>\n",
       "<table border=\"1\" class=\"dataframe\">\n",
       "  <thead>\n",
       "    <tr style=\"text-align: right;\">\n",
       "      <th></th>\n",
       "      <th>DXB</th>\n",
       "      <th>HKG</th>\n",
       "      <th>LHR</th>\n",
       "      <th>NRT</th>\n",
       "      <th>SIN</th>\n",
       "      <th>SYD</th>\n",
       "    </tr>\n",
       "  </thead>\n",
       "  <tbody>\n",
       "    <tr>\n",
       "      <th>0</th>\n",
       "      <td>0</td>\n",
       "      <td>0</td>\n",
       "      <td>1</td>\n",
       "      <td>0</td>\n",
       "      <td>0</td>\n",
       "      <td>0</td>\n",
       "    </tr>\n",
       "    <tr>\n",
       "      <th>1</th>\n",
       "      <td>0</td>\n",
       "      <td>0</td>\n",
       "      <td>0</td>\n",
       "      <td>0</td>\n",
       "      <td>1</td>\n",
       "      <td>0</td>\n",
       "    </tr>\n",
       "    <tr>\n",
       "      <th>2</th>\n",
       "      <td>0</td>\n",
       "      <td>1</td>\n",
       "      <td>0</td>\n",
       "      <td>0</td>\n",
       "      <td>0</td>\n",
       "      <td>0</td>\n",
       "    </tr>\n",
       "    <tr>\n",
       "      <th>3</th>\n",
       "      <td>1</td>\n",
       "      <td>0</td>\n",
       "      <td>0</td>\n",
       "      <td>0</td>\n",
       "      <td>0</td>\n",
       "      <td>0</td>\n",
       "    </tr>\n",
       "    <tr>\n",
       "      <th>4</th>\n",
       "      <td>0</td>\n",
       "      <td>1</td>\n",
       "      <td>0</td>\n",
       "      <td>0</td>\n",
       "      <td>0</td>\n",
       "      <td>0</td>\n",
       "    </tr>\n",
       "    <tr>\n",
       "      <th>...</th>\n",
       "      <td>...</td>\n",
       "      <td>...</td>\n",
       "      <td>...</td>\n",
       "      <td>...</td>\n",
       "      <td>...</td>\n",
       "      <td>...</td>\n",
       "    </tr>\n",
       "    <tr>\n",
       "      <th>19995</th>\n",
       "      <td>1</td>\n",
       "      <td>0</td>\n",
       "      <td>0</td>\n",
       "      <td>0</td>\n",
       "      <td>0</td>\n",
       "      <td>0</td>\n",
       "    </tr>\n",
       "    <tr>\n",
       "      <th>19996</th>\n",
       "      <td>0</td>\n",
       "      <td>0</td>\n",
       "      <td>0</td>\n",
       "      <td>1</td>\n",
       "      <td>0</td>\n",
       "      <td>0</td>\n",
       "    </tr>\n",
       "    <tr>\n",
       "      <th>19997</th>\n",
       "      <td>0</td>\n",
       "      <td>0</td>\n",
       "      <td>1</td>\n",
       "      <td>0</td>\n",
       "      <td>0</td>\n",
       "      <td>0</td>\n",
       "    </tr>\n",
       "    <tr>\n",
       "      <th>19998</th>\n",
       "      <td>0</td>\n",
       "      <td>1</td>\n",
       "      <td>0</td>\n",
       "      <td>0</td>\n",
       "      <td>0</td>\n",
       "      <td>0</td>\n",
       "    </tr>\n",
       "    <tr>\n",
       "      <th>19999</th>\n",
       "      <td>0</td>\n",
       "      <td>0</td>\n",
       "      <td>0</td>\n",
       "      <td>0</td>\n",
       "      <td>0</td>\n",
       "      <td>0</td>\n",
       "    </tr>\n",
       "  </tbody>\n",
       "</table>\n",
       "<p>20000 rows × 6 columns</p>\n",
       "</div>"
      ],
      "text/plain": [
       "       DXB  HKG  LHR  NRT  SIN  SYD\n",
       "0        0    0    1    0    0    0\n",
       "1        0    0    0    0    1    0\n",
       "2        0    1    0    0    0    0\n",
       "3        1    0    0    0    0    0\n",
       "4        0    1    0    0    0    0\n",
       "...    ...  ...  ...  ...  ...  ...\n",
       "19995    1    0    0    0    0    0\n",
       "19996    0    0    0    1    0    0\n",
       "19997    0    0    1    0    0    0\n",
       "19998    0    1    0    0    0    0\n",
       "19999    0    0    0    0    0    0\n",
       "\n",
       "[20000 rows x 6 columns]"
      ]
     },
     "execution_count": 25,
     "metadata": {},
     "output_type": "execute_result"
    }
   ],
   "source": [
    "destination=destination.astype(int)\n",
    "destination"
   ]
  },
  {
   "cell_type": "code",
   "execution_count": 27,
   "id": "1ebccc2d-76be-43bd-b78c-9bd5ab2ae507",
   "metadata": {},
   "outputs": [
    {
     "data": {
      "text/html": [
       "<div>\n",
       "<style scoped>\n",
       "    .dataframe tbody tr th:only-of-type {\n",
       "        vertical-align: middle;\n",
       "    }\n",
       "\n",
       "    .dataframe tbody tr th {\n",
       "        vertical-align: top;\n",
       "    }\n",
       "\n",
       "    .dataframe thead th {\n",
       "        text-align: right;\n",
       "    }\n",
       "</style>\n",
       "<table border=\"1\" class=\"dataframe\">\n",
       "  <thead>\n",
       "    <tr style=\"text-align: right;\">\n",
       "      <th></th>\n",
       "      <th>Rail</th>\n",
       "      <th>Truck</th>\n",
       "    </tr>\n",
       "  </thead>\n",
       "  <tbody>\n",
       "    <tr>\n",
       "      <th>0</th>\n",
       "      <td>False</td>\n",
       "      <td>False</td>\n",
       "    </tr>\n",
       "    <tr>\n",
       "      <th>1</th>\n",
       "      <td>False</td>\n",
       "      <td>False</td>\n",
       "    </tr>\n",
       "    <tr>\n",
       "      <th>2</th>\n",
       "      <td>False</td>\n",
       "      <td>False</td>\n",
       "    </tr>\n",
       "    <tr>\n",
       "      <th>3</th>\n",
       "      <td>True</td>\n",
       "      <td>False</td>\n",
       "    </tr>\n",
       "    <tr>\n",
       "      <th>4</th>\n",
       "      <td>False</td>\n",
       "      <td>False</td>\n",
       "    </tr>\n",
       "    <tr>\n",
       "      <th>...</th>\n",
       "      <td>...</td>\n",
       "      <td>...</td>\n",
       "    </tr>\n",
       "    <tr>\n",
       "      <th>19995</th>\n",
       "      <td>False</td>\n",
       "      <td>False</td>\n",
       "    </tr>\n",
       "    <tr>\n",
       "      <th>19996</th>\n",
       "      <td>False</td>\n",
       "      <td>False</td>\n",
       "    </tr>\n",
       "    <tr>\n",
       "      <th>19997</th>\n",
       "      <td>False</td>\n",
       "      <td>False</td>\n",
       "    </tr>\n",
       "    <tr>\n",
       "      <th>19998</th>\n",
       "      <td>True</td>\n",
       "      <td>False</td>\n",
       "    </tr>\n",
       "    <tr>\n",
       "      <th>19999</th>\n",
       "      <td>True</td>\n",
       "      <td>False</td>\n",
       "    </tr>\n",
       "  </tbody>\n",
       "</table>\n",
       "<p>20000 rows × 2 columns</p>\n",
       "</div>"
      ],
      "text/plain": [
       "        Rail  Truck\n",
       "0      False  False\n",
       "1      False  False\n",
       "2      False  False\n",
       "3       True  False\n",
       "4      False  False\n",
       "...      ...    ...\n",
       "19995  False  False\n",
       "19996  False  False\n",
       "19997  False  False\n",
       "19998   True  False\n",
       "19999   True  False\n",
       "\n",
       "[20000 rows x 2 columns]"
      ]
     },
     "execution_count": 27,
     "metadata": {},
     "output_type": "execute_result"
    }
   ],
   "source": [
    "transport=pd.get_dummies(tb[\"Mode of Transport\"],drop_first=True)\n",
    "transport "
   ]
  },
  {
   "cell_type": "code",
   "execution_count": 28,
   "id": "6d694653-633b-49fb-aa5c-a6ee7be9d04a",
   "metadata": {},
   "outputs": [
    {
     "data": {
      "text/html": [
       "<div>\n",
       "<style scoped>\n",
       "    .dataframe tbody tr th:only-of-type {\n",
       "        vertical-align: middle;\n",
       "    }\n",
       "\n",
       "    .dataframe tbody tr th {\n",
       "        vertical-align: top;\n",
       "    }\n",
       "\n",
       "    .dataframe thead th {\n",
       "        text-align: right;\n",
       "    }\n",
       "</style>\n",
       "<table border=\"1\" class=\"dataframe\">\n",
       "  <thead>\n",
       "    <tr style=\"text-align: right;\">\n",
       "      <th></th>\n",
       "      <th>Rail</th>\n",
       "      <th>Truck</th>\n",
       "    </tr>\n",
       "  </thead>\n",
       "  <tbody>\n",
       "    <tr>\n",
       "      <th>0</th>\n",
       "      <td>0</td>\n",
       "      <td>0</td>\n",
       "    </tr>\n",
       "    <tr>\n",
       "      <th>1</th>\n",
       "      <td>0</td>\n",
       "      <td>0</td>\n",
       "    </tr>\n",
       "    <tr>\n",
       "      <th>2</th>\n",
       "      <td>0</td>\n",
       "      <td>0</td>\n",
       "    </tr>\n",
       "    <tr>\n",
       "      <th>3</th>\n",
       "      <td>1</td>\n",
       "      <td>0</td>\n",
       "    </tr>\n",
       "    <tr>\n",
       "      <th>4</th>\n",
       "      <td>0</td>\n",
       "      <td>0</td>\n",
       "    </tr>\n",
       "    <tr>\n",
       "      <th>...</th>\n",
       "      <td>...</td>\n",
       "      <td>...</td>\n",
       "    </tr>\n",
       "    <tr>\n",
       "      <th>19995</th>\n",
       "      <td>0</td>\n",
       "      <td>0</td>\n",
       "    </tr>\n",
       "    <tr>\n",
       "      <th>19996</th>\n",
       "      <td>0</td>\n",
       "      <td>0</td>\n",
       "    </tr>\n",
       "    <tr>\n",
       "      <th>19997</th>\n",
       "      <td>0</td>\n",
       "      <td>0</td>\n",
       "    </tr>\n",
       "    <tr>\n",
       "      <th>19998</th>\n",
       "      <td>1</td>\n",
       "      <td>0</td>\n",
       "    </tr>\n",
       "    <tr>\n",
       "      <th>19999</th>\n",
       "      <td>1</td>\n",
       "      <td>0</td>\n",
       "    </tr>\n",
       "  </tbody>\n",
       "</table>\n",
       "<p>20000 rows × 2 columns</p>\n",
       "</div>"
      ],
      "text/plain": [
       "       Rail  Truck\n",
       "0         0      0\n",
       "1         0      0\n",
       "2         0      0\n",
       "3         1      0\n",
       "4         0      0\n",
       "...     ...    ...\n",
       "19995     0      0\n",
       "19996     0      0\n",
       "19997     0      0\n",
       "19998     1      0\n",
       "19999     1      0\n",
       "\n",
       "[20000 rows x 2 columns]"
      ]
     },
     "execution_count": 28,
     "metadata": {},
     "output_type": "execute_result"
    }
   ],
   "source": [
    "transport=transport.astype(int)\n",
    "transport"
   ]
  },
  {
   "cell_type": "code",
   "execution_count": 30,
   "id": "442e589d-d406-46b0-9a3c-c2b3dda728b1",
   "metadata": {},
   "outputs": [
    {
     "data": {
      "text/html": [
       "<div>\n",
       "<style scoped>\n",
       "    .dataframe tbody tr th:only-of-type {\n",
       "        vertical-align: middle;\n",
       "    }\n",
       "\n",
       "    .dataframe tbody tr th {\n",
       "        vertical-align: top;\n",
       "    }\n",
       "\n",
       "    .dataframe thead th {\n",
       "        text-align: right;\n",
       "    }\n",
       "</style>\n",
       "<table border=\"1\" class=\"dataframe\">\n",
       "  <thead>\n",
       "    <tr style=\"text-align: right;\">\n",
       "      <th></th>\n",
       "      <th>Yes</th>\n",
       "    </tr>\n",
       "  </thead>\n",
       "  <tbody>\n",
       "    <tr>\n",
       "      <th>0</th>\n",
       "      <td>False</td>\n",
       "    </tr>\n",
       "    <tr>\n",
       "      <th>1</th>\n",
       "      <td>False</td>\n",
       "    </tr>\n",
       "    <tr>\n",
       "      <th>2</th>\n",
       "      <td>False</td>\n",
       "    </tr>\n",
       "    <tr>\n",
       "      <th>3</th>\n",
       "      <td>True</td>\n",
       "    </tr>\n",
       "    <tr>\n",
       "      <th>4</th>\n",
       "      <td>False</td>\n",
       "    </tr>\n",
       "    <tr>\n",
       "      <th>...</th>\n",
       "      <td>...</td>\n",
       "    </tr>\n",
       "    <tr>\n",
       "      <th>19995</th>\n",
       "      <td>True</td>\n",
       "    </tr>\n",
       "    <tr>\n",
       "      <th>19996</th>\n",
       "      <td>True</td>\n",
       "    </tr>\n",
       "    <tr>\n",
       "      <th>19997</th>\n",
       "      <td>True</td>\n",
       "    </tr>\n",
       "    <tr>\n",
       "      <th>19998</th>\n",
       "      <td>False</td>\n",
       "    </tr>\n",
       "    <tr>\n",
       "      <th>19999</th>\n",
       "      <td>True</td>\n",
       "    </tr>\n",
       "  </tbody>\n",
       "</table>\n",
       "<p>20000 rows × 1 columns</p>\n",
       "</div>"
      ],
      "text/plain": [
       "         Yes\n",
       "0      False\n",
       "1      False\n",
       "2      False\n",
       "3       True\n",
       "4      False\n",
       "...      ...\n",
       "19995   True\n",
       "19996   True\n",
       "19997   True\n",
       "19998  False\n",
       "19999   True\n",
       "\n",
       "[20000 rows x 1 columns]"
      ]
     },
     "execution_count": 30,
     "metadata": {},
     "output_type": "execute_result"
    }
   ],
   "source": [
    "temperature=pd.get_dummies(tb[\"Temperature-Sensitive\"],drop_first=True)\n",
    "temperature"
   ]
  },
  {
   "cell_type": "code",
   "execution_count": 31,
   "id": "9e473284-5fd9-4493-a11e-81c94e2d2c92",
   "metadata": {},
   "outputs": [
    {
     "data": {
      "text/html": [
       "<div>\n",
       "<style scoped>\n",
       "    .dataframe tbody tr th:only-of-type {\n",
       "        vertical-align: middle;\n",
       "    }\n",
       "\n",
       "    .dataframe tbody tr th {\n",
       "        vertical-align: top;\n",
       "    }\n",
       "\n",
       "    .dataframe thead th {\n",
       "        text-align: right;\n",
       "    }\n",
       "</style>\n",
       "<table border=\"1\" class=\"dataframe\">\n",
       "  <thead>\n",
       "    <tr style=\"text-align: right;\">\n",
       "      <th></th>\n",
       "      <th>Yes</th>\n",
       "    </tr>\n",
       "  </thead>\n",
       "  <tbody>\n",
       "    <tr>\n",
       "      <th>0</th>\n",
       "      <td>0</td>\n",
       "    </tr>\n",
       "    <tr>\n",
       "      <th>1</th>\n",
       "      <td>0</td>\n",
       "    </tr>\n",
       "    <tr>\n",
       "      <th>2</th>\n",
       "      <td>0</td>\n",
       "    </tr>\n",
       "    <tr>\n",
       "      <th>3</th>\n",
       "      <td>1</td>\n",
       "    </tr>\n",
       "    <tr>\n",
       "      <th>4</th>\n",
       "      <td>0</td>\n",
       "    </tr>\n",
       "    <tr>\n",
       "      <th>...</th>\n",
       "      <td>...</td>\n",
       "    </tr>\n",
       "    <tr>\n",
       "      <th>19995</th>\n",
       "      <td>1</td>\n",
       "    </tr>\n",
       "    <tr>\n",
       "      <th>19996</th>\n",
       "      <td>1</td>\n",
       "    </tr>\n",
       "    <tr>\n",
       "      <th>19997</th>\n",
       "      <td>1</td>\n",
       "    </tr>\n",
       "    <tr>\n",
       "      <th>19998</th>\n",
       "      <td>0</td>\n",
       "    </tr>\n",
       "    <tr>\n",
       "      <th>19999</th>\n",
       "      <td>1</td>\n",
       "    </tr>\n",
       "  </tbody>\n",
       "</table>\n",
       "<p>20000 rows × 1 columns</p>\n",
       "</div>"
      ],
      "text/plain": [
       "       Yes\n",
       "0        0\n",
       "1        0\n",
       "2        0\n",
       "3        1\n",
       "4        0\n",
       "...    ...\n",
       "19995    1\n",
       "19996    1\n",
       "19997    1\n",
       "19998    0\n",
       "19999    1\n",
       "\n",
       "[20000 rows x 1 columns]"
      ]
     },
     "execution_count": 31,
     "metadata": {},
     "output_type": "execute_result"
    }
   ],
   "source": [
    "temperature=temperature.astype(int)\n",
    "temperature"
   ]
  },
  {
   "cell_type": "code",
   "execution_count": 33,
   "id": "4e8749d0-4ed3-46fb-a6b3-20a0837dff7a",
   "metadata": {},
   "outputs": [
    {
     "data": {
      "text/html": [
       "<div>\n",
       "<style scoped>\n",
       "    .dataframe tbody tr th:only-of-type {\n",
       "        vertical-align: middle;\n",
       "    }\n",
       "\n",
       "    .dataframe tbody tr th {\n",
       "        vertical-align: top;\n",
       "    }\n",
       "\n",
       "    .dataframe thead th {\n",
       "        text-align: right;\n",
       "    }\n",
       "</style>\n",
       "<table border=\"1\" class=\"dataframe\">\n",
       "  <thead>\n",
       "    <tr style=\"text-align: right;\">\n",
       "      <th></th>\n",
       "      <th>Foggy</th>\n",
       "      <th>Rainy</th>\n",
       "      <th>Stormy</th>\n",
       "    </tr>\n",
       "  </thead>\n",
       "  <tbody>\n",
       "    <tr>\n",
       "      <th>0</th>\n",
       "      <td>False</td>\n",
       "      <td>False</td>\n",
       "      <td>False</td>\n",
       "    </tr>\n",
       "    <tr>\n",
       "      <th>1</th>\n",
       "      <td>False</td>\n",
       "      <td>False</td>\n",
       "      <td>False</td>\n",
       "    </tr>\n",
       "    <tr>\n",
       "      <th>2</th>\n",
       "      <td>False</td>\n",
       "      <td>False</td>\n",
       "      <td>False</td>\n",
       "    </tr>\n",
       "    <tr>\n",
       "      <th>3</th>\n",
       "      <td>False</td>\n",
       "      <td>True</td>\n",
       "      <td>False</td>\n",
       "    </tr>\n",
       "    <tr>\n",
       "      <th>4</th>\n",
       "      <td>False</td>\n",
       "      <td>True</td>\n",
       "      <td>False</td>\n",
       "    </tr>\n",
       "    <tr>\n",
       "      <th>...</th>\n",
       "      <td>...</td>\n",
       "      <td>...</td>\n",
       "      <td>...</td>\n",
       "    </tr>\n",
       "    <tr>\n",
       "      <th>19995</th>\n",
       "      <td>False</td>\n",
       "      <td>False</td>\n",
       "      <td>False</td>\n",
       "    </tr>\n",
       "    <tr>\n",
       "      <th>19996</th>\n",
       "      <td>True</td>\n",
       "      <td>False</td>\n",
       "      <td>False</td>\n",
       "    </tr>\n",
       "    <tr>\n",
       "      <th>19997</th>\n",
       "      <td>False</td>\n",
       "      <td>False</td>\n",
       "      <td>False</td>\n",
       "    </tr>\n",
       "    <tr>\n",
       "      <th>19998</th>\n",
       "      <td>False</td>\n",
       "      <td>False</td>\n",
       "      <td>False</td>\n",
       "    </tr>\n",
       "    <tr>\n",
       "      <th>19999</th>\n",
       "      <td>False</td>\n",
       "      <td>False</td>\n",
       "      <td>False</td>\n",
       "    </tr>\n",
       "  </tbody>\n",
       "</table>\n",
       "<p>20000 rows × 3 columns</p>\n",
       "</div>"
      ],
      "text/plain": [
       "       Foggy  Rainy  Stormy\n",
       "0      False  False   False\n",
       "1      False  False   False\n",
       "2      False  False   False\n",
       "3      False   True   False\n",
       "4      False   True   False\n",
       "...      ...    ...     ...\n",
       "19995  False  False   False\n",
       "19996   True  False   False\n",
       "19997  False  False   False\n",
       "19998  False  False   False\n",
       "19999  False  False   False\n",
       "\n",
       "[20000 rows x 3 columns]"
      ]
     },
     "execution_count": 33,
     "metadata": {},
     "output_type": "execute_result"
    }
   ],
   "source": [
    "weather=pd.get_dummies(tb[\"Weather Conditions\"],drop_first=True)\n",
    "weather "
   ]
  },
  {
   "cell_type": "code",
   "execution_count": 34,
   "id": "636f7a6a-bc25-4efa-940c-83a8b76af2d3",
   "metadata": {},
   "outputs": [
    {
     "data": {
      "text/html": [
       "<div>\n",
       "<style scoped>\n",
       "    .dataframe tbody tr th:only-of-type {\n",
       "        vertical-align: middle;\n",
       "    }\n",
       "\n",
       "    .dataframe tbody tr th {\n",
       "        vertical-align: top;\n",
       "    }\n",
       "\n",
       "    .dataframe thead th {\n",
       "        text-align: right;\n",
       "    }\n",
       "</style>\n",
       "<table border=\"1\" class=\"dataframe\">\n",
       "  <thead>\n",
       "    <tr style=\"text-align: right;\">\n",
       "      <th></th>\n",
       "      <th>Foggy</th>\n",
       "      <th>Rainy</th>\n",
       "      <th>Stormy</th>\n",
       "    </tr>\n",
       "  </thead>\n",
       "  <tbody>\n",
       "    <tr>\n",
       "      <th>0</th>\n",
       "      <td>0</td>\n",
       "      <td>0</td>\n",
       "      <td>0</td>\n",
       "    </tr>\n",
       "    <tr>\n",
       "      <th>1</th>\n",
       "      <td>0</td>\n",
       "      <td>0</td>\n",
       "      <td>0</td>\n",
       "    </tr>\n",
       "    <tr>\n",
       "      <th>2</th>\n",
       "      <td>0</td>\n",
       "      <td>0</td>\n",
       "      <td>0</td>\n",
       "    </tr>\n",
       "    <tr>\n",
       "      <th>3</th>\n",
       "      <td>0</td>\n",
       "      <td>1</td>\n",
       "      <td>0</td>\n",
       "    </tr>\n",
       "    <tr>\n",
       "      <th>4</th>\n",
       "      <td>0</td>\n",
       "      <td>1</td>\n",
       "      <td>0</td>\n",
       "    </tr>\n",
       "    <tr>\n",
       "      <th>...</th>\n",
       "      <td>...</td>\n",
       "      <td>...</td>\n",
       "      <td>...</td>\n",
       "    </tr>\n",
       "    <tr>\n",
       "      <th>19995</th>\n",
       "      <td>0</td>\n",
       "      <td>0</td>\n",
       "      <td>0</td>\n",
       "    </tr>\n",
       "    <tr>\n",
       "      <th>19996</th>\n",
       "      <td>1</td>\n",
       "      <td>0</td>\n",
       "      <td>0</td>\n",
       "    </tr>\n",
       "    <tr>\n",
       "      <th>19997</th>\n",
       "      <td>0</td>\n",
       "      <td>0</td>\n",
       "      <td>0</td>\n",
       "    </tr>\n",
       "    <tr>\n",
       "      <th>19998</th>\n",
       "      <td>0</td>\n",
       "      <td>0</td>\n",
       "      <td>0</td>\n",
       "    </tr>\n",
       "    <tr>\n",
       "      <th>19999</th>\n",
       "      <td>0</td>\n",
       "      <td>0</td>\n",
       "      <td>0</td>\n",
       "    </tr>\n",
       "  </tbody>\n",
       "</table>\n",
       "<p>20000 rows × 3 columns</p>\n",
       "</div>"
      ],
      "text/plain": [
       "       Foggy  Rainy  Stormy\n",
       "0          0      0       0\n",
       "1          0      0       0\n",
       "2          0      0       0\n",
       "3          0      1       0\n",
       "4          0      1       0\n",
       "...      ...    ...     ...\n",
       "19995      0      0       0\n",
       "19996      1      0       0\n",
       "19997      0      0       0\n",
       "19998      0      0       0\n",
       "19999      0      0       0\n",
       "\n",
       "[20000 rows x 3 columns]"
      ]
     },
     "execution_count": 34,
     "metadata": {},
     "output_type": "execute_result"
    }
   ],
   "source": [
    "weather=weather.astype(int)\n",
    "weather"
   ]
  },
  {
   "cell_type": "code",
   "execution_count": 35,
   "id": "cbd1955e-8e92-4106-b6eb-4ae4c250ada5",
   "metadata": {
    "scrolled": true
   },
   "outputs": [
    {
     "data": {
      "text/html": [
       "<div>\n",
       "<style scoped>\n",
       "    .dataframe tbody tr th:only-of-type {\n",
       "        vertical-align: middle;\n",
       "    }\n",
       "\n",
       "    .dataframe tbody tr th {\n",
       "        vertical-align: top;\n",
       "    }\n",
       "\n",
       "    .dataframe thead th {\n",
       "        text-align: right;\n",
       "    }\n",
       "</style>\n",
       "<table border=\"1\" class=\"dataframe\">\n",
       "  <thead>\n",
       "    <tr style=\"text-align: right;\">\n",
       "      <th></th>\n",
       "      <th>On-Time</th>\n",
       "    </tr>\n",
       "  </thead>\n",
       "  <tbody>\n",
       "    <tr>\n",
       "      <th>0</th>\n",
       "      <td>False</td>\n",
       "    </tr>\n",
       "    <tr>\n",
       "      <th>1</th>\n",
       "      <td>True</td>\n",
       "    </tr>\n",
       "    <tr>\n",
       "      <th>2</th>\n",
       "      <td>True</td>\n",
       "    </tr>\n",
       "    <tr>\n",
       "      <th>3</th>\n",
       "      <td>True</td>\n",
       "    </tr>\n",
       "    <tr>\n",
       "      <th>4</th>\n",
       "      <td>False</td>\n",
       "    </tr>\n",
       "    <tr>\n",
       "      <th>...</th>\n",
       "      <td>...</td>\n",
       "    </tr>\n",
       "    <tr>\n",
       "      <th>19995</th>\n",
       "      <td>False</td>\n",
       "    </tr>\n",
       "    <tr>\n",
       "      <th>19996</th>\n",
       "      <td>True</td>\n",
       "    </tr>\n",
       "    <tr>\n",
       "      <th>19997</th>\n",
       "      <td>True</td>\n",
       "    </tr>\n",
       "    <tr>\n",
       "      <th>19998</th>\n",
       "      <td>True</td>\n",
       "    </tr>\n",
       "    <tr>\n",
       "      <th>19999</th>\n",
       "      <td>True</td>\n",
       "    </tr>\n",
       "  </tbody>\n",
       "</table>\n",
       "<p>20000 rows × 1 columns</p>\n",
       "</div>"
      ],
      "text/plain": [
       "       On-Time\n",
       "0        False\n",
       "1         True\n",
       "2         True\n",
       "3         True\n",
       "4        False\n",
       "...        ...\n",
       "19995    False\n",
       "19996     True\n",
       "19997     True\n",
       "19998     True\n",
       "19999     True\n",
       "\n",
       "[20000 rows x 1 columns]"
      ]
     },
     "execution_count": 35,
     "metadata": {},
     "output_type": "execute_result"
    }
   ],
   "source": [
    "destination_status=pd.get_dummies(tb[\"Delay Status\"],drop_first=True)\n",
    "destination_status "
   ]
  },
  {
   "cell_type": "code",
   "execution_count": 37,
   "id": "bb6342ea-e035-460a-8172-cdbd0f0ea401",
   "metadata": {
    "scrolled": true
   },
   "outputs": [
    {
     "data": {
      "text/html": [
       "<div>\n",
       "<style scoped>\n",
       "    .dataframe tbody tr th:only-of-type {\n",
       "        vertical-align: middle;\n",
       "    }\n",
       "\n",
       "    .dataframe tbody tr th {\n",
       "        vertical-align: top;\n",
       "    }\n",
       "\n",
       "    .dataframe thead th {\n",
       "        text-align: right;\n",
       "    }\n",
       "</style>\n",
       "<table border=\"1\" class=\"dataframe\">\n",
       "  <thead>\n",
       "    <tr style=\"text-align: right;\">\n",
       "      <th></th>\n",
       "      <th>On-Time</th>\n",
       "    </tr>\n",
       "  </thead>\n",
       "  <tbody>\n",
       "    <tr>\n",
       "      <th>0</th>\n",
       "      <td>0</td>\n",
       "    </tr>\n",
       "    <tr>\n",
       "      <th>1</th>\n",
       "      <td>1</td>\n",
       "    </tr>\n",
       "    <tr>\n",
       "      <th>2</th>\n",
       "      <td>1</td>\n",
       "    </tr>\n",
       "    <tr>\n",
       "      <th>3</th>\n",
       "      <td>1</td>\n",
       "    </tr>\n",
       "    <tr>\n",
       "      <th>4</th>\n",
       "      <td>0</td>\n",
       "    </tr>\n",
       "    <tr>\n",
       "      <th>...</th>\n",
       "      <td>...</td>\n",
       "    </tr>\n",
       "    <tr>\n",
       "      <th>19995</th>\n",
       "      <td>0</td>\n",
       "    </tr>\n",
       "    <tr>\n",
       "      <th>19996</th>\n",
       "      <td>1</td>\n",
       "    </tr>\n",
       "    <tr>\n",
       "      <th>19997</th>\n",
       "      <td>1</td>\n",
       "    </tr>\n",
       "    <tr>\n",
       "      <th>19998</th>\n",
       "      <td>1</td>\n",
       "    </tr>\n",
       "    <tr>\n",
       "      <th>19999</th>\n",
       "      <td>1</td>\n",
       "    </tr>\n",
       "  </tbody>\n",
       "</table>\n",
       "<p>20000 rows × 1 columns</p>\n",
       "</div>"
      ],
      "text/plain": [
       "       On-Time\n",
       "0            0\n",
       "1            1\n",
       "2            1\n",
       "3            1\n",
       "4            0\n",
       "...        ...\n",
       "19995        0\n",
       "19996        1\n",
       "19997        1\n",
       "19998        1\n",
       "19999        1\n",
       "\n",
       "[20000 rows x 1 columns]"
      ]
     },
     "execution_count": 37,
     "metadata": {},
     "output_type": "execute_result"
    }
   ],
   "source": [
    "destination_status=destination_status.astype(int)\n",
    "destination_status"
   ]
  },
  {
   "cell_type": "code",
   "execution_count": 38,
   "id": "21db09f5-3e87-483f-abf2-9278025decf1",
   "metadata": {},
   "outputs": [
    {
     "data": {
      "text/html": [
       "<div>\n",
       "<style scoped>\n",
       "    .dataframe tbody tr th:only-of-type {\n",
       "        vertical-align: middle;\n",
       "    }\n",
       "\n",
       "    .dataframe tbody tr th {\n",
       "        vertical-align: top;\n",
       "    }\n",
       "\n",
       "    .dataframe thead th {\n",
       "        text-align: right;\n",
       "    }\n",
       "</style>\n",
       "<table border=\"1\" class=\"dataframe\">\n",
       "  <thead>\n",
       "    <tr style=\"text-align: right;\">\n",
       "      <th></th>\n",
       "      <th>Emirates Cargo</th>\n",
       "      <th>FedEx</th>\n",
       "      <th>Lufthansa Cargo</th>\n",
       "      <th>UPS</th>\n",
       "    </tr>\n",
       "  </thead>\n",
       "  <tbody>\n",
       "    <tr>\n",
       "      <th>0</th>\n",
       "      <td>False</td>\n",
       "      <td>False</td>\n",
       "      <td>False</td>\n",
       "      <td>True</td>\n",
       "    </tr>\n",
       "    <tr>\n",
       "      <th>1</th>\n",
       "      <td>False</td>\n",
       "      <td>False</td>\n",
       "      <td>True</td>\n",
       "      <td>False</td>\n",
       "    </tr>\n",
       "    <tr>\n",
       "      <th>2</th>\n",
       "      <td>False</td>\n",
       "      <td>True</td>\n",
       "      <td>False</td>\n",
       "      <td>False</td>\n",
       "    </tr>\n",
       "    <tr>\n",
       "      <th>3</th>\n",
       "      <td>False</td>\n",
       "      <td>False</td>\n",
       "      <td>False</td>\n",
       "      <td>False</td>\n",
       "    </tr>\n",
       "    <tr>\n",
       "      <th>4</th>\n",
       "      <td>False</td>\n",
       "      <td>False</td>\n",
       "      <td>False</td>\n",
       "      <td>False</td>\n",
       "    </tr>\n",
       "    <tr>\n",
       "      <th>...</th>\n",
       "      <td>...</td>\n",
       "      <td>...</td>\n",
       "      <td>...</td>\n",
       "      <td>...</td>\n",
       "    </tr>\n",
       "    <tr>\n",
       "      <th>19995</th>\n",
       "      <td>False</td>\n",
       "      <td>False</td>\n",
       "      <td>False</td>\n",
       "      <td>True</td>\n",
       "    </tr>\n",
       "    <tr>\n",
       "      <th>19996</th>\n",
       "      <td>False</td>\n",
       "      <td>True</td>\n",
       "      <td>False</td>\n",
       "      <td>False</td>\n",
       "    </tr>\n",
       "    <tr>\n",
       "      <th>19997</th>\n",
       "      <td>False</td>\n",
       "      <td>False</td>\n",
       "      <td>False</td>\n",
       "      <td>True</td>\n",
       "    </tr>\n",
       "    <tr>\n",
       "      <th>19998</th>\n",
       "      <td>False</td>\n",
       "      <td>True</td>\n",
       "      <td>False</td>\n",
       "      <td>False</td>\n",
       "    </tr>\n",
       "    <tr>\n",
       "      <th>19999</th>\n",
       "      <td>False</td>\n",
       "      <td>False</td>\n",
       "      <td>False</td>\n",
       "      <td>False</td>\n",
       "    </tr>\n",
       "  </tbody>\n",
       "</table>\n",
       "<p>20000 rows × 4 columns</p>\n",
       "</div>"
      ],
      "text/plain": [
       "       Emirates Cargo  FedEx  Lufthansa Cargo    UPS\n",
       "0               False  False            False   True\n",
       "1               False  False             True  False\n",
       "2               False   True            False  False\n",
       "3               False  False            False  False\n",
       "4               False  False            False  False\n",
       "...               ...    ...              ...    ...\n",
       "19995           False  False            False   True\n",
       "19996           False   True            False  False\n",
       "19997           False  False            False   True\n",
       "19998           False   True            False  False\n",
       "19999           False  False            False  False\n",
       "\n",
       "[20000 rows x 4 columns]"
      ]
     },
     "execution_count": 38,
     "metadata": {},
     "output_type": "execute_result"
    }
   ],
   "source": [
    "carrier_name=pd.get_dummies(tb[\"Carrier Name\"],drop_first=True)\n",
    "carrier_name "
   ]
  },
  {
   "cell_type": "code",
   "execution_count": 39,
   "id": "a81ea263-c20e-470a-a720-75b18fda2a77",
   "metadata": {
    "scrolled": true
   },
   "outputs": [
    {
     "data": {
      "text/html": [
       "<div>\n",
       "<style scoped>\n",
       "    .dataframe tbody tr th:only-of-type {\n",
       "        vertical-align: middle;\n",
       "    }\n",
       "\n",
       "    .dataframe tbody tr th {\n",
       "        vertical-align: top;\n",
       "    }\n",
       "\n",
       "    .dataframe thead th {\n",
       "        text-align: right;\n",
       "    }\n",
       "</style>\n",
       "<table border=\"1\" class=\"dataframe\">\n",
       "  <thead>\n",
       "    <tr style=\"text-align: right;\">\n",
       "      <th></th>\n",
       "      <th>Emirates Cargo</th>\n",
       "      <th>FedEx</th>\n",
       "      <th>Lufthansa Cargo</th>\n",
       "      <th>UPS</th>\n",
       "    </tr>\n",
       "  </thead>\n",
       "  <tbody>\n",
       "    <tr>\n",
       "      <th>0</th>\n",
       "      <td>0</td>\n",
       "      <td>0</td>\n",
       "      <td>0</td>\n",
       "      <td>1</td>\n",
       "    </tr>\n",
       "    <tr>\n",
       "      <th>1</th>\n",
       "      <td>0</td>\n",
       "      <td>0</td>\n",
       "      <td>1</td>\n",
       "      <td>0</td>\n",
       "    </tr>\n",
       "    <tr>\n",
       "      <th>2</th>\n",
       "      <td>0</td>\n",
       "      <td>1</td>\n",
       "      <td>0</td>\n",
       "      <td>0</td>\n",
       "    </tr>\n",
       "    <tr>\n",
       "      <th>3</th>\n",
       "      <td>0</td>\n",
       "      <td>0</td>\n",
       "      <td>0</td>\n",
       "      <td>0</td>\n",
       "    </tr>\n",
       "    <tr>\n",
       "      <th>4</th>\n",
       "      <td>0</td>\n",
       "      <td>0</td>\n",
       "      <td>0</td>\n",
       "      <td>0</td>\n",
       "    </tr>\n",
       "    <tr>\n",
       "      <th>...</th>\n",
       "      <td>...</td>\n",
       "      <td>...</td>\n",
       "      <td>...</td>\n",
       "      <td>...</td>\n",
       "    </tr>\n",
       "    <tr>\n",
       "      <th>19995</th>\n",
       "      <td>0</td>\n",
       "      <td>0</td>\n",
       "      <td>0</td>\n",
       "      <td>1</td>\n",
       "    </tr>\n",
       "    <tr>\n",
       "      <th>19996</th>\n",
       "      <td>0</td>\n",
       "      <td>1</td>\n",
       "      <td>0</td>\n",
       "      <td>0</td>\n",
       "    </tr>\n",
       "    <tr>\n",
       "      <th>19997</th>\n",
       "      <td>0</td>\n",
       "      <td>0</td>\n",
       "      <td>0</td>\n",
       "      <td>1</td>\n",
       "    </tr>\n",
       "    <tr>\n",
       "      <th>19998</th>\n",
       "      <td>0</td>\n",
       "      <td>1</td>\n",
       "      <td>0</td>\n",
       "      <td>0</td>\n",
       "    </tr>\n",
       "    <tr>\n",
       "      <th>19999</th>\n",
       "      <td>0</td>\n",
       "      <td>0</td>\n",
       "      <td>0</td>\n",
       "      <td>0</td>\n",
       "    </tr>\n",
       "  </tbody>\n",
       "</table>\n",
       "<p>20000 rows × 4 columns</p>\n",
       "</div>"
      ],
      "text/plain": [
       "       Emirates Cargo  FedEx  Lufthansa Cargo  UPS\n",
       "0                   0      0                0    1\n",
       "1                   0      0                1    0\n",
       "2                   0      1                0    0\n",
       "3                   0      0                0    0\n",
       "4                   0      0                0    0\n",
       "...               ...    ...              ...  ...\n",
       "19995               0      0                0    1\n",
       "19996               0      1                0    0\n",
       "19997               0      0                0    1\n",
       "19998               0      1                0    0\n",
       "19999               0      0                0    0\n",
       "\n",
       "[20000 rows x 4 columns]"
      ]
     },
     "execution_count": 39,
     "metadata": {},
     "output_type": "execute_result"
    }
   ],
   "source": [
    "carrier_name=carrier_name.astype(int)\n",
    "carrier_name"
   ]
  },
  {
   "cell_type": "code",
   "execution_count": 41,
   "id": "d3fa3df5-5e28-4edf-be9b-40790b2e7814",
   "metadata": {},
   "outputs": [
    {
     "data": {
      "text/html": [
       "<div>\n",
       "<style scoped>\n",
       "    .dataframe tbody tr th:only-of-type {\n",
       "        vertical-align: middle;\n",
       "    }\n",
       "\n",
       "    .dataframe tbody tr th {\n",
       "        vertical-align: top;\n",
       "    }\n",
       "\n",
       "    .dataframe thead th {\n",
       "        text-align: right;\n",
       "    }\n",
       "</style>\n",
       "<table border=\"1\" class=\"dataframe\">\n",
       "  <thead>\n",
       "    <tr style=\"text-align: right;\">\n",
       "      <th></th>\n",
       "      <th>Monday</th>\n",
       "      <th>Saturday</th>\n",
       "      <th>Sunday</th>\n",
       "      <th>Thursday</th>\n",
       "      <th>Tuesday</th>\n",
       "      <th>Wednesday</th>\n",
       "    </tr>\n",
       "  </thead>\n",
       "  <tbody>\n",
       "    <tr>\n",
       "      <th>0</th>\n",
       "      <td>False</td>\n",
       "      <td>False</td>\n",
       "      <td>False</td>\n",
       "      <td>True</td>\n",
       "      <td>False</td>\n",
       "      <td>False</td>\n",
       "    </tr>\n",
       "    <tr>\n",
       "      <th>1</th>\n",
       "      <td>False</td>\n",
       "      <td>False</td>\n",
       "      <td>False</td>\n",
       "      <td>True</td>\n",
       "      <td>False</td>\n",
       "      <td>False</td>\n",
       "    </tr>\n",
       "    <tr>\n",
       "      <th>2</th>\n",
       "      <td>False</td>\n",
       "      <td>False</td>\n",
       "      <td>False</td>\n",
       "      <td>False</td>\n",
       "      <td>False</td>\n",
       "      <td>True</td>\n",
       "    </tr>\n",
       "    <tr>\n",
       "      <th>3</th>\n",
       "      <td>False</td>\n",
       "      <td>False</td>\n",
       "      <td>True</td>\n",
       "      <td>False</td>\n",
       "      <td>False</td>\n",
       "      <td>False</td>\n",
       "    </tr>\n",
       "    <tr>\n",
       "      <th>4</th>\n",
       "      <td>False</td>\n",
       "      <td>False</td>\n",
       "      <td>False</td>\n",
       "      <td>False</td>\n",
       "      <td>False</td>\n",
       "      <td>False</td>\n",
       "    </tr>\n",
       "    <tr>\n",
       "      <th>...</th>\n",
       "      <td>...</td>\n",
       "      <td>...</td>\n",
       "      <td>...</td>\n",
       "      <td>...</td>\n",
       "      <td>...</td>\n",
       "      <td>...</td>\n",
       "    </tr>\n",
       "    <tr>\n",
       "      <th>19995</th>\n",
       "      <td>True</td>\n",
       "      <td>False</td>\n",
       "      <td>False</td>\n",
       "      <td>False</td>\n",
       "      <td>False</td>\n",
       "      <td>False</td>\n",
       "    </tr>\n",
       "    <tr>\n",
       "      <th>19996</th>\n",
       "      <td>False</td>\n",
       "      <td>False</td>\n",
       "      <td>False</td>\n",
       "      <td>False</td>\n",
       "      <td>False</td>\n",
       "      <td>False</td>\n",
       "    </tr>\n",
       "    <tr>\n",
       "      <th>19997</th>\n",
       "      <td>True</td>\n",
       "      <td>False</td>\n",
       "      <td>False</td>\n",
       "      <td>False</td>\n",
       "      <td>False</td>\n",
       "      <td>False</td>\n",
       "    </tr>\n",
       "    <tr>\n",
       "      <th>19998</th>\n",
       "      <td>False</td>\n",
       "      <td>False</td>\n",
       "      <td>False</td>\n",
       "      <td>True</td>\n",
       "      <td>False</td>\n",
       "      <td>False</td>\n",
       "    </tr>\n",
       "    <tr>\n",
       "      <th>19999</th>\n",
       "      <td>False</td>\n",
       "      <td>False</td>\n",
       "      <td>False</td>\n",
       "      <td>False</td>\n",
       "      <td>False</td>\n",
       "      <td>False</td>\n",
       "    </tr>\n",
       "  </tbody>\n",
       "</table>\n",
       "<p>20000 rows × 6 columns</p>\n",
       "</div>"
      ],
      "text/plain": [
       "       Monday  Saturday  Sunday  Thursday  Tuesday  Wednesday\n",
       "0       False     False   False      True    False      False\n",
       "1       False     False   False      True    False      False\n",
       "2       False     False   False     False    False       True\n",
       "3       False     False    True     False    False      False\n",
       "4       False     False   False     False    False      False\n",
       "...       ...       ...     ...       ...      ...        ...\n",
       "19995    True     False   False     False    False      False\n",
       "19996   False     False   False     False    False      False\n",
       "19997    True     False   False     False    False      False\n",
       "19998   False     False   False      True    False      False\n",
       "19999   False     False   False     False    False      False\n",
       "\n",
       "[20000 rows x 6 columns]"
      ]
     },
     "execution_count": 41,
     "metadata": {},
     "output_type": "execute_result"
    }
   ],
   "source": [
    "day=pd.get_dummies(tb[\"Day of Week\"],drop_first=True)\n",
    "day "
   ]
  },
  {
   "cell_type": "code",
   "execution_count": 42,
   "id": "39d7e2d9-ba42-4d25-a2e7-4ce134197439",
   "metadata": {},
   "outputs": [
    {
     "data": {
      "text/html": [
       "<div>\n",
       "<style scoped>\n",
       "    .dataframe tbody tr th:only-of-type {\n",
       "        vertical-align: middle;\n",
       "    }\n",
       "\n",
       "    .dataframe tbody tr th {\n",
       "        vertical-align: top;\n",
       "    }\n",
       "\n",
       "    .dataframe thead th {\n",
       "        text-align: right;\n",
       "    }\n",
       "</style>\n",
       "<table border=\"1\" class=\"dataframe\">\n",
       "  <thead>\n",
       "    <tr style=\"text-align: right;\">\n",
       "      <th></th>\n",
       "      <th>Monday</th>\n",
       "      <th>Saturday</th>\n",
       "      <th>Sunday</th>\n",
       "      <th>Thursday</th>\n",
       "      <th>Tuesday</th>\n",
       "      <th>Wednesday</th>\n",
       "    </tr>\n",
       "  </thead>\n",
       "  <tbody>\n",
       "    <tr>\n",
       "      <th>0</th>\n",
       "      <td>0</td>\n",
       "      <td>0</td>\n",
       "      <td>0</td>\n",
       "      <td>1</td>\n",
       "      <td>0</td>\n",
       "      <td>0</td>\n",
       "    </tr>\n",
       "    <tr>\n",
       "      <th>1</th>\n",
       "      <td>0</td>\n",
       "      <td>0</td>\n",
       "      <td>0</td>\n",
       "      <td>1</td>\n",
       "      <td>0</td>\n",
       "      <td>0</td>\n",
       "    </tr>\n",
       "    <tr>\n",
       "      <th>2</th>\n",
       "      <td>0</td>\n",
       "      <td>0</td>\n",
       "      <td>0</td>\n",
       "      <td>0</td>\n",
       "      <td>0</td>\n",
       "      <td>1</td>\n",
       "    </tr>\n",
       "    <tr>\n",
       "      <th>3</th>\n",
       "      <td>0</td>\n",
       "      <td>0</td>\n",
       "      <td>1</td>\n",
       "      <td>0</td>\n",
       "      <td>0</td>\n",
       "      <td>0</td>\n",
       "    </tr>\n",
       "    <tr>\n",
       "      <th>4</th>\n",
       "      <td>0</td>\n",
       "      <td>0</td>\n",
       "      <td>0</td>\n",
       "      <td>0</td>\n",
       "      <td>0</td>\n",
       "      <td>0</td>\n",
       "    </tr>\n",
       "    <tr>\n",
       "      <th>...</th>\n",
       "      <td>...</td>\n",
       "      <td>...</td>\n",
       "      <td>...</td>\n",
       "      <td>...</td>\n",
       "      <td>...</td>\n",
       "      <td>...</td>\n",
       "    </tr>\n",
       "    <tr>\n",
       "      <th>19995</th>\n",
       "      <td>1</td>\n",
       "      <td>0</td>\n",
       "      <td>0</td>\n",
       "      <td>0</td>\n",
       "      <td>0</td>\n",
       "      <td>0</td>\n",
       "    </tr>\n",
       "    <tr>\n",
       "      <th>19996</th>\n",
       "      <td>0</td>\n",
       "      <td>0</td>\n",
       "      <td>0</td>\n",
       "      <td>0</td>\n",
       "      <td>0</td>\n",
       "      <td>0</td>\n",
       "    </tr>\n",
       "    <tr>\n",
       "      <th>19997</th>\n",
       "      <td>1</td>\n",
       "      <td>0</td>\n",
       "      <td>0</td>\n",
       "      <td>0</td>\n",
       "      <td>0</td>\n",
       "      <td>0</td>\n",
       "    </tr>\n",
       "    <tr>\n",
       "      <th>19998</th>\n",
       "      <td>0</td>\n",
       "      <td>0</td>\n",
       "      <td>0</td>\n",
       "      <td>1</td>\n",
       "      <td>0</td>\n",
       "      <td>0</td>\n",
       "    </tr>\n",
       "    <tr>\n",
       "      <th>19999</th>\n",
       "      <td>0</td>\n",
       "      <td>0</td>\n",
       "      <td>0</td>\n",
       "      <td>0</td>\n",
       "      <td>0</td>\n",
       "      <td>0</td>\n",
       "    </tr>\n",
       "  </tbody>\n",
       "</table>\n",
       "<p>20000 rows × 6 columns</p>\n",
       "</div>"
      ],
      "text/plain": [
       "       Monday  Saturday  Sunday  Thursday  Tuesday  Wednesday\n",
       "0           0         0       0         1        0          0\n",
       "1           0         0       0         1        0          0\n",
       "2           0         0       0         0        0          1\n",
       "3           0         0       1         0        0          0\n",
       "4           0         0       0         0        0          0\n",
       "...       ...       ...     ...       ...      ...        ...\n",
       "19995       1         0       0         0        0          0\n",
       "19996       0         0       0         0        0          0\n",
       "19997       1         0       0         0        0          0\n",
       "19998       0         0       0         1        0          0\n",
       "19999       0         0       0         0        0          0\n",
       "\n",
       "[20000 rows x 6 columns]"
      ]
     },
     "execution_count": 42,
     "metadata": {},
     "output_type": "execute_result"
    }
   ],
   "source": [
    "day=day.astype(int)\n",
    "day"
   ]
  },
  {
   "cell_type": "code",
   "execution_count": 43,
   "id": "5a72dbc5-0ae1-4610-b897-9ed7d30dd8b4",
   "metadata": {},
   "outputs": [
    {
     "data": {
      "text/html": [
       "<div>\n",
       "<style scoped>\n",
       "    .dataframe tbody tr th:only-of-type {\n",
       "        vertical-align: middle;\n",
       "    }\n",
       "\n",
       "    .dataframe tbody tr th {\n",
       "        vertical-align: top;\n",
       "    }\n",
       "\n",
       "    .dataframe thead th {\n",
       "        text-align: right;\n",
       "    }\n",
       "</style>\n",
       "<table border=\"1\" class=\"dataframe\">\n",
       "  <thead>\n",
       "    <tr style=\"text-align: right;\">\n",
       "      <th></th>\n",
       "      <th>Yes</th>\n",
       "    </tr>\n",
       "  </thead>\n",
       "  <tbody>\n",
       "    <tr>\n",
       "      <th>0</th>\n",
       "      <td>True</td>\n",
       "    </tr>\n",
       "    <tr>\n",
       "      <th>1</th>\n",
       "      <td>False</td>\n",
       "    </tr>\n",
       "    <tr>\n",
       "      <th>2</th>\n",
       "      <td>False</td>\n",
       "    </tr>\n",
       "    <tr>\n",
       "      <th>3</th>\n",
       "      <td>False</td>\n",
       "    </tr>\n",
       "    <tr>\n",
       "      <th>4</th>\n",
       "      <td>False</td>\n",
       "    </tr>\n",
       "    <tr>\n",
       "      <th>...</th>\n",
       "      <td>...</td>\n",
       "    </tr>\n",
       "    <tr>\n",
       "      <th>19995</th>\n",
       "      <td>True</td>\n",
       "    </tr>\n",
       "    <tr>\n",
       "      <th>19996</th>\n",
       "      <td>False</td>\n",
       "    </tr>\n",
       "    <tr>\n",
       "      <th>19997</th>\n",
       "      <td>False</td>\n",
       "    </tr>\n",
       "    <tr>\n",
       "      <th>19998</th>\n",
       "      <td>False</td>\n",
       "    </tr>\n",
       "    <tr>\n",
       "      <th>19999</th>\n",
       "      <td>False</td>\n",
       "    </tr>\n",
       "  </tbody>\n",
       "</table>\n",
       "<p>20000 rows × 1 columns</p>\n",
       "</div>"
      ],
      "text/plain": [
       "         Yes\n",
       "0       True\n",
       "1      False\n",
       "2      False\n",
       "3      False\n",
       "4      False\n",
       "...      ...\n",
       "19995   True\n",
       "19996  False\n",
       "19997  False\n",
       "19998  False\n",
       "19999  False\n",
       "\n",
       "[20000 rows x 1 columns]"
      ]
     },
     "execution_count": 43,
     "metadata": {},
     "output_type": "execute_result"
    }
   ],
   "source": [
    "perishable_goods=pd.get_dummies(tb[\"Perishable Goods\"],drop_first=True)\n",
    "perishable_goods "
   ]
  },
  {
   "cell_type": "code",
   "execution_count": 44,
   "id": "11a6b673-1be9-4524-89c8-03004f08bd0a",
   "metadata": {},
   "outputs": [
    {
     "data": {
      "text/html": [
       "<div>\n",
       "<style scoped>\n",
       "    .dataframe tbody tr th:only-of-type {\n",
       "        vertical-align: middle;\n",
       "    }\n",
       "\n",
       "    .dataframe tbody tr th {\n",
       "        vertical-align: top;\n",
       "    }\n",
       "\n",
       "    .dataframe thead th {\n",
       "        text-align: right;\n",
       "    }\n",
       "</style>\n",
       "<table border=\"1\" class=\"dataframe\">\n",
       "  <thead>\n",
       "    <tr style=\"text-align: right;\">\n",
       "      <th></th>\n",
       "      <th>Yes</th>\n",
       "    </tr>\n",
       "  </thead>\n",
       "  <tbody>\n",
       "    <tr>\n",
       "      <th>0</th>\n",
       "      <td>1</td>\n",
       "    </tr>\n",
       "    <tr>\n",
       "      <th>1</th>\n",
       "      <td>0</td>\n",
       "    </tr>\n",
       "    <tr>\n",
       "      <th>2</th>\n",
       "      <td>0</td>\n",
       "    </tr>\n",
       "    <tr>\n",
       "      <th>3</th>\n",
       "      <td>0</td>\n",
       "    </tr>\n",
       "    <tr>\n",
       "      <th>4</th>\n",
       "      <td>0</td>\n",
       "    </tr>\n",
       "    <tr>\n",
       "      <th>...</th>\n",
       "      <td>...</td>\n",
       "    </tr>\n",
       "    <tr>\n",
       "      <th>19995</th>\n",
       "      <td>1</td>\n",
       "    </tr>\n",
       "    <tr>\n",
       "      <th>19996</th>\n",
       "      <td>0</td>\n",
       "    </tr>\n",
       "    <tr>\n",
       "      <th>19997</th>\n",
       "      <td>0</td>\n",
       "    </tr>\n",
       "    <tr>\n",
       "      <th>19998</th>\n",
       "      <td>0</td>\n",
       "    </tr>\n",
       "    <tr>\n",
       "      <th>19999</th>\n",
       "      <td>0</td>\n",
       "    </tr>\n",
       "  </tbody>\n",
       "</table>\n",
       "<p>20000 rows × 1 columns</p>\n",
       "</div>"
      ],
      "text/plain": [
       "       Yes\n",
       "0        1\n",
       "1        0\n",
       "2        0\n",
       "3        0\n",
       "4        0\n",
       "...    ...\n",
       "19995    1\n",
       "19996    0\n",
       "19997    0\n",
       "19998    0\n",
       "19999    0\n",
       "\n",
       "[20000 rows x 1 columns]"
      ]
     },
     "execution_count": 44,
     "metadata": {},
     "output_type": "execute_result"
    }
   ],
   "source": [
    "perishable_goods=perishable_goods .astype(int)\n",
    "perishable_goods"
   ]
  },
  {
   "cell_type": "code",
   "execution_count": 51,
   "id": "02d99b0c-5675-4138-b019-658978e3a43f",
   "metadata": {},
   "outputs": [
    {
     "ename": "KeyError",
     "evalue": "\"['Origin Airport', 'Destination Airport', 'Mode of Transport', 'Temperature-Sensitive', 'Carrier Name', 'Weather Conditions', 'Delay Status', 'Day of Week', 'Perishable Goods'] not found in axis\"",
     "output_type": "error",
     "traceback": [
      "\u001b[1;31m---------------------------------------------------------------------------\u001b[0m",
      "\u001b[1;31mKeyError\u001b[0m                                  Traceback (most recent call last)",
      "Cell \u001b[1;32mIn[51], line 1\u001b[0m\n\u001b[1;32m----> 1\u001b[0m tb\u001b[38;5;241m.\u001b[39mdrop(columns\u001b[38;5;241m=\u001b[39m[\u001b[38;5;124m\"\u001b[39m\u001b[38;5;124mOrigin Airport\u001b[39m\u001b[38;5;124m\"\u001b[39m, \u001b[38;5;124m\"\u001b[39m\u001b[38;5;124mDestination Airport\u001b[39m\u001b[38;5;124m\"\u001b[39m, \u001b[38;5;124m\"\u001b[39m\u001b[38;5;124mMode of Transport\u001b[39m\u001b[38;5;124m\"\u001b[39m, \u001b[38;5;124m\"\u001b[39m\u001b[38;5;124mTemperature-Sensitive\u001b[39m\u001b[38;5;124m\"\u001b[39m,\u001b[38;5;124m\"\u001b[39m\u001b[38;5;124mCarrier Name\u001b[39m\u001b[38;5;124m\"\u001b[39m,\u001b[38;5;124m\"\u001b[39m\u001b[38;5;124mWeather Conditions\u001b[39m\u001b[38;5;124m\"\u001b[39m,\u001b[38;5;124m\"\u001b[39m\u001b[38;5;124mDelay Status\u001b[39m\u001b[38;5;124m\"\u001b[39m,\u001b[38;5;124m\"\u001b[39m\u001b[38;5;124mDay of Week\u001b[39m\u001b[38;5;124m\"\u001b[39m,\u001b[38;5;124m\"\u001b[39m\u001b[38;5;124mPerishable Goods\u001b[39m\u001b[38;5;124m\"\u001b[39m],inplace\u001b[38;5;241m=\u001b[39m\u001b[38;5;28;01mTrue\u001b[39;00m)\n\u001b[0;32m      2\u001b[0m tb\n",
      "File \u001b[1;32m~\\Downloads\\anaconda\\Lib\\site-packages\\pandas\\core\\frame.py:5581\u001b[0m, in \u001b[0;36mDataFrame.drop\u001b[1;34m(self, labels, axis, index, columns, level, inplace, errors)\u001b[0m\n\u001b[0;32m   5433\u001b[0m \u001b[38;5;28;01mdef\u001b[39;00m \u001b[38;5;21mdrop\u001b[39m(\n\u001b[0;32m   5434\u001b[0m     \u001b[38;5;28mself\u001b[39m,\n\u001b[0;32m   5435\u001b[0m     labels: IndexLabel \u001b[38;5;241m|\u001b[39m \u001b[38;5;28;01mNone\u001b[39;00m \u001b[38;5;241m=\u001b[39m \u001b[38;5;28;01mNone\u001b[39;00m,\n\u001b[1;32m   (...)\u001b[0m\n\u001b[0;32m   5442\u001b[0m     errors: IgnoreRaise \u001b[38;5;241m=\u001b[39m \u001b[38;5;124m\"\u001b[39m\u001b[38;5;124mraise\u001b[39m\u001b[38;5;124m\"\u001b[39m,\n\u001b[0;32m   5443\u001b[0m ) \u001b[38;5;241m-\u001b[39m\u001b[38;5;241m>\u001b[39m DataFrame \u001b[38;5;241m|\u001b[39m \u001b[38;5;28;01mNone\u001b[39;00m:\n\u001b[0;32m   5444\u001b[0m \u001b[38;5;250m    \u001b[39m\u001b[38;5;124;03m\"\"\"\u001b[39;00m\n\u001b[0;32m   5445\u001b[0m \u001b[38;5;124;03m    Drop specified labels from rows or columns.\u001b[39;00m\n\u001b[0;32m   5446\u001b[0m \n\u001b[1;32m   (...)\u001b[0m\n\u001b[0;32m   5579\u001b[0m \u001b[38;5;124;03m            weight  1.0     0.8\u001b[39;00m\n\u001b[0;32m   5580\u001b[0m \u001b[38;5;124;03m    \"\"\"\u001b[39;00m\n\u001b[1;32m-> 5581\u001b[0m     \u001b[38;5;28;01mreturn\u001b[39;00m \u001b[38;5;28msuper\u001b[39m()\u001b[38;5;241m.\u001b[39mdrop(\n\u001b[0;32m   5582\u001b[0m         labels\u001b[38;5;241m=\u001b[39mlabels,\n\u001b[0;32m   5583\u001b[0m         axis\u001b[38;5;241m=\u001b[39maxis,\n\u001b[0;32m   5584\u001b[0m         index\u001b[38;5;241m=\u001b[39mindex,\n\u001b[0;32m   5585\u001b[0m         columns\u001b[38;5;241m=\u001b[39mcolumns,\n\u001b[0;32m   5586\u001b[0m         level\u001b[38;5;241m=\u001b[39mlevel,\n\u001b[0;32m   5587\u001b[0m         inplace\u001b[38;5;241m=\u001b[39minplace,\n\u001b[0;32m   5588\u001b[0m         errors\u001b[38;5;241m=\u001b[39merrors,\n\u001b[0;32m   5589\u001b[0m     )\n",
      "File \u001b[1;32m~\\Downloads\\anaconda\\Lib\\site-packages\\pandas\\core\\generic.py:4788\u001b[0m, in \u001b[0;36mNDFrame.drop\u001b[1;34m(self, labels, axis, index, columns, level, inplace, errors)\u001b[0m\n\u001b[0;32m   4786\u001b[0m \u001b[38;5;28;01mfor\u001b[39;00m axis, labels \u001b[38;5;129;01min\u001b[39;00m axes\u001b[38;5;241m.\u001b[39mitems():\n\u001b[0;32m   4787\u001b[0m     \u001b[38;5;28;01mif\u001b[39;00m labels \u001b[38;5;129;01mis\u001b[39;00m \u001b[38;5;129;01mnot\u001b[39;00m \u001b[38;5;28;01mNone\u001b[39;00m:\n\u001b[1;32m-> 4788\u001b[0m         obj \u001b[38;5;241m=\u001b[39m obj\u001b[38;5;241m.\u001b[39m_drop_axis(labels, axis, level\u001b[38;5;241m=\u001b[39mlevel, errors\u001b[38;5;241m=\u001b[39merrors)\n\u001b[0;32m   4790\u001b[0m \u001b[38;5;28;01mif\u001b[39;00m inplace:\n\u001b[0;32m   4791\u001b[0m     \u001b[38;5;28mself\u001b[39m\u001b[38;5;241m.\u001b[39m_update_inplace(obj)\n",
      "File \u001b[1;32m~\\Downloads\\anaconda\\Lib\\site-packages\\pandas\\core\\generic.py:4830\u001b[0m, in \u001b[0;36mNDFrame._drop_axis\u001b[1;34m(self, labels, axis, level, errors, only_slice)\u001b[0m\n\u001b[0;32m   4828\u001b[0m         new_axis \u001b[38;5;241m=\u001b[39m axis\u001b[38;5;241m.\u001b[39mdrop(labels, level\u001b[38;5;241m=\u001b[39mlevel, errors\u001b[38;5;241m=\u001b[39merrors)\n\u001b[0;32m   4829\u001b[0m     \u001b[38;5;28;01melse\u001b[39;00m:\n\u001b[1;32m-> 4830\u001b[0m         new_axis \u001b[38;5;241m=\u001b[39m axis\u001b[38;5;241m.\u001b[39mdrop(labels, errors\u001b[38;5;241m=\u001b[39merrors)\n\u001b[0;32m   4831\u001b[0m     indexer \u001b[38;5;241m=\u001b[39m axis\u001b[38;5;241m.\u001b[39mget_indexer(new_axis)\n\u001b[0;32m   4833\u001b[0m \u001b[38;5;66;03m# Case for non-unique axis\u001b[39;00m\n\u001b[0;32m   4834\u001b[0m \u001b[38;5;28;01melse\u001b[39;00m:\n",
      "File \u001b[1;32m~\\Downloads\\anaconda\\Lib\\site-packages\\pandas\\core\\indexes\\base.py:7070\u001b[0m, in \u001b[0;36mIndex.drop\u001b[1;34m(self, labels, errors)\u001b[0m\n\u001b[0;32m   7068\u001b[0m \u001b[38;5;28;01mif\u001b[39;00m mask\u001b[38;5;241m.\u001b[39many():\n\u001b[0;32m   7069\u001b[0m     \u001b[38;5;28;01mif\u001b[39;00m errors \u001b[38;5;241m!=\u001b[39m \u001b[38;5;124m\"\u001b[39m\u001b[38;5;124mignore\u001b[39m\u001b[38;5;124m\"\u001b[39m:\n\u001b[1;32m-> 7070\u001b[0m         \u001b[38;5;28;01mraise\u001b[39;00m \u001b[38;5;167;01mKeyError\u001b[39;00m(\u001b[38;5;124mf\u001b[39m\u001b[38;5;124m\"\u001b[39m\u001b[38;5;132;01m{\u001b[39;00mlabels[mask]\u001b[38;5;241m.\u001b[39mtolist()\u001b[38;5;132;01m}\u001b[39;00m\u001b[38;5;124m not found in axis\u001b[39m\u001b[38;5;124m\"\u001b[39m)\n\u001b[0;32m   7071\u001b[0m     indexer \u001b[38;5;241m=\u001b[39m indexer[\u001b[38;5;241m~\u001b[39mmask]\n\u001b[0;32m   7072\u001b[0m \u001b[38;5;28;01mreturn\u001b[39;00m \u001b[38;5;28mself\u001b[39m\u001b[38;5;241m.\u001b[39mdelete(indexer)\n",
      "\u001b[1;31mKeyError\u001b[0m: \"['Origin Airport', 'Destination Airport', 'Mode of Transport', 'Temperature-Sensitive', 'Carrier Name', 'Weather Conditions', 'Delay Status', 'Day of Week', 'Perishable Goods'] not found in axis\""
     ]
    }
   ],
   "source": [
    "tb.drop(columns=[\"Origin Airport\", \"Destination Airport\", \"Mode of Transport\", \"Temperature-Sensitive\",\"Carrier Name\",\"Weather Conditions\",\"Delay Status\",\"Day of Week\",\"Perishable Goods\"],inplace=True)\n",
    "tb"
   ]
  },
  {
   "cell_type": "code",
   "execution_count": 52,
   "id": "05b2eb27-3cda-4fe5-bb07-4ca27349507b",
   "metadata": {
    "scrolled": true
   },
   "outputs": [],
   "source": [
    "tb=pd.concat([tb,airport, destination, transport, temperature, weather, destination_status, carrier_name, day, perishable_goods],axis=1)"
   ]
  },
  {
   "cell_type": "code",
   "execution_count": 53,
   "id": "898305e0-5d3d-418b-8925-c57b200f2dac",
   "metadata": {},
   "outputs": [
    {
     "data": {
      "text/html": [
       "<div>\n",
       "<style scoped>\n",
       "    .dataframe tbody tr th:only-of-type {\n",
       "        vertical-align: middle;\n",
       "    }\n",
       "\n",
       "    .dataframe tbody tr th {\n",
       "        vertical-align: top;\n",
       "    }\n",
       "\n",
       "    .dataframe thead th {\n",
       "        text-align: right;\n",
       "    }\n",
       "</style>\n",
       "<table border=\"1\" class=\"dataframe\">\n",
       "  <thead>\n",
       "    <tr style=\"text-align: right;\">\n",
       "      <th></th>\n",
       "      <th>Shipment Weight (kg)</th>\n",
       "      <th>Shipment Volume (m³)</th>\n",
       "      <th>Freight Cost (USD)</th>\n",
       "      <th>Transit Time (hours)</th>\n",
       "      <th>Customs Clearance Time (hours)</th>\n",
       "      <th>DFW</th>\n",
       "      <th>JFK</th>\n",
       "      <th>LAX</th>\n",
       "      <th>MIA</th>\n",
       "      <th>ORD</th>\n",
       "      <th>...</th>\n",
       "      <th>FedEx</th>\n",
       "      <th>Lufthansa Cargo</th>\n",
       "      <th>UPS</th>\n",
       "      <th>Monday</th>\n",
       "      <th>Saturday</th>\n",
       "      <th>Sunday</th>\n",
       "      <th>Thursday</th>\n",
       "      <th>Tuesday</th>\n",
       "      <th>Wednesday</th>\n",
       "      <th>Yes</th>\n",
       "    </tr>\n",
       "  </thead>\n",
       "  <tbody>\n",
       "    <tr>\n",
       "      <th>0</th>\n",
       "      <td>655.03</td>\n",
       "      <td>7.80</td>\n",
       "      <td>1238.23</td>\n",
       "      <td>16</td>\n",
       "      <td>7</td>\n",
       "      <td>0</td>\n",
       "      <td>0</td>\n",
       "      <td>0</td>\n",
       "      <td>0</td>\n",
       "      <td>0</td>\n",
       "      <td>...</td>\n",
       "      <td>0</td>\n",
       "      <td>0</td>\n",
       "      <td>1</td>\n",
       "      <td>0</td>\n",
       "      <td>0</td>\n",
       "      <td>0</td>\n",
       "      <td>1</td>\n",
       "      <td>0</td>\n",
       "      <td>0</td>\n",
       "      <td>1</td>\n",
       "    </tr>\n",
       "    <tr>\n",
       "      <th>1</th>\n",
       "      <td>988.60</td>\n",
       "      <td>37.41</td>\n",
       "      <td>1868.80</td>\n",
       "      <td>21</td>\n",
       "      <td>5</td>\n",
       "      <td>0</td>\n",
       "      <td>0</td>\n",
       "      <td>0</td>\n",
       "      <td>0</td>\n",
       "      <td>0</td>\n",
       "      <td>...</td>\n",
       "      <td>0</td>\n",
       "      <td>1</td>\n",
       "      <td>0</td>\n",
       "      <td>0</td>\n",
       "      <td>0</td>\n",
       "      <td>0</td>\n",
       "      <td>1</td>\n",
       "      <td>0</td>\n",
       "      <td>0</td>\n",
       "      <td>0</td>\n",
       "    </tr>\n",
       "    <tr>\n",
       "      <th>2</th>\n",
       "      <td>637.71</td>\n",
       "      <td>10.53</td>\n",
       "      <td>1205.49</td>\n",
       "      <td>6</td>\n",
       "      <td>36</td>\n",
       "      <td>1</td>\n",
       "      <td>0</td>\n",
       "      <td>0</td>\n",
       "      <td>0</td>\n",
       "      <td>0</td>\n",
       "      <td>...</td>\n",
       "      <td>1</td>\n",
       "      <td>0</td>\n",
       "      <td>0</td>\n",
       "      <td>0</td>\n",
       "      <td>0</td>\n",
       "      <td>0</td>\n",
       "      <td>0</td>\n",
       "      <td>0</td>\n",
       "      <td>1</td>\n",
       "      <td>0</td>\n",
       "    </tr>\n",
       "    <tr>\n",
       "      <th>3</th>\n",
       "      <td>367.47</td>\n",
       "      <td>7.70</td>\n",
       "      <td>694.65</td>\n",
       "      <td>17</td>\n",
       "      <td>16</td>\n",
       "      <td>0</td>\n",
       "      <td>0</td>\n",
       "      <td>0</td>\n",
       "      <td>0</td>\n",
       "      <td>0</td>\n",
       "      <td>...</td>\n",
       "      <td>0</td>\n",
       "      <td>0</td>\n",
       "      <td>0</td>\n",
       "      <td>0</td>\n",
       "      <td>0</td>\n",
       "      <td>1</td>\n",
       "      <td>0</td>\n",
       "      <td>0</td>\n",
       "      <td>0</td>\n",
       "      <td>0</td>\n",
       "    </tr>\n",
       "    <tr>\n",
       "      <th>4</th>\n",
       "      <td>671.23</td>\n",
       "      <td>3.59</td>\n",
       "      <td>1268.86</td>\n",
       "      <td>36</td>\n",
       "      <td>3</td>\n",
       "      <td>0</td>\n",
       "      <td>0</td>\n",
       "      <td>0</td>\n",
       "      <td>0</td>\n",
       "      <td>1</td>\n",
       "      <td>...</td>\n",
       "      <td>0</td>\n",
       "      <td>0</td>\n",
       "      <td>0</td>\n",
       "      <td>0</td>\n",
       "      <td>0</td>\n",
       "      <td>0</td>\n",
       "      <td>0</td>\n",
       "      <td>0</td>\n",
       "      <td>0</td>\n",
       "      <td>0</td>\n",
       "    </tr>\n",
       "    <tr>\n",
       "      <th>...</th>\n",
       "      <td>...</td>\n",
       "      <td>...</td>\n",
       "      <td>...</td>\n",
       "      <td>...</td>\n",
       "      <td>...</td>\n",
       "      <td>...</td>\n",
       "      <td>...</td>\n",
       "      <td>...</td>\n",
       "      <td>...</td>\n",
       "      <td>...</td>\n",
       "      <td>...</td>\n",
       "      <td>...</td>\n",
       "      <td>...</td>\n",
       "      <td>...</td>\n",
       "      <td>...</td>\n",
       "      <td>...</td>\n",
       "      <td>...</td>\n",
       "      <td>...</td>\n",
       "      <td>...</td>\n",
       "      <td>...</td>\n",
       "      <td>...</td>\n",
       "    </tr>\n",
       "    <tr>\n",
       "      <th>19995</th>\n",
       "      <td>158.99</td>\n",
       "      <td>10.97</td>\n",
       "      <td>300.55</td>\n",
       "      <td>36</td>\n",
       "      <td>32</td>\n",
       "      <td>0</td>\n",
       "      <td>0</td>\n",
       "      <td>0</td>\n",
       "      <td>0</td>\n",
       "      <td>0</td>\n",
       "      <td>...</td>\n",
       "      <td>0</td>\n",
       "      <td>0</td>\n",
       "      <td>1</td>\n",
       "      <td>1</td>\n",
       "      <td>0</td>\n",
       "      <td>0</td>\n",
       "      <td>0</td>\n",
       "      <td>0</td>\n",
       "      <td>0</td>\n",
       "      <td>1</td>\n",
       "    </tr>\n",
       "    <tr>\n",
       "      <th>19996</th>\n",
       "      <td>655.74</td>\n",
       "      <td>42.92</td>\n",
       "      <td>1239.58</td>\n",
       "      <td>46</td>\n",
       "      <td>28</td>\n",
       "      <td>0</td>\n",
       "      <td>0</td>\n",
       "      <td>0</td>\n",
       "      <td>1</td>\n",
       "      <td>0</td>\n",
       "      <td>...</td>\n",
       "      <td>1</td>\n",
       "      <td>0</td>\n",
       "      <td>0</td>\n",
       "      <td>0</td>\n",
       "      <td>0</td>\n",
       "      <td>0</td>\n",
       "      <td>0</td>\n",
       "      <td>0</td>\n",
       "      <td>0</td>\n",
       "      <td>0</td>\n",
       "    </tr>\n",
       "    <tr>\n",
       "      <th>19997</th>\n",
       "      <td>711.80</td>\n",
       "      <td>29.54</td>\n",
       "      <td>1345.55</td>\n",
       "      <td>30</td>\n",
       "      <td>16</td>\n",
       "      <td>0</td>\n",
       "      <td>0</td>\n",
       "      <td>1</td>\n",
       "      <td>0</td>\n",
       "      <td>0</td>\n",
       "      <td>...</td>\n",
       "      <td>0</td>\n",
       "      <td>0</td>\n",
       "      <td>1</td>\n",
       "      <td>1</td>\n",
       "      <td>0</td>\n",
       "      <td>0</td>\n",
       "      <td>0</td>\n",
       "      <td>0</td>\n",
       "      <td>0</td>\n",
       "      <td>0</td>\n",
       "    </tr>\n",
       "    <tr>\n",
       "      <th>19998</th>\n",
       "      <td>147.04</td>\n",
       "      <td>4.38</td>\n",
       "      <td>277.96</td>\n",
       "      <td>16</td>\n",
       "      <td>19</td>\n",
       "      <td>1</td>\n",
       "      <td>0</td>\n",
       "      <td>0</td>\n",
       "      <td>0</td>\n",
       "      <td>0</td>\n",
       "      <td>...</td>\n",
       "      <td>1</td>\n",
       "      <td>0</td>\n",
       "      <td>0</td>\n",
       "      <td>0</td>\n",
       "      <td>0</td>\n",
       "      <td>0</td>\n",
       "      <td>1</td>\n",
       "      <td>0</td>\n",
       "      <td>0</td>\n",
       "      <td>0</td>\n",
       "    </tr>\n",
       "    <tr>\n",
       "      <th>19999</th>\n",
       "      <td>261.57</td>\n",
       "      <td>7.08</td>\n",
       "      <td>494.46</td>\n",
       "      <td>18</td>\n",
       "      <td>39</td>\n",
       "      <td>0</td>\n",
       "      <td>0</td>\n",
       "      <td>0</td>\n",
       "      <td>0</td>\n",
       "      <td>0</td>\n",
       "      <td>...</td>\n",
       "      <td>0</td>\n",
       "      <td>0</td>\n",
       "      <td>0</td>\n",
       "      <td>0</td>\n",
       "      <td>0</td>\n",
       "      <td>0</td>\n",
       "      <td>0</td>\n",
       "      <td>0</td>\n",
       "      <td>0</td>\n",
       "      <td>0</td>\n",
       "    </tr>\n",
       "  </tbody>\n",
       "</table>\n",
       "<p>20000 rows × 35 columns</p>\n",
       "</div>"
      ],
      "text/plain": [
       "       Shipment Weight (kg)  Shipment Volume (m³)  Freight Cost (USD)  \\\n",
       "0                    655.03                  7.80             1238.23   \n",
       "1                    988.60                 37.41             1868.80   \n",
       "2                    637.71                 10.53             1205.49   \n",
       "3                    367.47                  7.70              694.65   \n",
       "4                    671.23                  3.59             1268.86   \n",
       "...                     ...                   ...                 ...   \n",
       "19995                158.99                 10.97              300.55   \n",
       "19996                655.74                 42.92             1239.58   \n",
       "19997                711.80                 29.54             1345.55   \n",
       "19998                147.04                  4.38              277.96   \n",
       "19999                261.57                  7.08              494.46   \n",
       "\n",
       "       Transit Time (hours)  Customs Clearance Time (hours)  DFW  JFK  LAX  \\\n",
       "0                        16                               7    0    0    0   \n",
       "1                        21                               5    0    0    0   \n",
       "2                         6                              36    1    0    0   \n",
       "3                        17                              16    0    0    0   \n",
       "4                        36                               3    0    0    0   \n",
       "...                     ...                             ...  ...  ...  ...   \n",
       "19995                    36                              32    0    0    0   \n",
       "19996                    46                              28    0    0    0   \n",
       "19997                    30                              16    0    0    1   \n",
       "19998                    16                              19    1    0    0   \n",
       "19999                    18                              39    0    0    0   \n",
       "\n",
       "       MIA  ORD  ...  FedEx  Lufthansa Cargo  UPS  Monday  Saturday  Sunday  \\\n",
       "0        0    0  ...      0                0    1       0         0       0   \n",
       "1        0    0  ...      0                1    0       0         0       0   \n",
       "2        0    0  ...      1                0    0       0         0       0   \n",
       "3        0    0  ...      0                0    0       0         0       1   \n",
       "4        0    1  ...      0                0    0       0         0       0   \n",
       "...    ...  ...  ...    ...              ...  ...     ...       ...     ...   \n",
       "19995    0    0  ...      0                0    1       1         0       0   \n",
       "19996    1    0  ...      1                0    0       0         0       0   \n",
       "19997    0    0  ...      0                0    1       1         0       0   \n",
       "19998    0    0  ...      1                0    0       0         0       0   \n",
       "19999    0    0  ...      0                0    0       0         0       0   \n",
       "\n",
       "       Thursday  Tuesday  Wednesday  Yes  \n",
       "0             1        0          0    1  \n",
       "1             1        0          0    0  \n",
       "2             0        0          1    0  \n",
       "3             0        0          0    0  \n",
       "4             0        0          0    0  \n",
       "...         ...      ...        ...  ...  \n",
       "19995         0        0          0    1  \n",
       "19996         0        0          0    0  \n",
       "19997         0        0          0    0  \n",
       "19998         1        0          0    0  \n",
       "19999         0        0          0    0  \n",
       "\n",
       "[20000 rows x 35 columns]"
      ]
     },
     "execution_count": 53,
     "metadata": {},
     "output_type": "execute_result"
    }
   ],
   "source": [
    "tb"
   ]
  },
  {
   "cell_type": "code",
   "execution_count": 238,
   "id": "e4d6579c-0943-4471-8c7d-d9d02a610685",
   "metadata": {},
   "outputs": [
    {
     "data": {
      "text/html": [
       "<div>\n",
       "<style scoped>\n",
       "    .dataframe tbody tr th:only-of-type {\n",
       "        vertical-align: middle;\n",
       "    }\n",
       "\n",
       "    .dataframe tbody tr th {\n",
       "        vertical-align: top;\n",
       "    }\n",
       "\n",
       "    .dataframe thead th {\n",
       "        text-align: right;\n",
       "    }\n",
       "</style>\n",
       "<table border=\"1\" class=\"dataframe\">\n",
       "  <thead>\n",
       "    <tr style=\"text-align: right;\">\n",
       "      <th></th>\n",
       "      <th>Shipment Weight (kg)</th>\n",
       "      <th>Shipment Volume (m_)</th>\n",
       "      <th>Freight Cost (USD)</th>\n",
       "      <th>Transit Time (hours)</th>\n",
       "      <th>Customs Clearance Time (hours)</th>\n",
       "      <th>DFW</th>\n",
       "      <th>JFK</th>\n",
       "      <th>LAX</th>\n",
       "      <th>MIA</th>\n",
       "      <th>ORD</th>\n",
       "      <th>...</th>\n",
       "      <th>FedEx</th>\n",
       "      <th>Lufthansa Cargo</th>\n",
       "      <th>UPS</th>\n",
       "      <th>Monday</th>\n",
       "      <th>Saturday</th>\n",
       "      <th>Sunday</th>\n",
       "      <th>Thursday</th>\n",
       "      <th>Tuesday</th>\n",
       "      <th>Wednesday</th>\n",
       "      <th>Yes</th>\n",
       "    </tr>\n",
       "  </thead>\n",
       "  <tbody>\n",
       "    <tr>\n",
       "      <th>0</th>\n",
       "      <td>0.651558</td>\n",
       "      <td>0.154340</td>\n",
       "      <td>0.651556</td>\n",
       "      <td>0.166667</td>\n",
       "      <td>0.130435</td>\n",
       "      <td>0</td>\n",
       "      <td>0</td>\n",
       "      <td>0</td>\n",
       "      <td>0</td>\n",
       "      <td>0</td>\n",
       "      <td>...</td>\n",
       "      <td>0</td>\n",
       "      <td>0</td>\n",
       "      <td>1</td>\n",
       "      <td>0</td>\n",
       "      <td>0</td>\n",
       "      <td>0</td>\n",
       "      <td>1</td>\n",
       "      <td>0</td>\n",
       "      <td>0</td>\n",
       "      <td>1</td>\n",
       "    </tr>\n",
       "    <tr>\n",
       "      <th>1</th>\n",
       "      <td>0.988515</td>\n",
       "      <td>0.747845</td>\n",
       "      <td>0.988516</td>\n",
       "      <td>0.242424</td>\n",
       "      <td>0.086957</td>\n",
       "      <td>0</td>\n",
       "      <td>0</td>\n",
       "      <td>0</td>\n",
       "      <td>0</td>\n",
       "      <td>0</td>\n",
       "      <td>...</td>\n",
       "      <td>0</td>\n",
       "      <td>1</td>\n",
       "      <td>0</td>\n",
       "      <td>0</td>\n",
       "      <td>0</td>\n",
       "      <td>0</td>\n",
       "      <td>1</td>\n",
       "      <td>0</td>\n",
       "      <td>0</td>\n",
       "      <td>0</td>\n",
       "    </tr>\n",
       "    <tr>\n",
       "      <th>2</th>\n",
       "      <td>0.634062</td>\n",
       "      <td>0.209060</td>\n",
       "      <td>0.634061</td>\n",
       "      <td>0.015152</td>\n",
       "      <td>0.760870</td>\n",
       "      <td>1</td>\n",
       "      <td>0</td>\n",
       "      <td>0</td>\n",
       "      <td>0</td>\n",
       "      <td>0</td>\n",
       "      <td>...</td>\n",
       "      <td>1</td>\n",
       "      <td>0</td>\n",
       "      <td>0</td>\n",
       "      <td>0</td>\n",
       "      <td>0</td>\n",
       "      <td>0</td>\n",
       "      <td>0</td>\n",
       "      <td>0</td>\n",
       "      <td>1</td>\n",
       "      <td>0</td>\n",
       "    </tr>\n",
       "    <tr>\n",
       "      <th>3</th>\n",
       "      <td>0.361079</td>\n",
       "      <td>0.152335</td>\n",
       "      <td>0.361082</td>\n",
       "      <td>0.181818</td>\n",
       "      <td>0.326087</td>\n",
       "      <td>0</td>\n",
       "      <td>0</td>\n",
       "      <td>0</td>\n",
       "      <td>0</td>\n",
       "      <td>0</td>\n",
       "      <td>...</td>\n",
       "      <td>0</td>\n",
       "      <td>0</td>\n",
       "      <td>0</td>\n",
       "      <td>0</td>\n",
       "      <td>0</td>\n",
       "      <td>1</td>\n",
       "      <td>0</td>\n",
       "      <td>0</td>\n",
       "      <td>0</td>\n",
       "      <td>0</td>\n",
       "    </tr>\n",
       "    <tr>\n",
       "      <th>4</th>\n",
       "      <td>0.667923</td>\n",
       "      <td>0.069954</td>\n",
       "      <td>0.667924</td>\n",
       "      <td>0.469697</td>\n",
       "      <td>0.043478</td>\n",
       "      <td>0</td>\n",
       "      <td>0</td>\n",
       "      <td>0</td>\n",
       "      <td>0</td>\n",
       "      <td>1</td>\n",
       "      <td>...</td>\n",
       "      <td>0</td>\n",
       "      <td>0</td>\n",
       "      <td>0</td>\n",
       "      <td>0</td>\n",
       "      <td>0</td>\n",
       "      <td>0</td>\n",
       "      <td>0</td>\n",
       "      <td>0</td>\n",
       "      <td>0</td>\n",
       "      <td>0</td>\n",
       "    </tr>\n",
       "  </tbody>\n",
       "</table>\n",
       "<p>5 rows × 35 columns</p>\n",
       "</div>"
      ],
      "text/plain": [
       "   Shipment Weight (kg)  Shipment Volume (m_)  Freight Cost (USD)  \\\n",
       "0              0.651558              0.154340            0.651556   \n",
       "1              0.988515              0.747845            0.988516   \n",
       "2              0.634062              0.209060            0.634061   \n",
       "3              0.361079              0.152335            0.361082   \n",
       "4              0.667923              0.069954            0.667924   \n",
       "\n",
       "   Transit Time (hours)  Customs Clearance Time (hours)  DFW  JFK  LAX  MIA  \\\n",
       "0              0.166667                        0.130435    0    0    0    0   \n",
       "1              0.242424                        0.086957    0    0    0    0   \n",
       "2              0.015152                        0.760870    1    0    0    0   \n",
       "3              0.181818                        0.326087    0    0    0    0   \n",
       "4              0.469697                        0.043478    0    0    0    0   \n",
       "\n",
       "   ORD  ...  FedEx  Lufthansa Cargo  UPS  Monday  Saturday  Sunday  Thursday  \\\n",
       "0    0  ...      0                0    1       0         0       0         1   \n",
       "1    0  ...      0                1    0       0         0       0         1   \n",
       "2    0  ...      1                0    0       0         0       0         0   \n",
       "3    0  ...      0                0    0       0         0       1         0   \n",
       "4    1  ...      0                0    0       0         0       0         0   \n",
       "\n",
       "   Tuesday  Wednesday  Yes  \n",
       "0        0          0    1  \n",
       "1        0          0    0  \n",
       "2        0          1    0  \n",
       "3        0          0    0  \n",
       "4        0          0    0  \n",
       "\n",
       "[5 rows x 35 columns]"
      ]
     },
     "execution_count": 238,
     "metadata": {},
     "output_type": "execute_result"
    }
   ],
   "source": [
    "from sklearn.preprocessing import MinMaxScaler\n",
    "\n",
    "# Initialize MinMaxScaler\n",
    "scaler = MinMaxScaler()\n",
    "\n",
    "# Columns to scale\n",
    "numerical_cols = [\n",
    "    \"Shipment Weight (kg)\",\n",
    "    \"Shipment Volume (m_)\",\n",
    "    \"Freight Cost (USD)\",\n",
    "    \"Transit Time (hours)\",\n",
    "    \"Customs Clearance Time (hours)\"\n",
    "]\n",
    "\n",
    "# Apply Min-Max Scaling\n",
    "sup[numerical_cols] = scaler.fit_transform(sup[numerical_cols])\n",
    "\n",
    "# Display first few rows\n",
    "sup.head()\n"
   ]
  },
  {
   "cell_type": "code",
   "execution_count": 54,
   "id": "541f84f1-18fa-4b8b-bfca-db90801fffb7",
   "metadata": {},
   "outputs": [],
   "source": [
    "tb=tb.drop(columns=['Yes'], errors='ignore')\n"
   ]
  },
  {
   "cell_type": "code",
   "execution_count": 55,
   "id": "d3d56dce-af3c-44d5-87b6-232d0ce6188e",
   "metadata": {},
   "outputs": [],
   "source": [
    "x=tb.drop(\"On-Time\",axis=1)\n",
    "y=tb[\"On-Time\"]"
   ]
  },
  {
   "cell_type": "code",
   "execution_count": 56,
   "id": "18024361-f2ca-45f2-ad6b-5bb995ba0f55",
   "metadata": {},
   "outputs": [
    {
     "data": {
      "text/html": [
       "<div>\n",
       "<style scoped>\n",
       "    .dataframe tbody tr th:only-of-type {\n",
       "        vertical-align: middle;\n",
       "    }\n",
       "\n",
       "    .dataframe tbody tr th {\n",
       "        vertical-align: top;\n",
       "    }\n",
       "\n",
       "    .dataframe thead th {\n",
       "        text-align: right;\n",
       "    }\n",
       "</style>\n",
       "<table border=\"1\" class=\"dataframe\">\n",
       "  <thead>\n",
       "    <tr style=\"text-align: right;\">\n",
       "      <th></th>\n",
       "      <th>Shipment Weight (kg)</th>\n",
       "      <th>Shipment Volume (m³)</th>\n",
       "      <th>Freight Cost (USD)</th>\n",
       "      <th>Transit Time (hours)</th>\n",
       "      <th>Customs Clearance Time (hours)</th>\n",
       "      <th>DFW</th>\n",
       "      <th>JFK</th>\n",
       "      <th>LAX</th>\n",
       "      <th>MIA</th>\n",
       "      <th>ORD</th>\n",
       "      <th>...</th>\n",
       "      <th>Emirates Cargo</th>\n",
       "      <th>FedEx</th>\n",
       "      <th>Lufthansa Cargo</th>\n",
       "      <th>UPS</th>\n",
       "      <th>Monday</th>\n",
       "      <th>Saturday</th>\n",
       "      <th>Sunday</th>\n",
       "      <th>Thursday</th>\n",
       "      <th>Tuesday</th>\n",
       "      <th>Wednesday</th>\n",
       "    </tr>\n",
       "  </thead>\n",
       "  <tbody>\n",
       "    <tr>\n",
       "      <th>0</th>\n",
       "      <td>655.03</td>\n",
       "      <td>7.80</td>\n",
       "      <td>1238.23</td>\n",
       "      <td>16</td>\n",
       "      <td>7</td>\n",
       "      <td>0</td>\n",
       "      <td>0</td>\n",
       "      <td>0</td>\n",
       "      <td>0</td>\n",
       "      <td>0</td>\n",
       "      <td>...</td>\n",
       "      <td>0</td>\n",
       "      <td>0</td>\n",
       "      <td>0</td>\n",
       "      <td>1</td>\n",
       "      <td>0</td>\n",
       "      <td>0</td>\n",
       "      <td>0</td>\n",
       "      <td>1</td>\n",
       "      <td>0</td>\n",
       "      <td>0</td>\n",
       "    </tr>\n",
       "    <tr>\n",
       "      <th>1</th>\n",
       "      <td>988.60</td>\n",
       "      <td>37.41</td>\n",
       "      <td>1868.80</td>\n",
       "      <td>21</td>\n",
       "      <td>5</td>\n",
       "      <td>0</td>\n",
       "      <td>0</td>\n",
       "      <td>0</td>\n",
       "      <td>0</td>\n",
       "      <td>0</td>\n",
       "      <td>...</td>\n",
       "      <td>0</td>\n",
       "      <td>0</td>\n",
       "      <td>1</td>\n",
       "      <td>0</td>\n",
       "      <td>0</td>\n",
       "      <td>0</td>\n",
       "      <td>0</td>\n",
       "      <td>1</td>\n",
       "      <td>0</td>\n",
       "      <td>0</td>\n",
       "    </tr>\n",
       "    <tr>\n",
       "      <th>2</th>\n",
       "      <td>637.71</td>\n",
       "      <td>10.53</td>\n",
       "      <td>1205.49</td>\n",
       "      <td>6</td>\n",
       "      <td>36</td>\n",
       "      <td>1</td>\n",
       "      <td>0</td>\n",
       "      <td>0</td>\n",
       "      <td>0</td>\n",
       "      <td>0</td>\n",
       "      <td>...</td>\n",
       "      <td>0</td>\n",
       "      <td>1</td>\n",
       "      <td>0</td>\n",
       "      <td>0</td>\n",
       "      <td>0</td>\n",
       "      <td>0</td>\n",
       "      <td>0</td>\n",
       "      <td>0</td>\n",
       "      <td>0</td>\n",
       "      <td>1</td>\n",
       "    </tr>\n",
       "    <tr>\n",
       "      <th>3</th>\n",
       "      <td>367.47</td>\n",
       "      <td>7.70</td>\n",
       "      <td>694.65</td>\n",
       "      <td>17</td>\n",
       "      <td>16</td>\n",
       "      <td>0</td>\n",
       "      <td>0</td>\n",
       "      <td>0</td>\n",
       "      <td>0</td>\n",
       "      <td>0</td>\n",
       "      <td>...</td>\n",
       "      <td>0</td>\n",
       "      <td>0</td>\n",
       "      <td>0</td>\n",
       "      <td>0</td>\n",
       "      <td>0</td>\n",
       "      <td>0</td>\n",
       "      <td>1</td>\n",
       "      <td>0</td>\n",
       "      <td>0</td>\n",
       "      <td>0</td>\n",
       "    </tr>\n",
       "    <tr>\n",
       "      <th>4</th>\n",
       "      <td>671.23</td>\n",
       "      <td>3.59</td>\n",
       "      <td>1268.86</td>\n",
       "      <td>36</td>\n",
       "      <td>3</td>\n",
       "      <td>0</td>\n",
       "      <td>0</td>\n",
       "      <td>0</td>\n",
       "      <td>0</td>\n",
       "      <td>1</td>\n",
       "      <td>...</td>\n",
       "      <td>0</td>\n",
       "      <td>0</td>\n",
       "      <td>0</td>\n",
       "      <td>0</td>\n",
       "      <td>0</td>\n",
       "      <td>0</td>\n",
       "      <td>0</td>\n",
       "      <td>0</td>\n",
       "      <td>0</td>\n",
       "      <td>0</td>\n",
       "    </tr>\n",
       "    <tr>\n",
       "      <th>...</th>\n",
       "      <td>...</td>\n",
       "      <td>...</td>\n",
       "      <td>...</td>\n",
       "      <td>...</td>\n",
       "      <td>...</td>\n",
       "      <td>...</td>\n",
       "      <td>...</td>\n",
       "      <td>...</td>\n",
       "      <td>...</td>\n",
       "      <td>...</td>\n",
       "      <td>...</td>\n",
       "      <td>...</td>\n",
       "      <td>...</td>\n",
       "      <td>...</td>\n",
       "      <td>...</td>\n",
       "      <td>...</td>\n",
       "      <td>...</td>\n",
       "      <td>...</td>\n",
       "      <td>...</td>\n",
       "      <td>...</td>\n",
       "      <td>...</td>\n",
       "    </tr>\n",
       "    <tr>\n",
       "      <th>19995</th>\n",
       "      <td>158.99</td>\n",
       "      <td>10.97</td>\n",
       "      <td>300.55</td>\n",
       "      <td>36</td>\n",
       "      <td>32</td>\n",
       "      <td>0</td>\n",
       "      <td>0</td>\n",
       "      <td>0</td>\n",
       "      <td>0</td>\n",
       "      <td>0</td>\n",
       "      <td>...</td>\n",
       "      <td>0</td>\n",
       "      <td>0</td>\n",
       "      <td>0</td>\n",
       "      <td>1</td>\n",
       "      <td>1</td>\n",
       "      <td>0</td>\n",
       "      <td>0</td>\n",
       "      <td>0</td>\n",
       "      <td>0</td>\n",
       "      <td>0</td>\n",
       "    </tr>\n",
       "    <tr>\n",
       "      <th>19996</th>\n",
       "      <td>655.74</td>\n",
       "      <td>42.92</td>\n",
       "      <td>1239.58</td>\n",
       "      <td>46</td>\n",
       "      <td>28</td>\n",
       "      <td>0</td>\n",
       "      <td>0</td>\n",
       "      <td>0</td>\n",
       "      <td>1</td>\n",
       "      <td>0</td>\n",
       "      <td>...</td>\n",
       "      <td>0</td>\n",
       "      <td>1</td>\n",
       "      <td>0</td>\n",
       "      <td>0</td>\n",
       "      <td>0</td>\n",
       "      <td>0</td>\n",
       "      <td>0</td>\n",
       "      <td>0</td>\n",
       "      <td>0</td>\n",
       "      <td>0</td>\n",
       "    </tr>\n",
       "    <tr>\n",
       "      <th>19997</th>\n",
       "      <td>711.80</td>\n",
       "      <td>29.54</td>\n",
       "      <td>1345.55</td>\n",
       "      <td>30</td>\n",
       "      <td>16</td>\n",
       "      <td>0</td>\n",
       "      <td>0</td>\n",
       "      <td>1</td>\n",
       "      <td>0</td>\n",
       "      <td>0</td>\n",
       "      <td>...</td>\n",
       "      <td>0</td>\n",
       "      <td>0</td>\n",
       "      <td>0</td>\n",
       "      <td>1</td>\n",
       "      <td>1</td>\n",
       "      <td>0</td>\n",
       "      <td>0</td>\n",
       "      <td>0</td>\n",
       "      <td>0</td>\n",
       "      <td>0</td>\n",
       "    </tr>\n",
       "    <tr>\n",
       "      <th>19998</th>\n",
       "      <td>147.04</td>\n",
       "      <td>4.38</td>\n",
       "      <td>277.96</td>\n",
       "      <td>16</td>\n",
       "      <td>19</td>\n",
       "      <td>1</td>\n",
       "      <td>0</td>\n",
       "      <td>0</td>\n",
       "      <td>0</td>\n",
       "      <td>0</td>\n",
       "      <td>...</td>\n",
       "      <td>0</td>\n",
       "      <td>1</td>\n",
       "      <td>0</td>\n",
       "      <td>0</td>\n",
       "      <td>0</td>\n",
       "      <td>0</td>\n",
       "      <td>0</td>\n",
       "      <td>1</td>\n",
       "      <td>0</td>\n",
       "      <td>0</td>\n",
       "    </tr>\n",
       "    <tr>\n",
       "      <th>19999</th>\n",
       "      <td>261.57</td>\n",
       "      <td>7.08</td>\n",
       "      <td>494.46</td>\n",
       "      <td>18</td>\n",
       "      <td>39</td>\n",
       "      <td>0</td>\n",
       "      <td>0</td>\n",
       "      <td>0</td>\n",
       "      <td>0</td>\n",
       "      <td>0</td>\n",
       "      <td>...</td>\n",
       "      <td>0</td>\n",
       "      <td>0</td>\n",
       "      <td>0</td>\n",
       "      <td>0</td>\n",
       "      <td>0</td>\n",
       "      <td>0</td>\n",
       "      <td>0</td>\n",
       "      <td>0</td>\n",
       "      <td>0</td>\n",
       "      <td>0</td>\n",
       "    </tr>\n",
       "  </tbody>\n",
       "</table>\n",
       "<p>20000 rows × 32 columns</p>\n",
       "</div>"
      ],
      "text/plain": [
       "       Shipment Weight (kg)  Shipment Volume (m³)  Freight Cost (USD)  \\\n",
       "0                    655.03                  7.80             1238.23   \n",
       "1                    988.60                 37.41             1868.80   \n",
       "2                    637.71                 10.53             1205.49   \n",
       "3                    367.47                  7.70              694.65   \n",
       "4                    671.23                  3.59             1268.86   \n",
       "...                     ...                   ...                 ...   \n",
       "19995                158.99                 10.97              300.55   \n",
       "19996                655.74                 42.92             1239.58   \n",
       "19997                711.80                 29.54             1345.55   \n",
       "19998                147.04                  4.38              277.96   \n",
       "19999                261.57                  7.08              494.46   \n",
       "\n",
       "       Transit Time (hours)  Customs Clearance Time (hours)  DFW  JFK  LAX  \\\n",
       "0                        16                               7    0    0    0   \n",
       "1                        21                               5    0    0    0   \n",
       "2                         6                              36    1    0    0   \n",
       "3                        17                              16    0    0    0   \n",
       "4                        36                               3    0    0    0   \n",
       "...                     ...                             ...  ...  ...  ...   \n",
       "19995                    36                              32    0    0    0   \n",
       "19996                    46                              28    0    0    0   \n",
       "19997                    30                              16    0    0    1   \n",
       "19998                    16                              19    1    0    0   \n",
       "19999                    18                              39    0    0    0   \n",
       "\n",
       "       MIA  ORD  ...  Emirates Cargo  FedEx  Lufthansa Cargo  UPS  Monday  \\\n",
       "0        0    0  ...               0      0                0    1       0   \n",
       "1        0    0  ...               0      0                1    0       0   \n",
       "2        0    0  ...               0      1                0    0       0   \n",
       "3        0    0  ...               0      0                0    0       0   \n",
       "4        0    1  ...               0      0                0    0       0   \n",
       "...    ...  ...  ...             ...    ...              ...  ...     ...   \n",
       "19995    0    0  ...               0      0                0    1       1   \n",
       "19996    1    0  ...               0      1                0    0       0   \n",
       "19997    0    0  ...               0      0                0    1       1   \n",
       "19998    0    0  ...               0      1                0    0       0   \n",
       "19999    0    0  ...               0      0                0    0       0   \n",
       "\n",
       "       Saturday  Sunday  Thursday  Tuesday  Wednesday  \n",
       "0             0       0         1        0          0  \n",
       "1             0       0         1        0          0  \n",
       "2             0       0         0        0          1  \n",
       "3             0       1         0        0          0  \n",
       "4             0       0         0        0          0  \n",
       "...         ...     ...       ...      ...        ...  \n",
       "19995         0       0         0        0          0  \n",
       "19996         0       0         0        0          0  \n",
       "19997         0       0         0        0          0  \n",
       "19998         0       0         1        0          0  \n",
       "19999         0       0         0        0          0  \n",
       "\n",
       "[20000 rows x 32 columns]"
      ]
     },
     "execution_count": 56,
     "metadata": {},
     "output_type": "execute_result"
    }
   ],
   "source": [
    "x"
   ]
  },
  {
   "cell_type": "code",
   "execution_count": 57,
   "id": "72fc7a57-65ad-4229-b989-358cbdfd6635",
   "metadata": {},
   "outputs": [
    {
     "data": {
      "text/plain": [
       "0        0\n",
       "1        1\n",
       "2        1\n",
       "3        1\n",
       "4        0\n",
       "        ..\n",
       "19995    0\n",
       "19996    1\n",
       "19997    1\n",
       "19998    1\n",
       "19999    1\n",
       "Name: On-Time, Length: 20000, dtype: int32"
      ]
     },
     "execution_count": 57,
     "metadata": {},
     "output_type": "execute_result"
    }
   ],
   "source": [
    "y"
   ]
  },
  {
   "cell_type": "code",
   "execution_count": 58,
   "id": "5f520b72-eed5-4549-9c86-a1c0917ab33f",
   "metadata": {},
   "outputs": [],
   "source": [
    "from sklearn.model_selection import train_test_split\n",
    "x_train,x_test,y_train,y_test=train_test_split(x,y,test_size=0.15,random_state=15)"
   ]
  },
  {
   "cell_type": "code",
   "execution_count": 59,
   "id": "fcd174a2-32ee-4ec2-a3a1-1177012aa0d7",
   "metadata": {},
   "outputs": [
    {
     "name": "stderr",
     "output_type": "stream",
     "text": [
      "C:\\Users\\sirii\\Downloads\\anaconda\\Lib\\site-packages\\sklearn\\linear_model\\_logistic.py:469: ConvergenceWarning: lbfgs failed to converge (status=1):\n",
      "STOP: TOTAL NO. of ITERATIONS REACHED LIMIT.\n",
      "\n",
      "Increase the number of iterations (max_iter) or scale the data as shown in:\n",
      "    https://scikit-learn.org/stable/modules/preprocessing.html\n",
      "Please also refer to the documentation for alternative solver options:\n",
      "    https://scikit-learn.org/stable/modules/linear_model.html#logistic-regression\n",
      "  n_iter_i = _check_optimize_result(\n"
     ]
    }
   ],
   "source": [
    "from sklearn.linear_model import LogisticRegression\n",
    "from sklearn.metrics import accuracy_score, classification_report\n",
    "# Creating and training the logistic regression model\n",
    "logmodel = LogisticRegression()\n",
    "logmodel.fit(x_train, y_train)\n",
    "prediction=logmodel.predict(x_test)"
   ]
  },
  {
   "cell_type": "code",
   "execution_count": 60,
   "id": "a13fad97-51fc-410b-9e13-93c7f2ec5c77",
   "metadata": {},
   "outputs": [],
   "source": [
    "from sklearn.metrics import accuracy_score\n",
    "accuracy = accuracy_score(y_test, prediction)"
   ]
  },
  {
   "cell_type": "code",
   "execution_count": 61,
   "id": "9aff4e95-a9f2-460e-9635-393f22a5d2a1",
   "metadata": {},
   "outputs": [
    {
     "name": "stdout",
     "output_type": "stream",
     "text": [
      "Accuracy: 0.52\n"
     ]
    }
   ],
   "source": [
    "print(f'Accuracy: {accuracy:.2f}')"
   ]
  },
  {
   "cell_type": "code",
   "execution_count": 62,
   "id": "0e6e79c4-8bf3-45ff-bae7-9f7e18a11236",
   "metadata": {},
   "outputs": [
    {
     "name": "stdout",
     "output_type": "stream",
     "text": [
      "Accuracy: 0.52\n",
      "Classification report of Decision Tree Classifier Model\n",
      "              precision    recall  f1-score   support\n",
      "\n",
      "           0       0.52      0.41      0.46      1478\n",
      "           1       0.52      0.62      0.57      1522\n",
      "\n",
      "    accuracy                           0.52      3000\n",
      "   macro avg       0.52      0.52      0.51      3000\n",
      "weighted avg       0.52      0.52      0.52      3000\n",
      "\n"
     ]
    }
   ],
   "source": [
    "from sklearn.tree import DecisionTreeClassifier\n",
    "from sklearn import metrics\n",
    "# Create and train the Decision Tree model\n",
    "dt_classifier = DecisionTreeClassifier(criterion='gini', max_depth=11, min_samples_split=3,random_state=54)\n",
    "dt_classifier.fit(x_train, y_train)\n",
    "\n",
    "# Make predictions\n",
    "y_pred = dt_classifier.predict(x_test)\n",
    "\n",
    "# Evaluate the model\n",
    "accuracy = metrics.accuracy_score(y_test, y_pred)\n",
    "print(f'Accuracy: {accuracy:.2f}')\n",
    "print(\"Classification report of Decision Tree Classifier Model\")\n",
    "print(classification_report(y_test, y_pred))"
   ]
  },
  {
   "cell_type": "code",
   "execution_count": 75,
   "id": "cfe0162e-44d6-4dc8-a745-9b0f99234ffc",
   "metadata": {},
   "outputs": [],
   "source": [
    "import matplotlib.pyplot as plt\n",
    "import seaborn as sns\n",
    "from sklearn.metrics import confusion_matrix\n",
    "\n",
    "# Function to plot Confusion Matrix\n",
    "def plot_confusion_matrix(y_true, y_pred, model_name):\n",
    "    cm = confusion_matrix(y_true, y_pred)\n",
    "    plt.figure(figsize=(6,5))\n",
    "    sns.heatmap(cm, annot=True, fmt='d', cmap='PuRd', xticklabels=[\"On Time\", \"Delayed\"], yticklabels=[\"On Time\", \"Delayed\"])\n",
    "    plt.xlabel(\"Predicted Label\")\n",
    "    plt.ylabel(\"True Label\")\n",
    "    plt.title(f\"Confusion Matrix - {model_name}\")\n",
    "    plt.show()\n"
   ]
  },
  {
   "cell_type": "code",
   "execution_count": 76,
   "id": "59d96d57-59ec-4f01-b99e-d5c94809a2ad",
   "metadata": {},
   "outputs": [
    {
     "data": {
      "image/png": "[encoded data removed]",
      "text/plain": [
       "<Figure size 600x500 with 2 Axes>"
      ]
     },
     "metadata": {},
     "output_type": "display_data"
    }
   ],
   "source": [
    "plot_confusion_matrix(y_test, y_pred, \"Decision Tree\")\n"
   ]
  },
  {
   "cell_type": "code",
   "execution_count": 65,
   "id": "4435c223-16a4-4d7b-8eae-743ab570761b",
   "metadata": {},
   "outputs": [],
   "source": [
    "from sklearn.ensemble import RandomForestClassifier"
   ]
  },
  {
   "cell_type": "code",
   "execution_count": 78,
   "id": "384c7ad7-fabf-4bf0-ad00-75adbd9f192e",
   "metadata": {},
   "outputs": [
    {
     "name": "stdout",
     "output_type": "stream",
     "text": [
      "Accuracy: 0.50\n",
      "\n",
      "Classification Report:\n",
      "               precision    recall  f1-score   support\n",
      "\n",
      "           0       0.50      0.50      0.50      1478\n",
      "           1       0.51      0.51      0.51      1522\n",
      "\n",
      "    accuracy                           0.50      3000\n",
      "   macro avg       0.50      0.50      0.50      3000\n",
      "weighted avg       0.50      0.50      0.50      3000\n",
      "\n"
     ]
    },
    {
     "data": {
      "image/png": "[encoded data removed]",
      "text/plain": [
       "<Figure size 500x400 with 2 Axes>"
      ]
     },
     "metadata": {},
     "output_type": "display_data"
    }
   ],
   "source": [
    "model = RandomForestClassifier(n_estimators=15, random_state=5)\n",
    "model.fit(x_train, y_train)\n",
    "\n",
    "# 🔹 Make predictions\n",
    "y_pred = model.predict(x_test)\n",
    "\n",
    "# 🔹 Model evaluation\n",
    "accuracy = accuracy_score(y_test, y_pred)\n",
    "print(f\"Accuracy: {accuracy:.2f}\")\n",
    "print(\"\\nClassification Report:\\n\", classification_report(y_test, y_pred))\n",
    "\n",
    "# 🔹 Confusion Matrix\n",
    "conf_matrix = confusion_matrix(y_test, y_pred)\n",
    "plt.figure(figsize=(5, 4))\n",
    "sns.heatmap(conf_matrix, annot=True, fmt='d', cmap='crest', xticklabels=[\"No Delay\", \"Delay\"], yticklabels=[\"No Delay\", \"Delay\"])\n",
    "plt.xlabel(\"Predicted\")\n",
    "plt.ylabel(\"Actual\")\n",
    "plt.show()"
   ]
  },
  {
   "cell_type": "code",
   "execution_count": 67,
   "id": "4701a9ca-a2cb-4073-8b24-b2f919bbec3d",
   "metadata": {},
   "outputs": [
    {
     "name": "stderr",
     "output_type": "stream",
     "text": [
      "C:\\Users\\sirii\\Downloads\\anaconda\\Lib\\site-packages\\sklearn\\ensemble\\_weight_boosting.py:519: FutureWarning: The SAMME.R algorithm (the default) is deprecated and will be removed in 1.6. Use the SAMME algorithm to circumvent this warning.\n",
      "  warnings.warn(\n"
     ]
    },
    {
     "name": "stdout",
     "output_type": "stream",
     "text": [
      "AdaBoost Accuracy: 0.5077\n"
     ]
    }
   ],
   "source": [
    "from sklearn.ensemble import AdaBoostClassifier\n",
    "# Base learner: Deeper Decision Tree\n",
    "base_clf = DecisionTreeClassifier(max_depth=3)\n",
    "\n",
    "# Train AdaBoost with tuned hyperparameters\n",
    "ada_clf = AdaBoostClassifier(n_estimators=20, \n",
    "                             learning_rate=0.09, \n",
    "                             random_state=41)\n",
    "ada_clf.fit(x_train, y_train)\n",
    "\n",
    "# Predictions and evaluation\n",
    "y_pred = ada_clf.predict(x_test)\n",
    "accuracy = accuracy_score(y_test, y_pred)\n",
    "print(f\"AdaBoost Accuracy: {accuracy:.4f}\")"
   ]
  },
  {
   "cell_type": "code",
   "execution_count": 80,
   "id": "0c524eca-65bb-4ea4-8499-db7168665ee4",
   "metadata": {},
   "outputs": [
    {
     "data": {
      "image/png": "[encoded data removed]",
      "text/plain": [
       "<Figure size 600x400 with 2 Axes>"
      ]
     },
     "metadata": {},
     "output_type": "display_data"
    }
   ],
   "source": [
    "# Compute confusion matrix\n",
    "cm = confusion_matrix(y_test, y_pred)\n",
    "\n",
    "# Plot the confusion matrix\n",
    "plt.figure(figsize=(6,4))\n",
    "sns.heatmap(cm, annot=True, fmt=\"d\", cmap=\"BuPu\", xticklabels=[\"Negative\", \"Positive\"], yticklabels=[\"Negative\", \"Positive\"])\n",
    "plt.xlabel(\"Predicted Label\")\n",
    "plt.ylabel(\"True Label\")\n",
    "plt.title(\"Confusion Matrix - AdaBoost\")\n",
    "plt.show()"
   ]
  },
  {
   "cell_type": "code",
   "execution_count": 69,
   "id": "3467e8a1-f01c-48a4-b42d-e5fc87cdcd0b",
   "metadata": {},
   "outputs": [
    {
     "name": "stderr",
     "output_type": "stream",
     "text": [
      "C:\\Users\\sirii\\Downloads\\anaconda\\Lib\\site-packages\\xgboost\\core.py:158: UserWarning: [19:47:56] WARNING: C:\\buildkite-agent\\builds\\buildkite-windows-cpu-autoscaling-group-i-08cbc0333d8d4aae1-1\\xgboost\\xgboost-ci-windows\\src\\learner.cc:740: \n",
      "Parameters: { \"use_label_encoder\" } are not used.\n",
      "\n",
      "  warnings.warn(smsg, UserWarning)\n"
     ]
    },
    {
     "name": "stdout",
     "output_type": "stream",
     "text": [
      "Accuracy: 0.50\n",
      "\n",
      "Classification Report:\n",
      "               precision    recall  f1-score   support\n",
      "\n",
      "           0       0.50      0.46      0.47      1478\n",
      "           1       0.51      0.55      0.53      1522\n",
      "\n",
      "    accuracy                           0.50      3000\n",
      "   macro avg       0.50      0.50      0.50      3000\n",
      "weighted avg       0.50      0.50      0.50      3000\n",
      "\n"
     ]
    }
   ],
   "source": [
    "import xgboost as xgb\n",
    "from xgboost import XGBClassifier\n",
    "# Train an XGBoost Classifier\n",
    "model = xgb.XGBClassifier(n_estimators=100, learning_rate=0.1, max_depth=5, random_state=42, use_label_encoder=False, eval_metric='mlogloss')\n",
    "model.fit(x_train, y_train)\n",
    "\n",
    "# Make predictions\n",
    "y_pred = model.predict(x_test)\n",
    "\n",
    "# Model evaluation\n",
    "accuracy = accuracy_score(y_test, y_pred)\n",
    "print(f\"Accuracy: {accuracy:.2f}\")\n",
    "print(\"\\nClassification Report:\\n\", classification_report(y_test, y_pred))"
   ]
  },
  {
   "cell_type": "code",
   "execution_count": 83,
   "id": "99ef8f19-0594-45c0-bd0e-283557828efa",
   "metadata": {},
   "outputs": [
    {
     "name": "stderr",
     "output_type": "stream",
     "text": [
      "C:\\Users\\sirii\\Downloads\\anaconda\\Lib\\site-packages\\sklearn\\linear_model\\_logistic.py:469: ConvergenceWarning: lbfgs failed to converge (status=1):\n",
      "STOP: TOTAL NO. of ITERATIONS REACHED LIMIT.\n",
      "\n",
      "Increase the number of iterations (max_iter) or scale the data as shown in:\n",
      "    https://scikit-learn.org/stable/modules/preprocessing.html\n",
      "Please also refer to the documentation for alternative solver options:\n",
      "    https://scikit-learn.org/stable/modules/linear_model.html#logistic-regression\n",
      "  n_iter_i = _check_optimize_result(\n",
      "C:\\Users\\sirii\\Downloads\\anaconda\\Lib\\site-packages\\xgboost\\core.py:158: UserWarning: [19:57:02] WARNING: C:\\buildkite-agent\\builds\\buildkite-windows-cpu-autoscaling-group-i-08cbc0333d8d4aae1-1\\xgboost\\xgboost-ci-windows\\src\\learner.cc:740: \n",
      "Parameters: { \"use_label_encoder\" } are not used.\n",
      "\n",
      "  warnings.warn(smsg, UserWarning)\n",
      "C:\\Users\\sirii\\Downloads\\anaconda\\Lib\\site-packages\\sklearn\\ensemble\\_weight_boosting.py:519: FutureWarning: The SAMME.R algorithm (the default) is deprecated and will be removed in 1.6. Use the SAMME algorithm to circumvent this warning.\n",
      "  warnings.warn(\n",
      "C:\\Users\\sirii\\AppData\\Local\\Temp\\ipykernel_10208\\1325023840.py:22: FutureWarning: \n",
      "\n",
      "Passing `palette` without assigning `hue` is deprecated and will be removed in v0.14.0. Assign the `x` variable to `hue` and set `legend=False` for the same effect.\n",
      "\n",
      "  sns.barplot(x='Model', y='Accuracy', data=accuracy_df, palette='RdPu')\n"
     ]
    },
    {
     "data": {
      "image/png": "[encoded data removed]",
      "text/plain": [
       "<Figure size 800x600 with 1 Axes>"
      ]
     },
     "metadata": {},
     "output_type": "display_data"
    }
   ],
   "source": [
    "# Define models\n",
    "models = {\n",
    "    \"Decision Tree\": DecisionTreeClassifier(criterion='entropy', max_depth=11, min_samples_split=3, random_state=54),\n",
    "    \"Logistic Regression\": LogisticRegression(),\n",
    "    \"XGBoost\": XGBClassifier(n_estimators=105, learning_rate=0.5, max_depth=10, random_state=52, use_label_encoder=False, eval_metric='mlogloss'),\n",
    "    \"Random Forest\": RandomForestClassifier(n_estimators=15, random_state=5),\n",
    "    \"AdaBoost\": AdaBoostClassifier(n_estimators=20, learning_rate=0.05, random_state=42)\n",
    "}\n",
    "\n",
    "# Train and evaluate models\n",
    "accuracy_results = {}\n",
    "for name, model in models.items():\n",
    "    model.fit(x_train, y_train)\n",
    "    y_pred = model.predict(x_test)\n",
    "    accuracy_results[name] = accuracy_score(y_test, y_pred)\n",
    "\n",
    "# Convert to DataFrame\n",
    "accuracy_df = pd.DataFrame(list(accuracy_results.items()), columns=['Model', 'Accuracy']).sort_values(by='Accuracy', ascending=True)\n",
    "\n",
    "# Plot horizontal bar chart\n",
    "plt.figure(figsize=(8, 6))\n",
    "sns.barplot(x='Model', y='Accuracy', data=accuracy_df, palette='RdPu')\n",
    "\n",
    "# Labels and styling\n",
    "plt.ylabel(\"Accuracy Score\")\n",
    "plt.xlabel(\"Model\")\n",
    "plt.title(\"Comparison of Model Accuracies\")\n",
    "plt.ylim(0, 1)\n",
    "plt.grid(axis='y', linestyle='--', alpha=0.7)\n",
    "\n",
    "# Show accuracy values above bars\n",
    "for index, row in accuracy_df.iterrows():\n",
    "    plt.text(index, row['Accuracy'] + 0.01, f\"{row['Accuracy']:.2f}\", ha='center', fontsize=12)\n",
    "\n",
    "plt.tight_layout()\n",
    "plt.show()\n",
    "\n"
   ]
  },
  {
   "cell_type": "code",
   "execution_count": 85,
   "id": "a328026d-7ebb-4269-9126-930e13c2a110",
   "metadata": {},
   "outputs": [
    {
     "name": "stdout",
     "output_type": "stream",
     "text": [
      "                                Shipment Weight (kg)  Shipment Volume (m³)  \\\n",
      "Shipment Weight (kg)                        1.000000              0.003696   \n",
      "Shipment Volume (m³)                        0.003696              1.000000   \n",
      "Freight Cost (USD)                          1.000000              0.003696   \n",
      "Transit Time (hours)                       -0.002247              0.011672   \n",
      "Customs Clearance Time (hours)             -0.002634              0.006312   \n",
      "DFW                                        -0.009707             -0.000207   \n",
      "JFK                                         0.010092             -0.002436   \n",
      "LAX                                        -0.014437             -0.005345   \n",
      "MIA                                        -0.001220              0.000688   \n",
      "ORD                                         0.010011             -0.002076   \n",
      "SFO                                        -0.002190              0.007683   \n",
      "DXB                                        -0.001993             -0.001954   \n",
      "HKG                                         0.005875             -0.006866   \n",
      "LHR                                        -0.008130              0.010106   \n",
      "NRT                                         0.021119              0.007657   \n",
      "SIN                                        -0.002524             -0.011985   \n",
      "SYD                                        -0.013590             -0.002209   \n",
      "Rail                                       -0.004480             -0.001278   \n",
      "Truck                                       0.002020              0.009166   \n",
      "Foggy                                      -0.004096             -0.009557   \n",
      "Rainy                                       0.006103              0.006789   \n",
      "Stormy                                      0.002238              0.004612   \n",
      "On-Time                                    -0.001490              0.004272   \n",
      "Emirates Cargo                              0.005549             -0.000957   \n",
      "FedEx                                       0.001239              0.000255   \n",
      "Lufthansa Cargo                            -0.000976             -0.001200   \n",
      "UPS                                        -0.003348              0.002174   \n",
      "Monday                                      0.002516              0.003884   \n",
      "Saturday                                   -0.002196              0.018824   \n",
      "Sunday                                      0.000252             -0.019127   \n",
      "Thursday                                    0.000311             -0.013600   \n",
      "Tuesday                                    -0.006017             -0.002806   \n",
      "Wednesday                                  -0.002629              0.006276   \n",
      "\n",
      "                                Freight Cost (USD)  Transit Time (hours)  \\\n",
      "Shipment Weight (kg)                      1.000000             -0.002247   \n",
      "Shipment Volume (m³)                      0.003696              0.011672   \n",
      "Freight Cost (USD)                        1.000000             -0.002247   \n",
      "Transit Time (hours)                     -0.002247              1.000000   \n",
      "Customs Clearance Time (hours)           -0.002634             -0.012733   \n",
      "DFW                                      -0.009707             -0.006149   \n",
      "JFK                                       0.010092              0.008475   \n",
      "LAX                                      -0.014437              0.004679   \n",
      "MIA                                      -0.001220              0.003121   \n",
      "ORD                                       0.010011             -0.012326   \n",
      "SFO                                      -0.002190              0.006902   \n",
      "DXB                                      -0.001993             -0.004421   \n",
      "HKG                                       0.005875             -0.000699   \n",
      "LHR                                      -0.008130             -0.000337   \n",
      "NRT                                       0.021119              0.000835   \n",
      "SIN                                      -0.002524              0.002654   \n",
      "SYD                                      -0.013590             -0.005147   \n",
      "Rail                                     -0.004480             -0.016178   \n",
      "Truck                                     0.002020             -0.012999   \n",
      "Foggy                                    -0.004096              0.007017   \n",
      "Rainy                                     0.006103             -0.002863   \n",
      "Stormy                                    0.002238             -0.008886   \n",
      "On-Time                                  -0.001490              0.004613   \n",
      "Emirates Cargo                            0.005549              0.010148   \n",
      "FedEx                                     0.001239              0.008015   \n",
      "Lufthansa Cargo                          -0.000976             -0.003448   \n",
      "UPS                                      -0.003348             -0.000277   \n",
      "Monday                                    0.002516             -0.005473   \n",
      "Saturday                                 -0.002196              0.001920   \n",
      "Sunday                                    0.000252              0.001727   \n",
      "Thursday                                  0.000311             -0.002314   \n",
      "Tuesday                                  -0.006017              0.002523   \n",
      "Wednesday                                -0.002629              0.004252   \n",
      "\n",
      "                                Customs Clearance Time (hours)       DFW  \\\n",
      "Shipment Weight (kg)                                 -0.002634 -0.009707   \n",
      "Shipment Volume (m³)                                  0.006312 -0.000207   \n",
      "Freight Cost (USD)                                   -0.002634 -0.009707   \n",
      "Transit Time (hours)                                 -0.012733 -0.006149   \n",
      "Customs Clearance Time (hours)                        1.000000 -0.002254   \n",
      "DFW                                                  -0.002254  1.000000   \n",
      "JFK                                                  -0.000107 -0.168595   \n",
      "LAX                                                  -0.003781 -0.169659   \n",
      "MIA                                                  -0.001888 -0.167459   \n",
      "ORD                                                  -0.004230 -0.165351   \n",
      "SFO                                                   0.008940 -0.168973   \n",
      "DXB                                                  -0.007583 -0.011055   \n",
      "HKG                                                   0.000084 -0.018361   \n",
      "LHR                                                   0.002931 -0.001376   \n",
      "NRT                                                   0.009623  0.005358   \n",
      "SIN                                                  -0.002185  0.011883   \n",
      "SYD                                                   0.001164  0.005875   \n",
      "Rail                                                 -0.004643 -0.003637   \n",
      "Truck                                                 0.000345  0.008889   \n",
      "Foggy                                                 0.012532  0.001629   \n",
      "Rainy                                                 0.008523  0.000104   \n",
      "Stormy                                               -0.006241 -0.003129   \n",
      "On-Time                                               0.004731  0.001007   \n",
      "Emirates Cargo                                        0.011318  0.006773   \n",
      "FedEx                                                -0.000590  0.001434   \n",
      "Lufthansa Cargo                                      -0.002983 -0.009485   \n",
      "UPS                                                   0.006397 -0.002852   \n",
      "Monday                                                0.004304  0.002021   \n",
      "Saturday                                             -0.008196 -0.001819   \n",
      "Sunday                                               -0.001155 -0.001317   \n",
      "Thursday                                              0.009417  0.004723   \n",
      "Tuesday                                              -0.002504 -0.006651   \n",
      "Wednesday                                            -0.005236  0.004983   \n",
      "\n",
      "                                     JFK       LAX       MIA       ORD  ...  \\\n",
      "Shipment Weight (kg)            0.010092 -0.014437 -0.001220  0.010011  ...   \n",
      "Shipment Volume (m³)           -0.002436 -0.005345  0.000688 -0.002076  ...   \n",
      "Freight Cost (USD)              0.010092 -0.014437 -0.001220  0.010011  ...   \n",
      "Transit Time (hours)            0.008475  0.004679  0.003121 -0.012326  ...   \n",
      "Customs Clearance Time (hours) -0.000107 -0.003781 -0.001888 -0.004230  ...   \n",
      "DFW                            -0.168595 -0.169659 -0.167459 -0.165351  ...   \n",
      "JFK                             1.000000 -0.168120 -0.165940 -0.163851  ...   \n",
      "LAX                            -0.168120  1.000000 -0.166987 -0.164885  ...   \n",
      "MIA                            -0.165940 -0.166987  1.000000 -0.162747  ...   \n",
      "ORD                            -0.163851 -0.164885 -0.162747  1.000000  ...   \n",
      "SFO                            -0.167440 -0.168496 -0.166312 -0.164218  ...   \n",
      "DXB                             0.011734  0.000026 -0.000880 -0.001557  ...   \n",
      "HKG                             0.014633  0.003455  0.005215 -0.006357  ...   \n",
      "LHR                            -0.007751  0.017729 -0.005038  0.003486  ...   \n",
      "NRT                             0.002014 -0.007048  0.001154  0.001970  ...   \n",
      "SIN                            -0.000346 -0.007801 -0.010174  0.006915  ...   \n",
      "SYD                            -0.021035  0.000155  0.004699 -0.003335  ...   \n",
      "Rail                            0.004644  0.010785  0.002201  0.001017  ...   \n",
      "Truck                           0.009290 -0.009225 -0.000628  0.003515  ...   \n",
      "Foggy                          -0.009501 -0.001009  0.015405 -0.007971  ...   \n",
      "Rainy                          -0.004128 -0.002080  0.005379 -0.002385  ...   \n",
      "Stormy                          0.017680 -0.008688  0.000527 -0.000932  ...   \n",
      "On-Time                        -0.001086  0.004149  0.007977 -0.002171  ...   \n",
      "Emirates Cargo                  0.003645  0.014516  0.008188 -0.008940  ...   \n",
      "FedEx                           0.002139 -0.006476 -0.001964 -0.005202  ...   \n",
      "Lufthansa Cargo                 0.002913 -0.001097 -0.006052  0.010932  ...   \n",
      "UPS                            -0.010117 -0.007241  0.002647  0.007401  ...   \n",
      "Monday                         -0.004299  0.007300 -0.001155  0.001621  ...   \n",
      "Saturday                        0.011516 -0.000616 -0.003209 -0.004341  ...   \n",
      "Sunday                         -0.002310  0.002321  0.004106 -0.004100  ...   \n",
      "Thursday                       -0.013768  0.016482  0.005275  0.006881  ...   \n",
      "Tuesday                        -0.007736  0.003887  0.000714  0.009704  ...   \n",
      "Wednesday                       0.014557 -0.020856  0.001485 -0.010098  ...   \n",
      "\n",
      "                                Emirates Cargo     FedEx  Lufthansa Cargo  \\\n",
      "Shipment Weight (kg)                  0.005549  0.001239        -0.000976   \n",
      "Shipment Volume (m³)                 -0.000957  0.000255        -0.001200   \n",
      "Freight Cost (USD)                    0.005549  0.001239        -0.000976   \n",
      "Transit Time (hours)                  0.010148  0.008015        -0.003448   \n",
      "Customs Clearance Time (hours)        0.011318 -0.000590        -0.002983   \n",
      "DFW                                   0.006773  0.001434        -0.009485   \n",
      "JFK                                   0.003645  0.002139         0.002913   \n",
      "LAX                                   0.014516 -0.006476        -0.001097   \n",
      "MIA                                   0.008188 -0.001964        -0.006052   \n",
      "ORD                                  -0.008940 -0.005202         0.010932   \n",
      "SFO                                  -0.012776 -0.004003         0.003879   \n",
      "DXB                                   0.012156 -0.005435         0.007520   \n",
      "HKG                                   0.002414 -0.002637         0.000257   \n",
      "LHR                                  -0.001472  0.006295        -0.005358   \n",
      "NRT                                  -0.004043  0.003706         0.006744   \n",
      "SIN                                  -0.008488  0.001366        -0.010963   \n",
      "SYD                                   0.003055 -0.001397        -0.004403   \n",
      "Rail                                  0.001985 -0.001161        -0.011384   \n",
      "Truck                                 0.008494 -0.003202         0.006540   \n",
      "Foggy                                 0.009517 -0.011199         0.010031   \n",
      "Rainy                                -0.014791 -0.006661         0.001237   \n",
      "Stormy                               -0.008932  0.001539         0.005900   \n",
      "On-Time                              -0.003268  0.000647         0.003892   \n",
      "Emirates Cargo                        1.000000 -0.250423        -0.255014   \n",
      "FedEx                                -0.250423  1.000000        -0.252598   \n",
      "Lufthansa Cargo                      -0.255014 -0.252598         1.000000   \n",
      "UPS                                  -0.248535 -0.246179        -0.250693   \n",
      "Monday                               -0.000271  0.006430         0.001488   \n",
      "Saturday                              0.007114 -0.002536         0.011509   \n",
      "Sunday                               -0.004183  0.005696        -0.010541   \n",
      "Thursday                              0.005120 -0.017781        -0.001637   \n",
      "Tuesday                              -0.002118  0.011010        -0.006006   \n",
      "Wednesday                            -0.005599 -0.001419        -0.001729   \n",
      "\n",
      "                                     UPS    Monday  Saturday    Sunday  \\\n",
      "Shipment Weight (kg)           -0.003348  0.002516 -0.002196  0.000252   \n",
      "Shipment Volume (m³)            0.002174  0.003884  0.018824 -0.019127   \n",
      "Freight Cost (USD)             -0.003348  0.002516 -0.002196  0.000252   \n",
      "Transit Time (hours)           -0.000277 -0.005473  0.001920  0.001727   \n",
      "Customs Clearance Time (hours)  0.006397  0.004304 -0.008196 -0.001155   \n",
      "DFW                            -0.002852  0.002021 -0.001819 -0.001317   \n",
      "JFK                            -0.010117 -0.004299  0.011516 -0.002310   \n",
      "LAX                            -0.007241  0.007300 -0.000616  0.002321   \n",
      "MIA                             0.002647 -0.001155 -0.003209  0.004106   \n",
      "ORD                             0.007401  0.001621 -0.004341 -0.004100   \n",
      "SFO                             0.014242 -0.000867 -0.010660 -0.003762   \n",
      "DXB                            -0.016188  0.009371 -0.012924  0.001542   \n",
      "HKG                             0.002339  0.005803  0.000722 -0.007225   \n",
      "LHR                             0.005546 -0.004363  0.003969  0.007368   \n",
      "NRT                            -0.006563 -0.001506  0.002893  0.001563   \n",
      "SIN                             0.010644 -0.003469  0.002911  0.002053   \n",
      "SYD                             0.010450  0.004528 -0.007481 -0.010994   \n",
      "Rail                            0.002417 -0.001277  0.007259 -0.001432   \n",
      "Truck                          -0.008356  0.001440 -0.005623  0.013398   \n",
      "Foggy                          -0.014251 -0.003093  0.009007 -0.010148   \n",
      "Rainy                           0.010141 -0.007327 -0.006934 -0.000609   \n",
      "Stormy                          0.004809  0.003050 -0.006226 -0.014540   \n",
      "On-Time                         0.004717  0.004188 -0.004192  0.008078   \n",
      "Emirates Cargo                 -0.248535 -0.000271  0.007114 -0.004183   \n",
      "FedEx                          -0.246179  0.006430 -0.002536  0.005696   \n",
      "Lufthansa Cargo                -0.250693  0.001488  0.011509 -0.010541   \n",
      "UPS                             1.000000  0.003185 -0.010010  0.007863   \n",
      "Monday                          0.003185  1.000000 -0.163261 -0.169106   \n",
      "Saturday                       -0.010010 -0.163261  1.000000 -0.164919   \n",
      "Sunday                          0.007863 -0.169106 -0.164919  1.000000   \n",
      "Thursday                        0.007927 -0.167713 -0.163560 -0.169416   \n",
      "Tuesday                         0.000235 -0.167270 -0.163128 -0.168968   \n",
      "Wednesday                      -0.004309 -0.168257 -0.164091 -0.169965   \n",
      "\n",
      "                                Thursday   Tuesday  Wednesday  \n",
      "Shipment Weight (kg)            0.000311 -0.006017  -0.002629  \n",
      "Shipment Volume (m³)           -0.013600 -0.002806   0.006276  \n",
      "Freight Cost (USD)              0.000311 -0.006017  -0.002629  \n",
      "Transit Time (hours)           -0.002314  0.002523   0.004252  \n",
      "Customs Clearance Time (hours)  0.009417 -0.002504  -0.005236  \n",
      "DFW                             0.004723 -0.006651   0.004983  \n",
      "JFK                            -0.013768 -0.007736   0.014557  \n",
      "LAX                             0.016482  0.003887  -0.020856  \n",
      "MIA                             0.005275  0.000714   0.001485  \n",
      "ORD                             0.006881  0.009704  -0.010098  \n",
      "SFO                            -0.014794  0.005470   0.021994  \n",
      "DXB                            -0.002725  0.000082   0.010391  \n",
      "HKG                            -0.012979  0.007666   0.002300  \n",
      "LHR                             0.001234 -0.006991  -0.000103  \n",
      "NRT                             0.010032  0.000342  -0.018228  \n",
      "SIN                             0.003269 -0.002426  -0.007744  \n",
      "SYD                             0.005642  0.000249   0.012880  \n",
      "Rail                            0.013827 -0.005458  -0.005555  \n",
      "Truck                          -0.005050 -0.007449   0.000323  \n",
      "Foggy                          -0.008728  0.006113  -0.003325  \n",
      "Rainy                          -0.003705  0.008597   0.015690  \n",
      "Stormy                          0.010283 -0.003475   0.004255  \n",
      "On-Time                         0.012296 -0.010080  -0.008217  \n",
      "Emirates Cargo                  0.005120 -0.002118  -0.005599  \n",
      "FedEx                          -0.017781  0.011010  -0.001419  \n",
      "Lufthansa Cargo                -0.001637 -0.006006  -0.001729  \n",
      "UPS                             0.007927  0.000235  -0.004309  \n",
      "Monday                         -0.167713 -0.167270  -0.168257  \n",
      "Saturday                       -0.163560 -0.163128  -0.164091  \n",
      "Sunday                         -0.169416 -0.168968  -0.169965  \n",
      "Thursday                        1.000000 -0.167576  -0.168565  \n",
      "Tuesday                        -0.167576  1.000000  -0.168120  \n",
      "Wednesday                      -0.168565 -0.168120   1.000000  \n",
      "\n",
      "[33 rows x 33 columns]\n"
     ]
    }
   ],
   "source": [
    "# Correlation\n",
    "correlation_matrix =tb.corr(method='spearman')  # Computes Pearson correlation by default\n",
    "print(correlation_matrix)"
   ]
  },
  {
   "cell_type": "code",
   "execution_count": 86,
   "id": "57ffefad-675e-4776-9f34-7ab75272a62b",
   "metadata": {},
   "outputs": [
    {
     "name": "stdout",
     "output_type": "stream",
     "text": [
      "🔍 Correlation of all numeric features with 'Delay Status':\n",
      "\n",
      "                                Delay Status\n",
      "Delay Status                        1.000000\n",
      "Temperature-Sensitive               0.007858\n",
      "Freight Cost (USD)                  0.001542\n",
      "Shipment Weight (kg)                0.001542\n",
      "Shipment Volume (m³)               -0.004370\n",
      "Transit Time (hours)               -0.004625\n",
      "Customs Clearance Time (hours)     -0.004711\n",
      "Perishable Goods                   -0.004920\n"
     ]
    },
    {
     "data": {
      "image/png": "[encoded data removed]",
      "text/plain": [
       "<Figure size 1000x800 with 2 Axes>"
      ]
     },
     "metadata": {},
     "output_type": "display_data"
    }
   ],
   "source": [
    "# Load the dataset and assign it to 'tb'\n",
    "tb = pd.read_csv(\"air cargo supplychain (1).csv\")\n",
    "\n",
    "# Encode binary categorical columns for analysis\n",
    "tb['Temperature-Sensitive'] = tb['Temperature-Sensitive'].map({'Yes': 1, 'No': 0})\n",
    "tb['Perishable Goods'] = tb['Perishable Goods'].map({'Yes': 1, 'No': 0})\n",
    "tb['Delay Status'] = tb['Delay Status'].map({'Delayed': 1, 'On-Time': 0})\n",
    "\n",
    "# Select only numeric columns\n",
    "numeric_tb = tb.select_dtypes(include=['number'])\n",
    "\n",
    "# Compute correlation matrix\n",
    "correlation_matrix = numeric_tb.corr()\n",
    "\n",
    "# Extract correlation of all variables with 'Delay Status'\n",
    "delay_corr = correlation_matrix[['Delay Status']].sort_values(by='Delay Status', ascending=False)\n",
    "\n",
    "# Display correlation values with Delay Status\n",
    "print(\"🔍 Correlation of all numeric features with 'Delay Status':\\n\")\n",
    "print(delay_corr)\n",
    "\n",
    "# Plot correlation heatmap\n",
    "plt.figure(figsize=(10, 8))\n",
    "sns.heatmap(correlation_matrix, annot=True, cmap='coolwarm', fmt=\".2f\", square=True)\n",
    "plt.title(\"Correlation Heatmap of Numeric Variables \")\n",
    "plt.tight_layout()\n",
    "plt.show()"
   ]
  },
  {
   "cell_type": "code",
   "execution_count": 103,
   "id": "c7b45155-1e42-40e3-86ab-9c5a8a798126",
   "metadata": {},
   "outputs": [
    {
     "data": {
      "text/plain": [
       "<Axes: ylabel='proportion'>"
      ]
     },
     "execution_count": 103,
     "metadata": {},
     "output_type": "execute_result"
    },
    {
     "data": {
      "image/png": "[encoded data removed]",
      "text/plain": [
       "<Figure size 640x480 with 1 Axes>"
      ]
     },
     "metadata": {},
     "output_type": "display_data"
    }
   ],
   "source": [
    "\n",
    "tb['Mode of Transport'].value_counts(normalize=True).plot.pie(autopct='%1.1f%%', colors=['#FF9999', '#66B2FF', '#99FF99', '#FFCC99'])\n"
   ]
  },
  {
   "cell_type": "code",
   "execution_count": 104,
   "id": "836cd3a0-410e-493d-8121-078df6e0861e",
   "metadata": {},
   "outputs": [
    {
     "data": {
      "image/png": "[encoded data removed]",
      "text/plain": [
       "<Figure size 640x480 with 1 Axes>"
      ]
     },
     "metadata": {},
     "output_type": "display_data"
    }
   ],
   "source": [
    "#Insight 1: Temperature-Sensitive Cargo vs Delay\n",
    "#Temperature-sensitive shipments are fewer, delay rates are similar for both categories, \n",
    "#non-sensitive cargo dominates volume, delays are nearly proportional, \n",
    "#suggesting other factors affect delays—optimize cold chain logistics, investigate other delay causes, and monitor high-volume non-sensitive shipments\n",
    "import seaborn as sns\n",
    "import matplotlib.pyplot as plt\n",
    "\n",
    "sns.countplot(data=tb, x='Temperature-Sensitive', hue='Delay Status')\n",
    "plt.title(\"Insight 1: Temperature-Sensitive Cargo vs Delay\")\n",
    "plt.xlabel(\"Temperature-Sensitive (0 = No, 1 = Yes)\")\n",
    "plt.ylabel(\"Shipment Count\")\n",
    "plt.legend(title=\"Delay Status\", labels=['On-Time', 'Delayed'])\n",
    "plt.show()\n"
   ]
  },
  {
   "cell_type": "code",
   "execution_count": 100,
   "id": "1e6f23e2-2040-4f90-8413-c3b814b939ae",
   "metadata": {},
   "outputs": [
    {
     "name": "stderr",
     "output_type": "stream",
     "text": [
      "C:\\Users\\sirii\\AppData\\Local\\Temp\\ipykernel_10208\\298310863.py:6: FutureWarning:\n",
      "\n",
      "The default of observed=False is deprecated and will be changed to True in a future version of pandas. Pass observed=False to retain current behavior or observed=True to adopt the future default and silence this warning.\n",
      "\n"
     ]
    },
    {
     "data": {
      "image/png": "[encoded data removed]",
      "text/plain": [
       "<Figure size 1000x500 with 1 Axes>"
      ]
     },
     "metadata": {},
     "output_type": "display_data"
    }
   ],
   "source": [
    "#Insight 2: Shipment Volume vs Transit Time\n",
    "#Shipment volume has minimal effect on transit time, indicating that other factors like logistics efficiency, route optimization,\n",
    "# or carrier performance may play a bigger role in determining delays.\n",
    "tb['Volume Bucket'] = pd.cut(tb['Shipment Volume (m³)'], bins=10)\n",
    "\n",
    "# Average transit time per bucket\n",
    "agg_data =tb.groupby('Volume Bucket')['Transit Time (hours)'].mean().reset_index()\n",
    "\n",
    "# Plot\n",
    "plt.figure(figsize=(10, 5))\n",
    "sns.barplot(x='Volume Bucket', y='Transit Time (hours)', data=agg_data)\n",
    "plt.xticks(rotation=45)\n",
    "plt.title('Average Transit Time by Volume Bucket')\n",
    "plt.ylabel('Avg Transit Time (hours)')\n",
    "plt.xlabel('Shipment Volume Bucket')\n",
    "plt.show()\n"
   ]
  },
  {
   "cell_type": "code",
   "execution_count": 94,
   "id": "d899b9b1-12a5-40a5-ae72-f08682502d9f",
   "metadata": {},
   "outputs": [
    {
     "data": {
      "image/png": "[encoded data removed]",
      "text/plain": [
       "<Figure size 640x480 with 1 Axes>"
      ]
     },
     "metadata": {},
     "output_type": "display_data"
    }
   ],
   "source": [
    "#Insight 3: Perishable Goods vs Delay\n",
    "#Perishable goods are less likely to be delayed as they are prioritized for faster processing, while non-perishable goods face higher delays.\n",
    "# This indicates an inverse relationship between perishability and delay status in logistics.\n",
    "sns.countplot(data=tb, x='Perishable Goods', hue='Delay Status')\n",
    "plt.title(\"Insight 3: Perishable Goods vs Delay\")\n",
    "plt.xlabel(\"Perishable (0 = No, 1 = Yes)\")\n",
    "plt.ylabel(\"Count\")\n",
    "plt.legend(title=\"Delay Status\")\n",
    "plt.show()\n"
   ]
  },
  {
   "cell_type": "code",
   "execution_count": 93,
   "id": "eb52d8ab-ee8c-4e7a-8179-51ab13aa9748",
   "metadata": {},
   "outputs": [
    {
     "data": {
      "image/png": "[encoded data removed]",
      "text/plain": [
       "<Figure size 1000x600 with 1 Axes>"
      ]
     },
     "metadata": {},
     "output_type": "display_data"
    }
   ],
   "source": [
    "#Insight 4: Transit Time vs Delay\n",
    "#Transit time and delay status have an indirect relationship, as delays occur across various transit times without a clear pattern.\n",
    "# This suggests that other factors like logistics inefficiencies, weather conditions, \n",
    "#or operational delays contribute to shipment delays rather than just transit duration alone.\n",
    "plt.figure(figsize=(10, 6))\n",
    "sns.kdeplot(data=tb, x='Transit Time (hours)', hue='Delay Status', common_norm=False, fill=True)\n",
    "plt.title(\"Transit Time Distribution by Delay Status\")\n",
    "plt.xlabel(\"Transit Time (hours)\")\n",
    "plt.show()\n",
    "\n"
   ]
  },
  {
   "cell_type": "code",
   "execution_count": 90,
   "id": "d7ecb427-cbde-4933-b838-7a4fd1b6774f",
   "metadata": {},
   "outputs": [
    {
     "data": {
      "image/png": "[encoded data removed]",
      "text/plain": [
       "<Figure size 640x480 with 1 Axes>"
      ]
     },
     "metadata": {},
     "output_type": "display_data"
    }
   ],
   "source": [
    "\n",
    "\n",
    "# Customs Clearance\n",
    "#Customs clearance time does not directly cause shipment delays, as both delayed and non-delayed shipments have a similar distribution. \n",
    "#Other logistical factors likely contribute to the delays.\n",
    "sns.kdeplot(data=tb, x='Customs Clearance Time (hours)', hue='Delay Status', fill=True)\n",
    "plt.title(\"Clearance Time Distribution by Delay Status\")\n",
    "plt.show()\n"
   ]
  },
  {
   "cell_type": "code",
   "execution_count": 105,
   "id": "301ceb3b-2676-4f5e-96eb-c9caddbd8636",
   "metadata": {},
   "outputs": [
    {
     "data": {
      "application/vnd.plotly.v1+json": {
       "config": {
        "plotlyServerURL": "https://plot.ly"
       },
       "data": [
        {
         "alignmentgroup": "True",
         "hovertemplate": "Carrier Name=%{x}<br>Day of Week=Friday<br>Delay Rate=%{y}<extra></extra>",
         "legendgroup": "DHL",
         "marker": {
          "color": "#636efa",
          "pattern": {
           "shape": ""
          }
         },
         "name": "DHL",
         "offsetgroup": "DHL",
         "orientation": "v",
         "showlegend": true,
         "textposition": "auto",
         "type": "bar",
         "x": [
          "DHL"
         ],
         "xaxis": "x",
         "y": [
          0.5267857142857143
         ],
         "yaxis": "y"
        },
        {
         "alignmentgroup": "True",
         "hovertemplate": "Carrier Name=%{x}<br>Day of Week=Friday<br>Delay Rate=%{y}<extra></extra>",
         "legendgroup": "Emirates Cargo",
         "marker": {
          "color": "#EF553B",
          "pattern": {
           "shape": ""
          }
         },
         "name": "Emirates Cargo",
         "offsetgroup": "Emirates Cargo",
         "orientation": "v",
         "showlegend": true,
         "textposition": "auto",
         "type": "bar",
         "x": [
          "Emirates Cargo"
         ],
         "xaxis": "x",
         "y": [
          0.5017482517482518
         ],
         "yaxis": "y"
        },
        {
         "alignmentgroup": "True",
         "hovertemplate": "Carrier Name=%{x}<br>Day of Week=Friday<br>Delay Rate=%{y}<extra></extra>",
         "legendgroup": "FedEx",
         "marker": {
          "color": "#00cc96",
          "pattern": {
           "shape": ""
          }
         },
         "name": "FedEx",
         "offsetgroup": "FedEx",
         "orientation": "v",
         "showlegend": true,
         "textposition": "auto",
         "type": "bar",
         "x": [
          "FedEx"
         ],
         "xaxis": "x",
         "y": [
          0.49016100178890876
         ],
         "yaxis": "y"
        },
        {
         "alignmentgroup": "True",
         "hovertemplate": "Carrier Name=%{x}<br>Day of Week=Friday<br>Delay Rate=%{y}<extra></extra>",
         "legendgroup": "Lufthansa Cargo",
         "marker": {
          "color": "#ab63fa",
          "pattern": {
           "shape": ""
          }
         },
         "name": "Lufthansa Cargo",
         "offsetgroup": "Lufthansa Cargo",
         "orientation": "v",
         "showlegend": true,
         "textposition": "auto",
         "type": "bar",
         "x": [
          "Lufthansa Cargo"
         ],
         "xaxis": "x",
         "y": [
          0.49166666666666664
         ],
         "yaxis": "y"
        },
        {
         "alignmentgroup": "True",
         "hovertemplate": "Carrier Name=%{x}<br>Day of Week=Friday<br>Delay Rate=%{y}<extra></extra>",
         "legendgroup": "UPS",
         "marker": {
          "color": "#FFA15A",
          "pattern": {
           "shape": ""
          }
         },
         "name": "UPS",
         "offsetgroup": "UPS",
         "orientation": "v",
         "showlegend": true,
         "textposition": "auto",
         "type": "bar",
         "x": [
          "UPS"
         ],
         "xaxis": "x",
         "y": [
          0.4870848708487085
         ],
         "yaxis": "y"
        }
       ],
       "frames": [
        {
         "data": [
          {
           "alignmentgroup": "True",
           "hovertemplate": "Carrier Name=%{x}<br>Day of Week=Friday<br>Delay Rate=%{y}<extra></extra>",
           "legendgroup": "DHL",
           "marker": {
            "color": "#636efa",
            "pattern": {
             "shape": ""
            }
           },
           "name": "DHL",
           "offsetgroup": "DHL",
           "orientation": "v",
           "showlegend": true,
           "textposition": "auto",
           "type": "bar",
           "x": [
            "DHL"
           ],
           "xaxis": "x",
           "y": [
            0.5267857142857143
           ],
           "yaxis": "y"
          },
          {
           "alignmentgroup": "True",
           "hovertemplate": "Carrier Name=%{x}<br>Day of Week=Friday<br>Delay Rate=%{y}<extra></extra>",
           "legendgroup": "Emirates Cargo",
           "marker": {
            "color": "#EF553B",
            "pattern": {
             "shape": ""
            }
           },
           "name": "Emirates Cargo",
           "offsetgroup": "Emirates Cargo",
           "orientation": "v",
           "showlegend": true,
           "textposition": "auto",
           "type": "bar",
           "x": [
            "Emirates Cargo"
           ],
           "xaxis": "x",
           "y": [
            0.5017482517482518
           ],
           "yaxis": "y"
          },
          {
           "alignmentgroup": "True",
           "hovertemplate": "Carrier Name=%{x}<br>Day of Week=Friday<br>Delay Rate=%{y}<extra></extra>",
           "legendgroup": "FedEx",
           "marker": {
            "color": "#00cc96",
            "pattern": {
             "shape": ""
            }
           },
           "name": "FedEx",
           "offsetgroup": "FedEx",
           "orientation": "v",
           "showlegend": true,
           "textposition": "auto",
           "type": "bar",
           "x": [
            "FedEx"
           ],
           "xaxis": "x",
           "y": [
            0.49016100178890876
           ],
           "yaxis": "y"
          },
          {
           "alignmentgroup": "True",
           "hovertemplate": "Carrier Name=%{x}<br>Day of Week=Friday<br>Delay Rate=%{y}<extra></extra>",
           "legendgroup": "Lufthansa Cargo",
           "marker": {
            "color": "#ab63fa",
            "pattern": {
             "shape": ""
            }
           },
           "name": "Lufthansa Cargo",
           "offsetgroup": "Lufthansa Cargo",
           "orientation": "v",
           "showlegend": true,
           "textposition": "auto",
           "type": "bar",
           "x": [
            "Lufthansa Cargo"
           ],
           "xaxis": "x",
           "y": [
            0.49166666666666664
           ],
           "yaxis": "y"
          },
          {
           "alignmentgroup": "True",
           "hovertemplate": "Carrier Name=%{x}<br>Day of Week=Friday<br>Delay Rate=%{y}<extra></extra>",
           "legendgroup": "UPS",
           "marker": {
            "color": "#FFA15A",
            "pattern": {
             "shape": ""
            }
           },
           "name": "UPS",
           "offsetgroup": "UPS",
           "orientation": "v",
           "showlegend": true,
           "textposition": "auto",
           "type": "bar",
           "x": [
            "UPS"
           ],
           "xaxis": "x",
           "y": [
            0.4870848708487085
           ],
           "yaxis": "y"
          }
         ],
         "name": "Friday"
        },
        {
         "data": [
          {
           "alignmentgroup": "True",
           "hovertemplate": "Carrier Name=%{x}<br>Day of Week=Monday<br>Delay Rate=%{y}<extra></extra>",
           "legendgroup": "DHL",
           "marker": {
            "color": "#636efa",
            "pattern": {
             "shape": ""
            }
           },
           "name": "DHL",
           "offsetgroup": "DHL",
           "orientation": "v",
           "showlegend": true,
           "textposition": "auto",
           "type": "bar",
           "x": [
            "DHL"
           ],
           "xaxis": "x",
           "y": [
            0.5102040816326531
           ],
           "yaxis": "y"
          },
          {
           "alignmentgroup": "True",
           "hovertemplate": "Carrier Name=%{x}<br>Day of Week=Monday<br>Delay Rate=%{y}<extra></extra>",
           "legendgroup": "Emirates Cargo",
           "marker": {
            "color": "#EF553B",
            "pattern": {
             "shape": ""
            }
           },
           "name": "Emirates Cargo",
           "offsetgroup": "Emirates Cargo",
           "orientation": "v",
           "showlegend": true,
           "textposition": "auto",
           "type": "bar",
           "x": [
            "Emirates Cargo"
           ],
           "xaxis": "x",
           "y": [
            0.4757785467128028
           ],
           "yaxis": "y"
          },
          {
           "alignmentgroup": "True",
           "hovertemplate": "Carrier Name=%{x}<br>Day of Week=Monday<br>Delay Rate=%{y}<extra></extra>",
           "legendgroup": "FedEx",
           "marker": {
            "color": "#00cc96",
            "pattern": {
             "shape": ""
            }
           },
           "name": "FedEx",
           "offsetgroup": "FedEx",
           "orientation": "v",
           "showlegend": true,
           "textposition": "auto",
           "type": "bar",
           "x": [
            "FedEx"
           ],
           "xaxis": "x",
           "y": [
            0.4931972789115646
           ],
           "yaxis": "y"
          },
          {
           "alignmentgroup": "True",
           "hovertemplate": "Carrier Name=%{x}<br>Day of Week=Monday<br>Delay Rate=%{y}<extra></extra>",
           "legendgroup": "Lufthansa Cargo",
           "marker": {
            "color": "#ab63fa",
            "pattern": {
             "shape": ""
            }
           },
           "name": "Lufthansa Cargo",
           "offsetgroup": "Lufthansa Cargo",
           "orientation": "v",
           "showlegend": true,
           "textposition": "auto",
           "type": "bar",
           "x": [
            "Lufthansa Cargo"
           ],
           "xaxis": "x",
           "y": [
            0.4957698815566836
           ],
           "yaxis": "y"
          },
          {
           "alignmentgroup": "True",
           "hovertemplate": "Carrier Name=%{x}<br>Day of Week=Monday<br>Delay Rate=%{y}<extra></extra>",
           "legendgroup": "UPS",
           "marker": {
            "color": "#FFA15A",
            "pattern": {
             "shape": ""
            }
           },
           "name": "UPS",
           "offsetgroup": "UPS",
           "orientation": "v",
           "showlegend": true,
           "textposition": "auto",
           "type": "bar",
           "x": [
            "UPS"
           ],
           "xaxis": "x",
           "y": [
            0.48426573426573427
           ],
           "yaxis": "y"
          }
         ],
         "name": "Monday"
        },
        {
         "data": [
          {
           "alignmentgroup": "True",
           "hovertemplate": "Carrier Name=%{x}<br>Day of Week=Saturday<br>Delay Rate=%{y}<extra></extra>",
           "legendgroup": "DHL",
           "marker": {
            "color": "#636efa",
            "pattern": {
             "shape": ""
            }
           },
           "name": "DHL",
           "offsetgroup": "DHL",
           "orientation": "v",
           "showlegend": true,
           "textposition": "auto",
           "type": "bar",
           "x": [
            "DHL"
           ],
           "xaxis": "x",
           "y": [
            0.509469696969697
           ],
           "yaxis": "y"
          },
          {
           "alignmentgroup": "True",
           "hovertemplate": "Carrier Name=%{x}<br>Day of Week=Saturday<br>Delay Rate=%{y}<extra></extra>",
           "legendgroup": "Emirates Cargo",
           "marker": {
            "color": "#EF553B",
            "pattern": {
             "shape": ""
            }
           },
           "name": "Emirates Cargo",
           "offsetgroup": "Emirates Cargo",
           "orientation": "v",
           "showlegend": true,
           "textposition": "auto",
           "type": "bar",
           "x": [
            "Emirates Cargo"
           ],
           "xaxis": "x",
           "y": [
            0.5209059233449478
           ],
           "yaxis": "y"
          },
          {
           "alignmentgroup": "True",
           "hovertemplate": "Carrier Name=%{x}<br>Day of Week=Saturday<br>Delay Rate=%{y}<extra></extra>",
           "legendgroup": "FedEx",
           "marker": {
            "color": "#00cc96",
            "pattern": {
             "shape": ""
            }
           },
           "name": "FedEx",
           "offsetgroup": "FedEx",
           "orientation": "v",
           "showlegend": true,
           "textposition": "auto",
           "type": "bar",
           "x": [
            "FedEx"
           ],
           "xaxis": "x",
           "y": [
            0.48608534322820035
           ],
           "yaxis": "y"
          },
          {
           "alignmentgroup": "True",
           "hovertemplate": "Carrier Name=%{x}<br>Day of Week=Saturday<br>Delay Rate=%{y}<extra></extra>",
           "legendgroup": "Lufthansa Cargo",
           "marker": {
            "color": "#ab63fa",
            "pattern": {
             "shape": ""
            }
           },
           "name": "Lufthansa Cargo",
           "offsetgroup": "Lufthansa Cargo",
           "orientation": "v",
           "showlegend": true,
           "textposition": "auto",
           "type": "bar",
           "x": [
            "Lufthansa Cargo"
           ],
           "xaxis": "x",
           "y": [
            0.5134680134680135
           ],
           "yaxis": "y"
          },
          {
           "alignmentgroup": "True",
           "hovertemplate": "Carrier Name=%{x}<br>Day of Week=Saturday<br>Delay Rate=%{y}<extra></extra>",
           "legendgroup": "UPS",
           "marker": {
            "color": "#FFA15A",
            "pattern": {
             "shape": ""
            }
           },
           "name": "UPS",
           "offsetgroup": "UPS",
           "orientation": "v",
           "showlegend": true,
           "textposition": "auto",
           "type": "bar",
           "x": [
            "UPS"
           ],
           "xaxis": "x",
           "y": [
            0.4765625
           ],
           "yaxis": "y"
          }
         ],
         "name": "Saturday"
        },
        {
         "data": [
          {
           "alignmentgroup": "True",
           "hovertemplate": "Carrier Name=%{x}<br>Day of Week=Sunday<br>Delay Rate=%{y}<extra></extra>",
           "legendgroup": "DHL",
           "marker": {
            "color": "#636efa",
            "pattern": {
             "shape": ""
            }
           },
           "name": "DHL",
           "offsetgroup": "DHL",
           "orientation": "v",
           "showlegend": true,
           "textposition": "auto",
           "type": "bar",
           "x": [
            "DHL"
           ],
           "xaxis": "x",
           "y": [
            0.483704974271012
           ],
           "yaxis": "y"
          },
          {
           "alignmentgroup": "True",
           "hovertemplate": "Carrier Name=%{x}<br>Day of Week=Sunday<br>Delay Rate=%{y}<extra></extra>",
           "legendgroup": "Emirates Cargo",
           "marker": {
            "color": "#EF553B",
            "pattern": {
             "shape": ""
            }
           },
           "name": "Emirates Cargo",
           "offsetgroup": "Emirates Cargo",
           "orientation": "v",
           "showlegend": true,
           "textposition": "auto",
           "type": "bar",
           "x": [
            "Emirates Cargo"
           ],
           "xaxis": "x",
           "y": [
            0.4714038128249567
           ],
           "yaxis": "y"
          },
          {
           "alignmentgroup": "True",
           "hovertemplate": "Carrier Name=%{x}<br>Day of Week=Sunday<br>Delay Rate=%{y}<extra></extra>",
           "legendgroup": "FedEx",
           "marker": {
            "color": "#00cc96",
            "pattern": {
             "shape": ""
            }
           },
           "name": "FedEx",
           "offsetgroup": "FedEx",
           "orientation": "v",
           "showlegend": true,
           "textposition": "auto",
           "type": "bar",
           "x": [
            "FedEx"
           ],
           "xaxis": "x",
           "y": [
            0.5134228187919463
           ],
           "yaxis": "y"
          },
          {
           "alignmentgroup": "True",
           "hovertemplate": "Carrier Name=%{x}<br>Day of Week=Sunday<br>Delay Rate=%{y}<extra></extra>",
           "legendgroup": "Lufthansa Cargo",
           "marker": {
            "color": "#ab63fa",
            "pattern": {
             "shape": ""
            }
           },
           "name": "Lufthansa Cargo",
           "offsetgroup": "Lufthansa Cargo",
           "orientation": "v",
           "showlegend": true,
           "textposition": "auto",
           "type": "bar",
           "x": [
            "Lufthansa Cargo"
           ],
           "xaxis": "x",
           "y": [
            0.49206349206349204
           ],
           "yaxis": "y"
          },
          {
           "alignmentgroup": "True",
           "hovertemplate": "Carrier Name=%{x}<br>Day of Week=Sunday<br>Delay Rate=%{y}<extra></extra>",
           "legendgroup": "UPS",
           "marker": {
            "color": "#FFA15A",
            "pattern": {
             "shape": ""
            }
           },
           "name": "UPS",
           "offsetgroup": "UPS",
           "orientation": "v",
           "showlegend": true,
           "textposition": "auto",
           "type": "bar",
           "x": [
            "UPS"
           ],
           "xaxis": "x",
           "y": [
            0.47394957983193275
           ],
           "yaxis": "y"
          }
         ],
         "name": "Sunday"
        },
        {
         "data": [
          {
           "alignmentgroup": "True",
           "hovertemplate": "Carrier Name=%{x}<br>Day of Week=Thursday<br>Delay Rate=%{y}<extra></extra>",
           "legendgroup": "DHL",
           "marker": {
            "color": "#636efa",
            "pattern": {
             "shape": ""
            }
           },
           "name": "DHL",
           "offsetgroup": "DHL",
           "orientation": "v",
           "showlegend": true,
           "textposition": "auto",
           "type": "bar",
           "x": [
            "DHL"
           ],
           "xaxis": "x",
           "y": [
            0.47198641765704585
           ],
           "yaxis": "y"
          },
          {
           "alignmentgroup": "True",
           "hovertemplate": "Carrier Name=%{x}<br>Day of Week=Thursday<br>Delay Rate=%{y}<extra></extra>",
           "legendgroup": "Emirates Cargo",
           "marker": {
            "color": "#EF553B",
            "pattern": {
             "shape": ""
            }
           },
           "name": "Emirates Cargo",
           "offsetgroup": "Emirates Cargo",
           "orientation": "v",
           "showlegend": true,
           "textposition": "auto",
           "type": "bar",
           "x": [
            "Emirates Cargo"
           ],
           "xaxis": "x",
           "y": [
            0.4857142857142857
           ],
           "yaxis": "y"
          },
          {
           "alignmentgroup": "True",
           "hovertemplate": "Carrier Name=%{x}<br>Day of Week=Thursday<br>Delay Rate=%{y}<extra></extra>",
           "legendgroup": "FedEx",
           "marker": {
            "color": "#00cc96",
            "pattern": {
             "shape": ""
            }
           },
           "name": "FedEx",
           "offsetgroup": "FedEx",
           "orientation": "v",
           "showlegend": true,
           "textposition": "auto",
           "type": "bar",
           "x": [
            "FedEx"
           ],
           "xaxis": "x",
           "y": [
            0.5076628352490421
           ],
           "yaxis": "y"
          },
          {
           "alignmentgroup": "True",
           "hovertemplate": "Carrier Name=%{x}<br>Day of Week=Thursday<br>Delay Rate=%{y}<extra></extra>",
           "legendgroup": "Lufthansa Cargo",
           "marker": {
            "color": "#ab63fa",
            "pattern": {
             "shape": ""
            }
           },
           "name": "Lufthansa Cargo",
           "offsetgroup": "Lufthansa Cargo",
           "orientation": "v",
           "showlegend": true,
           "textposition": "auto",
           "type": "bar",
           "x": [
            "Lufthansa Cargo"
           ],
           "xaxis": "x",
           "y": [
            0.4623287671232877
           ],
           "yaxis": "y"
          },
          {
           "alignmentgroup": "True",
           "hovertemplate": "Carrier Name=%{x}<br>Day of Week=Thursday<br>Delay Rate=%{y}<extra></extra>",
           "legendgroup": "UPS",
           "marker": {
            "color": "#FFA15A",
            "pattern": {
             "shape": ""
            }
           },
           "name": "UPS",
           "offsetgroup": "UPS",
           "orientation": "v",
           "showlegend": true,
           "textposition": "auto",
           "type": "bar",
           "x": [
            "UPS"
           ],
           "xaxis": "x",
           "y": [
            0.4838160136286201
           ],
           "yaxis": "y"
          }
         ],
         "name": "Thursday"
        },
        {
         "data": [
          {
           "alignmentgroup": "True",
           "hovertemplate": "Carrier Name=%{x}<br>Day of Week=Tuesday<br>Delay Rate=%{y}<extra></extra>",
           "legendgroup": "DHL",
           "marker": {
            "color": "#636efa",
            "pattern": {
             "shape": ""
            }
           },
           "name": "DHL",
           "offsetgroup": "DHL",
           "orientation": "v",
           "showlegend": true,
           "textposition": "auto",
           "type": "bar",
           "x": [
            "DHL"
           ],
           "xaxis": "x",
           "y": [
            0.5017857142857143
           ],
           "yaxis": "y"
          },
          {
           "alignmentgroup": "True",
           "hovertemplate": "Carrier Name=%{x}<br>Day of Week=Tuesday<br>Delay Rate=%{y}<extra></extra>",
           "legendgroup": "Emirates Cargo",
           "marker": {
            "color": "#EF553B",
            "pattern": {
             "shape": ""
            }
           },
           "name": "Emirates Cargo",
           "offsetgroup": "Emirates Cargo",
           "orientation": "v",
           "showlegend": true,
           "textposition": "auto",
           "type": "bar",
           "x": [
            "Emirates Cargo"
           ],
           "xaxis": "x",
           "y": [
            0.5227272727272727
           ],
           "yaxis": "y"
          },
          {
           "alignmentgroup": "True",
           "hovertemplate": "Carrier Name=%{x}<br>Day of Week=Tuesday<br>Delay Rate=%{y}<extra></extra>",
           "legendgroup": "FedEx",
           "marker": {
            "color": "#00cc96",
            "pattern": {
             "shape": ""
            }
           },
           "name": "FedEx",
           "offsetgroup": "FedEx",
           "orientation": "v",
           "showlegend": true,
           "textposition": "auto",
           "type": "bar",
           "x": [
            "FedEx"
           ],
           "xaxis": "x",
           "y": [
            0.49666666666666665
           ],
           "yaxis": "y"
          },
          {
           "alignmentgroup": "True",
           "hovertemplate": "Carrier Name=%{x}<br>Day of Week=Tuesday<br>Delay Rate=%{y}<extra></extra>",
           "legendgroup": "Lufthansa Cargo",
           "marker": {
            "color": "#ab63fa",
            "pattern": {
             "shape": ""
            }
           },
           "name": "Lufthansa Cargo",
           "offsetgroup": "Lufthansa Cargo",
           "orientation": "v",
           "showlegend": true,
           "textposition": "auto",
           "type": "bar",
           "x": [
            "Lufthansa Cargo"
           ],
           "xaxis": "x",
           "y": [
            0.5008787346221442
           ],
           "yaxis": "y"
          },
          {
           "alignmentgroup": "True",
           "hovertemplate": "Carrier Name=%{x}<br>Day of Week=Tuesday<br>Delay Rate=%{y}<extra></extra>",
           "legendgroup": "UPS",
           "marker": {
            "color": "#FFA15A",
            "pattern": {
             "shape": ""
            }
           },
           "name": "UPS",
           "offsetgroup": "UPS",
           "orientation": "v",
           "showlegend": true,
           "textposition": "auto",
           "type": "bar",
           "x": [
            "UPS"
           ],
           "xaxis": "x",
           "y": [
            0.5239786856127886
           ],
           "yaxis": "y"
          }
         ],
         "name": "Tuesday"
        },
        {
         "data": [
          {
           "alignmentgroup": "True",
           "hovertemplate": "Carrier Name=%{x}<br>Day of Week=Wednesday<br>Delay Rate=%{y}<extra></extra>",
           "legendgroup": "DHL",
           "marker": {
            "color": "#636efa",
            "pattern": {
             "shape": ""
            }
           },
           "name": "DHL",
           "offsetgroup": "DHL",
           "orientation": "v",
           "showlegend": true,
           "textposition": "auto",
           "type": "bar",
           "x": [
            "DHL"
           ],
           "xaxis": "x",
           "y": [
            0.5171849427168577
           ],
           "yaxis": "y"
          },
          {
           "alignmentgroup": "True",
           "hovertemplate": "Carrier Name=%{x}<br>Day of Week=Wednesday<br>Delay Rate=%{y}<extra></extra>",
           "legendgroup": "Emirates Cargo",
           "marker": {
            "color": "#EF553B",
            "pattern": {
             "shape": ""
            }
           },
           "name": "Emirates Cargo",
           "offsetgroup": "Emirates Cargo",
           "orientation": "v",
           "showlegend": true,
           "textposition": "auto",
           "type": "bar",
           "x": [
            "Emirates Cargo"
           ],
           "xaxis": "x",
           "y": [
            0.522887323943662
           ],
           "yaxis": "y"
          },
          {
           "alignmentgroup": "True",
           "hovertemplate": "Carrier Name=%{x}<br>Day of Week=Wednesday<br>Delay Rate=%{y}<extra></extra>",
           "legendgroup": "FedEx",
           "marker": {
            "color": "#00cc96",
            "pattern": {
             "shape": ""
            }
           },
           "name": "FedEx",
           "offsetgroup": "FedEx",
           "orientation": "v",
           "showlegend": true,
           "textposition": "auto",
           "type": "bar",
           "x": [
            "FedEx"
           ],
           "xaxis": "x",
           "y": [
            0.4851138353765324
           ],
           "yaxis": "y"
          },
          {
           "alignmentgroup": "True",
           "hovertemplate": "Carrier Name=%{x}<br>Day of Week=Wednesday<br>Delay Rate=%{y}<extra></extra>",
           "legendgroup": "Lufthansa Cargo",
           "marker": {
            "color": "#ab63fa",
            "pattern": {
             "shape": ""
            }
           },
           "name": "Lufthansa Cargo",
           "offsetgroup": "Lufthansa Cargo",
           "orientation": "v",
           "showlegend": true,
           "textposition": "auto",
           "type": "bar",
           "x": [
            "Lufthansa Cargo"
           ],
           "xaxis": "x",
           "y": [
            0.4940374787052811
           ],
           "yaxis": "y"
          },
          {
           "alignmentgroup": "True",
           "hovertemplate": "Carrier Name=%{x}<br>Day of Week=Wednesday<br>Delay Rate=%{y}<extra></extra>",
           "legendgroup": "UPS",
           "marker": {
            "color": "#FFA15A",
            "pattern": {
             "shape": ""
            }
           },
           "name": "UPS",
           "offsetgroup": "UPS",
           "orientation": "v",
           "showlegend": true,
           "textposition": "auto",
           "type": "bar",
           "x": [
            "UPS"
           ],
           "xaxis": "x",
           "y": [
            0.5143884892086331
           ],
           "yaxis": "y"
          }
         ],
         "name": "Wednesday"
        }
       ],
       "layout": {
        "autosize": true,
        "barmode": "relative",
        "legend": {
         "title": {
          "text": "Carrier Name"
         },
         "tracegroupgap": 0
        },
        "showlegend": false,
        "sliders": [
         {
          "active": 0,
          "currentvalue": {
           "prefix": "Day of Week="
          },
          "len": 0.9,
          "pad": {
           "b": 10,
           "t": 60
          },
          "steps": [
           {
            "args": [
             [
              "Friday"
             ],
             {
              "frame": {
               "duration": 0,
               "redraw": true
              },
              "fromcurrent": true,
              "mode": "immediate",
              "transition": {
               "duration": 0,
               "easing": "linear"
              }
             }
            ],
            "label": "Friday",
            "method": "animate"
           },
           {
            "args": [
             [
              "Monday"
             ],
             {
              "frame": {
               "duration": 0,
               "redraw": true
              },
              "fromcurrent": true,
              "mode": "immediate",
              "transition": {
               "duration": 0,
               "easing": "linear"
              }
             }
            ],
            "label": "Monday",
            "method": "animate"
           },
           {
            "args": [
             [
              "Saturday"
             ],
             {
              "frame": {
               "duration": 0,
               "redraw": true
              },
              "fromcurrent": true,
              "mode": "immediate",
              "transition": {
               "duration": 0,
               "easing": "linear"
              }
             }
            ],
            "label": "Saturday",
            "method": "animate"
           },
           {
            "args": [
             [
              "Sunday"
             ],
             {
              "frame": {
               "duration": 0,
               "redraw": true
              },
              "fromcurrent": true,
              "mode": "immediate",
              "transition": {
               "duration": 0,
               "easing": "linear"
              }
             }
            ],
            "label": "Sunday",
            "method": "animate"
           },
           {
            "args": [
             [
              "Thursday"
             ],
             {
              "frame": {
               "duration": 0,
               "redraw": true
              },
              "fromcurrent": true,
              "mode": "immediate",
              "transition": {
               "duration": 0,
               "easing": "linear"
              }
             }
            ],
            "label": "Thursday",
            "method": "animate"
           },
           {
            "args": [
             [
              "Tuesday"
             ],
             {
              "frame": {
               "duration": 0,
               "redraw": true
              },
              "fromcurrent": true,
              "mode": "immediate",
              "transition": {
               "duration": 0,
               "easing": "linear"
              }
             }
            ],
            "label": "Tuesday",
            "method": "animate"
           },
           {
            "args": [
             [
              "Wednesday"
             ],
             {
              "frame": {
               "duration": 0,
               "redraw": true
              },
              "fromcurrent": true,
              "mode": "immediate",
              "transition": {
               "duration": 0,
               "easing": "linear"
              }
             }
            ],
            "label": "Wednesday",
            "method": "animate"
           }
          ],
          "x": 0.1,
          "xanchor": "left",
          "y": 0,
          "yanchor": "top"
         }
        ],
        "template": {
         "data": {
          "bar": [
           {
            "error_x": {
             "color": "#2a3f5f"
            },
            "error_y": {
             "color": "#2a3f5f"
            },
            "marker": {
             "line": {
              "color": "#E5ECF6",
              "width": 0.5
             },
             "pattern": {
              "fillmode": "overlay",
              "size": 10,
              "solidity": 0.2
             }
            },
            "type": "bar"
           }
          ],
          "barpolar": [
           {
            "marker": {
             "line": {
              "color": "#E5ECF6",
              "width": 0.5
             },
             "pattern": {
              "fillmode": "overlay",
              "size": 10,
              "solidity": 0.2
             }
            },
            "type": "barpolar"
           }
          ],
          "carpet": [
           {
            "aaxis": {
             "endlinecolor": "#2a3f5f",
             "gridcolor": "white",
             "linecolor": "white",
             "minorgridcolor": "white",
             "startlinecolor": "#2a3f5f"
            },
            "baxis": {
             "endlinecolor": "#2a3f5f",
             "gridcolor": "white",
             "linecolor": "white",
             "minorgridcolor": "white",
             "startlinecolor": "#2a3f5f"
            },
            "type": "carpet"
           }
          ],
          "choropleth": [
           {
            "colorbar": {
             "outlinewidth": 0,
             "ticks": ""
            },
            "type": "choropleth"
           }
          ],
          "contour": [
           {
            "colorbar": {
             "outlinewidth": 0,
             "ticks": ""
            },
            "colorscale": [
             [
              0,
              "#0d0887"
             ],
             [
              0.1111111111111111,
              "#46039f"
             ],
             [
              0.2222222222222222,
              "#7201a8"
             ],
             [
              0.3333333333333333,
              "#9c179e"
             ],
             [
              0.4444444444444444,
              "#bd3786"
             ],
             [
              0.5555555555555556,
              "#d8576b"
             ],
             [
              0.6666666666666666,
              "#ed7953"
             ],
             [
              0.7777777777777778,
              "#fb9f3a"
             ],
             [
              0.8888888888888888,
              "#fdca26"
             ],
             [
              1,
              "#f0f921"
             ]
            ],
            "type": "contour"
           }
          ],
          "contourcarpet": [
           {
            "colorbar": {
             "outlinewidth": 0,
             "ticks": ""
            },
            "type": "contourcarpet"
           }
          ],
          "heatmap": [
           {
            "colorbar": {
             "outlinewidth": 0,
             "ticks": ""
            },
            "colorscale": [
             [
              0,
              "#0d0887"
             ],
             [
              0.1111111111111111,
              "#46039f"
             ],
             [
              0.2222222222222222,
              "#7201a8"
             ],
             [
              0.3333333333333333,
              "#9c179e"
             ],
             [
              0.4444444444444444,
              "#bd3786"
             ],
             [
              0.5555555555555556,
              "#d8576b"
             ],
             [
              0.6666666666666666,
              "#ed7953"
             ],
             [
              0.7777777777777778,
              "#fb9f3a"
             ],
             [
              0.8888888888888888,
              "#fdca26"
             ],
             [
              1,
              "#f0f921"
             ]
            ],
            "type": "heatmap"
           }
          ],
          "heatmapgl": [
           {
            "colorbar": {
             "outlinewidth": 0,
             "ticks": ""
            },
            "colorscale": [
             [
              0,
              "#0d0887"
             ],
             [
              0.1111111111111111,
              "#46039f"
             ],
             [
              0.2222222222222222,
              "#7201a8"
             ],
             [
              0.3333333333333333,
              "#9c179e"
             ],
             [
              0.4444444444444444,
              "#bd3786"
             ],
             [
              0.5555555555555556,
              "#d8576b"
             ],
             [
              0.6666666666666666,
              "#ed7953"
             ],
             [
              0.7777777777777778,
              "#fb9f3a"
             ],
             [
              0.8888888888888888,
              "#fdca26"
             ],
             [
              1,
              "#f0f921"
             ]
            ],
            "type": "heatmapgl"
           }
          ],
          "histogram": [
           {
            "marker": {
             "pattern": {
              "fillmode": "overlay",
              "size": 10,
              "solidity": 0.2
             }
            },
            "type": "histogram"
           }
          ],
          "histogram2d": [
           {
            "colorbar": {
             "outlinewidth": 0,
             "ticks": ""
            },
            "colorscale": [
             [
              0,
              "#0d0887"
             ],
             [
              0.1111111111111111,
              "#46039f"
             ],
             [
              0.2222222222222222,
              "#7201a8"
             ],
             [
              0.3333333333333333,
              "#9c179e"
             ],
             [
              0.4444444444444444,
              "#bd3786"
             ],
             [
              0.5555555555555556,
              "#d8576b"
             ],
             [
              0.6666666666666666,
              "#ed7953"
             ],
             [
              0.7777777777777778,
              "#fb9f3a"
             ],
             [
              0.8888888888888888,
              "#fdca26"
             ],
             [
              1,
              "#f0f921"
             ]
            ],
            "type": "histogram2d"
           }
          ],
          "histogram2dcontour": [
           {
            "colorbar": {
             "outlinewidth": 0,
             "ticks": ""
            },
            "colorscale": [
             [
              0,
              "#0d0887"
             ],
             [
              0.1111111111111111,
              "#46039f"
             ],
             [
              0.2222222222222222,
              "#7201a8"
             ],
             [
              0.3333333333333333,
              "#9c179e"
             ],
             [
              0.4444444444444444,
              "#bd3786"
             ],
             [
              0.5555555555555556,
              "#d8576b"
             ],
             [
              0.6666666666666666,
              "#ed7953"
             ],
             [
              0.7777777777777778,
              "#fb9f3a"
             ],
             [
              0.8888888888888888,
              "#fdca26"
             ],
             [
              1,
              "#f0f921"
             ]
            ],
            "type": "histogram2dcontour"
           }
          ],
          "mesh3d": [
           {
            "colorbar": {
             "outlinewidth": 0,
             "ticks": ""
            },
            "type": "mesh3d"
           }
          ],
          "parcoords": [
           {
            "line": {
             "colorbar": {
              "outlinewidth": 0,
              "ticks": ""
             }
            },
            "type": "parcoords"
           }
          ],
          "pie": [
           {
            "automargin": true,
            "type": "pie"
           }
          ],
          "scatter": [
           {
            "fillpattern": {
             "fillmode": "overlay",
             "size": 10,
             "solidity": 0.2
            },
            "type": "scatter"
           }
          ],
          "scatter3d": [
           {
            "line": {
             "colorbar": {
              "outlinewidth": 0,
              "ticks": ""
             }
            },
            "marker": {
             "colorbar": {
              "outlinewidth": 0,
              "ticks": ""
             }
            },
            "type": "scatter3d"
           }
          ],
          "scattercarpet": [
           {
            "marker": {
             "colorbar": {
              "outlinewidth": 0,
              "ticks": ""
             }
            },
            "type": "scattercarpet"
           }
          ],
          "scattergeo": [
           {
            "marker": {
             "colorbar": {
              "outlinewidth": 0,
              "ticks": ""
             }
            },
            "type": "scattergeo"
           }
          ],
          "scattergl": [
           {
            "marker": {
             "colorbar": {
              "outlinewidth": 0,
              "ticks": ""
             }
            },
            "type": "scattergl"
           }
          ],
          "scattermapbox": [
           {
            "marker": {
             "colorbar": {
              "outlinewidth": 0,
              "ticks": ""
             }
            },
            "type": "scattermapbox"
           }
          ],
          "scatterpolar": [
           {
            "marker": {
             "colorbar": {
              "outlinewidth": 0,
              "ticks": ""
             }
            },
            "type": "scatterpolar"
           }
          ],
          "scatterpolargl": [
           {
            "marker": {
             "colorbar": {
              "outlinewidth": 0,
              "ticks": ""
             }
            },
            "type": "scatterpolargl"
           }
          ],
          "scatterternary": [
           {
            "marker": {
             "colorbar": {
              "outlinewidth": 0,
              "ticks": ""
             }
            },
            "type": "scatterternary"
           }
          ],
          "surface": [
           {
            "colorbar": {
             "outlinewidth": 0,
             "ticks": ""
            },
            "colorscale": [
             [
              0,
              "#0d0887"
             ],
             [
              0.1111111111111111,
              "#46039f"
             ],
             [
              0.2222222222222222,
              "#7201a8"
             ],
             [
              0.3333333333333333,
              "#9c179e"
             ],
             [
              0.4444444444444444,
              "#bd3786"
             ],
             [
              0.5555555555555556,
              "#d8576b"
             ],
             [
              0.6666666666666666,
              "#ed7953"
             ],
             [
              0.7777777777777778,
              "#fb9f3a"
             ],
             [
              0.8888888888888888,
              "#fdca26"
             ],
             [
              1,
              "#f0f921"
             ]
            ],
            "type": "surface"
           }
          ],
          "table": [
           {
            "cells": {
             "fill": {
              "color": "#EBF0F8"
             },
             "line": {
              "color": "white"
             }
            },
            "header": {
             "fill": {
              "color": "#C8D4E3"
             },
             "line": {
              "color": "white"
             }
            },
            "type": "table"
           }
          ]
         },
         "layout": {
          "annotationdefaults": {
           "arrowcolor": "#2a3f5f",
           "arrowhead": 0,
           "arrowwidth": 1
          },
          "autotypenumbers": "strict",
          "coloraxis": {
           "colorbar": {
            "outlinewidth": 0,
            "ticks": ""
           }
          },
          "colorscale": {
           "diverging": [
            [
             0,
             "#8e0152"
            ],
            [
             0.1,
             "#c51b7d"
            ],
            [
             0.2,
             "#de77ae"
            ],
            [
             0.3,
             "#f1b6da"
            ],
            [
             0.4,
             "#fde0ef"
            ],
            [
             0.5,
             "#f7f7f7"
            ],
            [
             0.6,
             "#e6f5d0"
            ],
            [
             0.7,
             "#b8e186"
            ],
            [
             0.8,
             "#7fbc41"
            ],
            [
             0.9,
             "#4d9221"
            ],
            [
             1,
             "#276419"
            ]
           ],
           "sequential": [
            [
             0,
             "#0d0887"
            ],
            [
             0.1111111111111111,
             "#46039f"
            ],
            [
             0.2222222222222222,
             "#7201a8"
            ],
            [
             0.3333333333333333,
             "#9c179e"
            ],
            [
             0.4444444444444444,
             "#bd3786"
            ],
            [
             0.5555555555555556,
             "#d8576b"
            ],
            [
             0.6666666666666666,
             "#ed7953"
            ],
            [
             0.7777777777777778,
             "#fb9f3a"
            ],
            [
             0.8888888888888888,
             "#fdca26"
            ],
            [
             1,
             "#f0f921"
            ]
           ],
           "sequentialminus": [
            [
             0,
             "#0d0887"
            ],
            [
             0.1111111111111111,
             "#46039f"
            ],
            [
             0.2222222222222222,
             "#7201a8"
            ],
            [
             0.3333333333333333,
             "#9c179e"
            ],
            [
             0.4444444444444444,
             "#bd3786"
            ],
            [
             0.5555555555555556,
             "#d8576b"
            ],
            [
             0.6666666666666666,
             "#ed7953"
            ],
            [
             0.7777777777777778,
             "#fb9f3a"
            ],
            [
             0.8888888888888888,
             "#fdca26"
            ],
            [
             1,
             "#f0f921"
            ]
           ]
          },
          "colorway": [
           "#636efa",
           "#EF553B",
           "#00cc96",
           "#ab63fa",
           "#FFA15A",
           "#19d3f3",
           "#FF6692",
           "#B6E880",
           "#FF97FF",
           "#FECB52"
          ],
          "font": {
           "color": "#2a3f5f"
          },
          "geo": {
           "bgcolor": "white",
           "lakecolor": "white",
           "landcolor": "#E5ECF6",
           "showlakes": true,
           "showland": true,
           "subunitcolor": "white"
          },
          "hoverlabel": {
           "align": "left"
          },
          "hovermode": "closest",
          "mapbox": {
           "style": "light"
          },
          "paper_bgcolor": "white",
          "plot_bgcolor": "#E5ECF6",
          "polar": {
           "angularaxis": {
            "gridcolor": "white",
            "linecolor": "white",
            "ticks": ""
           },
           "bgcolor": "#E5ECF6",
           "radialaxis": {
            "gridcolor": "white",
            "linecolor": "white",
            "ticks": ""
           }
          },
          "scene": {
           "xaxis": {
            "backgroundcolor": "#E5ECF6",
            "gridcolor": "white",
            "gridwidth": 2,
            "linecolor": "white",
            "showbackground": true,
            "ticks": "",
            "zerolinecolor": "white"
           },
           "yaxis": {
            "backgroundcolor": "#E5ECF6",
            "gridcolor": "white",
            "gridwidth": 2,
            "linecolor": "white",
            "showbackground": true,
            "ticks": "",
            "zerolinecolor": "white"
           },
           "zaxis": {
            "backgroundcolor": "#E5ECF6",
            "gridcolor": "white",
            "gridwidth": 2,
            "linecolor": "white",
            "showbackground": true,
            "ticks": "",
            "zerolinecolor": "white"
           }
          },
          "shapedefaults": {
           "line": {
            "color": "#2a3f5f"
           }
          },
          "ternary": {
           "aaxis": {
            "gridcolor": "white",
            "linecolor": "white",
            "ticks": ""
           },
           "baxis": {
            "gridcolor": "white",
            "linecolor": "white",
            "ticks": ""
           },
           "bgcolor": "#E5ECF6",
           "caxis": {
            "gridcolor": "white",
            "linecolor": "white",
            "ticks": ""
           }
          },
          "title": {
           "x": 0.05
          },
          "xaxis": {
           "automargin": true,
           "gridcolor": "white",
           "linecolor": "white",
           "ticks": "",
           "title": {
            "standoff": 15
           },
           "zerolinecolor": "white",
           "zerolinewidth": 2
          },
          "yaxis": {
           "automargin": true,
           "gridcolor": "white",
           "linecolor": "white",
           "ticks": "",
           "title": {
            "standoff": 15
           },
           "zerolinecolor": "white",
           "zerolinewidth": 2
          }
         }
        },
        "title": {
         "text": " Delay Rate by Carrier — Animated by Day of Week"
        },
        "updatemenus": [
         {
          "buttons": [
           {
            "args": [
             null,
             {
              "frame": {
               "duration": 500,
               "redraw": true
              },
              "fromcurrent": true,
              "mode": "immediate",
              "transition": {
               "duration": 500,
               "easing": "linear"
              }
             }
            ],
            "label": "&#9654;",
            "method": "animate"
           },
           {
            "args": [
             [
              null
             ],
             {
              "frame": {
               "duration": 0,
               "redraw": true
              },
              "fromcurrent": true,
              "mode": "immediate",
              "transition": {
               "duration": 0,
               "easing": "linear"
              }
             }
            ],
            "label": "&#9724;",
            "method": "animate"
           }
          ],
          "direction": "left",
          "pad": {
           "r": 10,
           "t": 70
          },
          "showactive": false,
          "type": "buttons",
          "x": 0.1,
          "xanchor": "right",
          "y": 0,
          "yanchor": "top"
         }
        ],
        "xaxis": {
         "anchor": "y",
         "autorange": true,
         "categoryarray": [
          "DHL",
          "Emirates Cargo",
          "FedEx",
          "Lufthansa Cargo",
          "UPS"
         ],
         "categoryorder": "array",
         "domain": [
          0,
          1
         ],
         "range": [
          -0.5,
          4.5
         ],
         "title": {
          "text": "Carrier Name"
         },
         "type": "category"
        },
        "yaxis": {
         "anchor": "x",
         "domain": [
          0,
          1
         ],
         "range": [
          0,
          1
         ],
         "title": {
          "text": "Delay Rate"
         },
         "type": "linear"
        }
       }
      },
      "image/png": "[encoded data removed]",
      "text/html": [
       "<div>                            <div id=\"99fc8b87-0e0c-4a34-8a76-77ea3496a961\" class=\"plotly-graph-div\" style=\"height:525px; width:100%;\"></div>            <script type=\"text/javascript\">                require([\"plotly\"], function(Plotly) {                    window.PLOTLYENV=window.PLOTLYENV || {};                                    if (document.getElementById(\"99fc8b87-0e0c-4a34-8a76-77ea3496a961\")) {                    Plotly.newPlot(                        \"99fc8b87-0e0c-4a34-8a76-77ea3496a961\",                        [{\"alignmentgroup\":\"True\",\"hovertemplate\":\"Carrier Name=%{x}\\u003cbr\\u003eDay of Week=Friday\\u003cbr\\u003eDelay Rate=%{y}\\u003cextra\\u003e\\u003c\\u002fextra\\u003e\",\"legendgroup\":\"DHL\",\"marker\":{\"color\":\"#636efa\",\"pattern\":{\"shape\":\"\"}},\"name\":\"DHL\",\"offsetgroup\":\"DHL\",\"orientation\":\"v\",\"showlegend\":true,\"textposition\":\"auto\",\"x\":[\"DHL\"],\"xaxis\":\"x\",\"y\":[0.5267857142857143],\"yaxis\":\"y\",\"type\":\"bar\"},{\"alignmentgroup\":\"True\",\"hovertemplate\":\"Carrier Name=%{x}\\u003cbr\\u003eDay of Week=Friday\\u003cbr\\u003eDelay Rate=%{y}\\u003cextra\\u003e\\u003c\\u002fextra\\u003e\",\"legendgroup\":\"Emirates Cargo\",\"marker\":{\"color\":\"#EF553B\",\"pattern\":{\"shape\":\"\"}},\"name\":\"Emirates Cargo\",\"offsetgroup\":\"Emirates Cargo\",\"orientation\":\"v\",\"showlegend\":true,\"textposition\":\"auto\",\"x\":[\"Emirates Cargo\"],\"xaxis\":\"x\",\"y\":[0.5017482517482518],\"yaxis\":\"y\",\"type\":\"bar\"},{\"alignmentgroup\":\"True\",\"hovertemplate\":\"Carrier Name=%{x}\\u003cbr\\u003eDay of Week=Friday\\u003cbr\\u003eDelay Rate=%{y}\\u003cextra\\u003e\\u003c\\u002fextra\\u003e\",\"legendgroup\":\"FedEx\",\"marker\":{\"color\":\"#00cc96\",\"pattern\":{\"shape\":\"\"}},\"name\":\"FedEx\",\"offsetgroup\":\"FedEx\",\"orientation\":\"v\",\"showlegend\":true,\"textposition\":\"auto\",\"x\":[\"FedEx\"],\"xaxis\":\"x\",\"y\":[0.49016100178890876],\"yaxis\":\"y\",\"type\":\"bar\"},{\"alignmentgroup\":\"True\",\"hovertemplate\":\"Carrier Name=%{x}\\u003cbr\\u003eDay of Week=Friday\\u003cbr\\u003eDelay Rate=%{y}\\u003cextra\\u003e\\u003c\\u002fextra\\u003e\",\"legendgroup\":\"Lufthansa Cargo\",\"marker\":{\"color\":\"#ab63fa\",\"pattern\":{\"shape\":\"\"}},\"name\":\"Lufthansa Cargo\",\"offsetgroup\":\"Lufthansa Cargo\",\"orientation\":\"v\",\"showlegend\":true,\"textposition\":\"auto\",\"x\":[\"Lufthansa Cargo\"],\"xaxis\":\"x\",\"y\":[0.49166666666666664],\"yaxis\":\"y\",\"type\":\"bar\"},{\"alignmentgroup\":\"True\",\"hovertemplate\":\"Carrier Name=%{x}\\u003cbr\\u003eDay of Week=Friday\\u003cbr\\u003eDelay Rate=%{y}\\u003cextra\\u003e\\u003c\\u002fextra\\u003e\",\"legendgroup\":\"UPS\",\"marker\":{\"color\":\"#FFA15A\",\"pattern\":{\"shape\":\"\"}},\"name\":\"UPS\",\"offsetgroup\":\"UPS\",\"orientation\":\"v\",\"showlegend\":true,\"textposition\":\"auto\",\"x\":[\"UPS\"],\"xaxis\":\"x\",\"y\":[0.4870848708487085],\"yaxis\":\"y\",\"type\":\"bar\"}],                        {\"template\":{\"data\":{\"histogram2dcontour\":[{\"type\":\"histogram2dcontour\",\"colorbar\":{\"outlinewidth\":0,\"ticks\":\"\"},\"colorscale\":[[0.0,\"#0d0887\"],[0.1111111111111111,\"#46039f\"],[0.2222222222222222,\"#7201a8\"],[0.3333333333333333,\"#9c179e\"],[0.4444444444444444,\"#bd3786\"],[0.5555555555555556,\"#d8576b\"],[0.6666666666666666,\"#ed7953\"],[0.7777777777777778,\"#fb9f3a\"],[0.8888888888888888,\"#fdca26\"],[1.0,\"#f0f921\"]]}],\"choropleth\":[{\"type\":\"choropleth\",\"colorbar\":{\"outlinewidth\":0,\"ticks\":\"\"}}],\"histogram2d\":[{\"type\":\"histogram2d\",\"colorbar\":{\"outlinewidth\":0,\"ticks\":\"\"},\"colorscale\":[[0.0,\"#0d0887\"],[0.1111111111111111,\"#46039f\"],[0.2222222222222222,\"#7201a8\"],[0.3333333333333333,\"#9c179e\"],[0.4444444444444444,\"#bd3786\"],[0.5555555555555556,\"#d8576b\"],[0.6666666666666666,\"#ed7953\"],[0.7777777777777778,\"#fb9f3a\"],[0.8888888888888888,\"#fdca26\"],[1.0,\"#f0f921\"]]}],\"heatmap\":[{\"type\":\"heatmap\",\"colorbar\":{\"outlinewidth\":0,\"ticks\":\"\"},\"colorscale\":[[0.0,\"#0d0887\"],[0.1111111111111111,\"#46039f\"],[0.2222222222222222,\"#7201a8\"],[0.3333333333333333,\"#9c179e\"],[0.4444444444444444,\"#bd3786\"],[0.5555555555555556,\"#d8576b\"],[0.6666666666666666,\"#ed7953\"],[0.7777777777777778,\"#fb9f3a\"],[0.8888888888888888,\"#fdca26\"],[1.0,\"#f0f921\"]]}],\"heatmapgl\":[{\"type\":\"heatmapgl\",\"colorbar\":{\"outlinewidth\":0,\"ticks\":\"\"},\"colorscale\":[[0.0,\"#0d0887\"],[0.1111111111111111,\"#46039f\"],[0.2222222222222222,\"#7201a8\"],[0.3333333333333333,\"#9c179e\"],[0.4444444444444444,\"#bd3786\"],[0.5555555555555556,\"#d8576b\"],[0.6666666666666666,\"#ed7953\"],[0.7777777777777778,\"#fb9f3a\"],[0.8888888888888888,\"#fdca26\"],[1.0,\"#f0f921\"]]}],\"contourcarpet\":[{\"type\":\"contourcarpet\",\"colorbar\":{\"outlinewidth\":0,\"ticks\":\"\"}}],\"contour\":[{\"type\":\"contour\",\"colorbar\":{\"outlinewidth\":0,\"ticks\":\"\"},\"colorscale\":[[0.0,\"#0d0887\"],[0.1111111111111111,\"#46039f\"],[0.2222222222222222,\"#7201a8\"],[0.3333333333333333,\"#9c179e\"],[0.4444444444444444,\"#bd3786\"],[0.5555555555555556,\"#d8576b\"],[0.6666666666666666,\"#ed7953\"],[0.7777777777777778,\"#fb9f3a\"],[0.8888888888888888,\"#fdca26\"],[1.0,\"#f0f921\"]]}],\"surface\":[{\"type\":\"surface\",\"colorbar\":{\"outlinewidth\":0,\"ticks\":\"\"},\"colorscale\":[[0.0,\"#0d0887\"],[0.1111111111111111,\"#46039f\"],[0.2222222222222222,\"#7201a8\"],[0.3333333333333333,\"#9c179e\"],[0.4444444444444444,\"#bd3786\"],[0.5555555555555556,\"#d8576b\"],[0.6666666666666666,\"#ed7953\"],[0.7777777777777778,\"#fb9f3a\"],[0.8888888888888888,\"#fdca26\"],[1.0,\"#f0f921\"]]}],\"mesh3d\":[{\"type\":\"mesh3d\",\"colorbar\":{\"outlinewidth\":0,\"ticks\":\"\"}}],\"scatter\":[{\"fillpattern\":{\"fillmode\":\"overlay\",\"size\":10,\"solidity\":0.2},\"type\":\"scatter\"}],\"parcoords\":[{\"type\":\"parcoords\",\"line\":{\"colorbar\":{\"outlinewidth\":0,\"ticks\":\"\"}}}],\"scatterpolargl\":[{\"type\":\"scatterpolargl\",\"marker\":{\"colorbar\":{\"outlinewidth\":0,\"ticks\":\"\"}}}],\"bar\":[{\"error_x\":{\"color\":\"#2a3f5f\"},\"error_y\":{\"color\":\"#2a3f5f\"},\"marker\":{\"line\":{\"color\":\"#E5ECF6\",\"width\":0.5},\"pattern\":{\"fillmode\":\"overlay\",\"size\":10,\"solidity\":0.2}},\"type\":\"bar\"}],\"scattergeo\":[{\"type\":\"scattergeo\",\"marker\":{\"colorbar\":{\"outlinewidth\":0,\"ticks\":\"\"}}}],\"scatterpolar\":[{\"type\":\"scatterpolar\",\"marker\":{\"colorbar\":{\"outlinewidth\":0,\"ticks\":\"\"}}}],\"histogram\":[{\"marker\":{\"pattern\":{\"fillmode\":\"overlay\",\"size\":10,\"solidity\":0.2}},\"type\":\"histogram\"}],\"scattergl\":[{\"type\":\"scattergl\",\"marker\":{\"colorbar\":{\"outlinewidth\":0,\"ticks\":\"\"}}}],\"scatter3d\":[{\"type\":\"scatter3d\",\"line\":{\"colorbar\":{\"outlinewidth\":0,\"ticks\":\"\"}},\"marker\":{\"colorbar\":{\"outlinewidth\":0,\"ticks\":\"\"}}}],\"scattermapbox\":[{\"type\":\"scattermapbox\",\"marker\":{\"colorbar\":{\"outlinewidth\":0,\"ticks\":\"\"}}}],\"scatterternary\":[{\"type\":\"scatterternary\",\"marker\":{\"colorbar\":{\"outlinewidth\":0,\"ticks\":\"\"}}}],\"scattercarpet\":[{\"type\":\"scattercarpet\",\"marker\":{\"colorbar\":{\"outlinewidth\":0,\"ticks\":\"\"}}}],\"carpet\":[{\"aaxis\":{\"endlinecolor\":\"#2a3f5f\",\"gridcolor\":\"white\",\"linecolor\":\"white\",\"minorgridcolor\":\"white\",\"startlinecolor\":\"#2a3f5f\"},\"baxis\":{\"endlinecolor\":\"#2a3f5f\",\"gridcolor\":\"white\",\"linecolor\":\"white\",\"minorgridcolor\":\"white\",\"startlinecolor\":\"#2a3f5f\"},\"type\":\"carpet\"}],\"table\":[{\"cells\":{\"fill\":{\"color\":\"#EBF0F8\"},\"line\":{\"color\":\"white\"}},\"header\":{\"fill\":{\"color\":\"#C8D4E3\"},\"line\":{\"color\":\"white\"}},\"type\":\"table\"}],\"barpolar\":[{\"marker\":{\"line\":{\"color\":\"#E5ECF6\",\"width\":0.5},\"pattern\":{\"fillmode\":\"overlay\",\"size\":10,\"solidity\":0.2}},\"type\":\"barpolar\"}],\"pie\":[{\"automargin\":true,\"type\":\"pie\"}]},\"layout\":{\"autotypenumbers\":\"strict\",\"colorway\":[\"#636efa\",\"#EF553B\",\"#00cc96\",\"#ab63fa\",\"#FFA15A\",\"#19d3f3\",\"#FF6692\",\"#B6E880\",\"#FF97FF\",\"#FECB52\"],\"font\":{\"color\":\"#2a3f5f\"},\"hovermode\":\"closest\",\"hoverlabel\":{\"align\":\"left\"},\"paper_bgcolor\":\"white\",\"plot_bgcolor\":\"#E5ECF6\",\"polar\":{\"bgcolor\":\"#E5ECF6\",\"angularaxis\":{\"gridcolor\":\"white\",\"linecolor\":\"white\",\"ticks\":\"\"},\"radialaxis\":{\"gridcolor\":\"white\",\"linecolor\":\"white\",\"ticks\":\"\"}},\"ternary\":{\"bgcolor\":\"#E5ECF6\",\"aaxis\":{\"gridcolor\":\"white\",\"linecolor\":\"white\",\"ticks\":\"\"},\"baxis\":{\"gridcolor\":\"white\",\"linecolor\":\"white\",\"ticks\":\"\"},\"caxis\":{\"gridcolor\":\"white\",\"linecolor\":\"white\",\"ticks\":\"\"}},\"coloraxis\":{\"colorbar\":{\"outlinewidth\":0,\"ticks\":\"\"}},\"colorscale\":{\"sequential\":[[0.0,\"#0d0887\"],[0.1111111111111111,\"#46039f\"],[0.2222222222222222,\"#7201a8\"],[0.3333333333333333,\"#9c179e\"],[0.4444444444444444,\"#bd3786\"],[0.5555555555555556,\"#d8576b\"],[0.6666666666666666,\"#ed7953\"],[0.7777777777777778,\"#fb9f3a\"],[0.8888888888888888,\"#fdca26\"],[1.0,\"#f0f921\"]],\"sequentialminus\":[[0.0,\"#0d0887\"],[0.1111111111111111,\"#46039f\"],[0.2222222222222222,\"#7201a8\"],[0.3333333333333333,\"#9c179e\"],[0.4444444444444444,\"#bd3786\"],[0.5555555555555556,\"#d8576b\"],[0.6666666666666666,\"#ed7953\"],[0.7777777777777778,\"#fb9f3a\"],[0.8888888888888888,\"#fdca26\"],[1.0,\"#f0f921\"]],\"diverging\":[[0,\"#8e0152\"],[0.1,\"#c51b7d\"],[0.2,\"#de77ae\"],[0.3,\"#f1b6da\"],[0.4,\"#fde0ef\"],[0.5,\"#f7f7f7\"],[0.6,\"#e6f5d0\"],[0.7,\"#b8e186\"],[0.8,\"#7fbc41\"],[0.9,\"#4d9221\"],[1,\"#276419\"]]},\"xaxis\":{\"gridcolor\":\"white\",\"linecolor\":\"white\",\"ticks\":\"\",\"title\":{\"standoff\":15},\"zerolinecolor\":\"white\",\"automargin\":true,\"zerolinewidth\":2},\"yaxis\":{\"gridcolor\":\"white\",\"linecolor\":\"white\",\"ticks\":\"\",\"title\":{\"standoff\":15},\"zerolinecolor\":\"white\",\"automargin\":true,\"zerolinewidth\":2},\"scene\":{\"xaxis\":{\"backgroundcolor\":\"#E5ECF6\",\"gridcolor\":\"white\",\"linecolor\":\"white\",\"showbackground\":true,\"ticks\":\"\",\"zerolinecolor\":\"white\",\"gridwidth\":2},\"yaxis\":{\"backgroundcolor\":\"#E5ECF6\",\"gridcolor\":\"white\",\"linecolor\":\"white\",\"showbackground\":true,\"ticks\":\"\",\"zerolinecolor\":\"white\",\"gridwidth\":2},\"zaxis\":{\"backgroundcolor\":\"#E5ECF6\",\"gridcolor\":\"white\",\"linecolor\":\"white\",\"showbackground\":true,\"ticks\":\"\",\"zerolinecolor\":\"white\",\"gridwidth\":2}},\"shapedefaults\":{\"line\":{\"color\":\"#2a3f5f\"}},\"annotationdefaults\":{\"arrowcolor\":\"#2a3f5f\",\"arrowhead\":0,\"arrowwidth\":1},\"geo\":{\"bgcolor\":\"white\",\"landcolor\":\"#E5ECF6\",\"subunitcolor\":\"white\",\"showland\":true,\"showlakes\":true,\"lakecolor\":\"white\"},\"title\":{\"x\":0.05},\"mapbox\":{\"style\":\"light\"}}},\"xaxis\":{\"anchor\":\"y\",\"domain\":[0.0,1.0],\"title\":{\"text\":\"Carrier Name\"},\"categoryorder\":\"array\",\"categoryarray\":[\"DHL\",\"Emirates Cargo\",\"FedEx\",\"Lufthansa Cargo\",\"UPS\"]},\"yaxis\":{\"anchor\":\"x\",\"domain\":[0.0,1.0],\"title\":{\"text\":\"Delay Rate\"},\"range\":[0,1]},\"legend\":{\"title\":{\"text\":\"Carrier Name\"},\"tracegroupgap\":0},\"title\":{\"text\":\" Delay Rate by Carrier \\u2014 Animated by Day of Week\"},\"barmode\":\"relative\",\"updatemenus\":[{\"buttons\":[{\"args\":[null,{\"frame\":{\"duration\":500,\"redraw\":true},\"mode\":\"immediate\",\"fromcurrent\":true,\"transition\":{\"duration\":500,\"easing\":\"linear\"}}],\"label\":\"&#9654;\",\"method\":\"animate\"},{\"args\":[[null],{\"frame\":{\"duration\":0,\"redraw\":true},\"mode\":\"immediate\",\"fromcurrent\":true,\"transition\":{\"duration\":0,\"easing\":\"linear\"}}],\"label\":\"&#9724;\",\"method\":\"animate\"}],\"direction\":\"left\",\"pad\":{\"r\":10,\"t\":70},\"showactive\":false,\"type\":\"buttons\",\"x\":0.1,\"xanchor\":\"right\",\"y\":0,\"yanchor\":\"top\"}],\"sliders\":[{\"active\":0,\"currentvalue\":{\"prefix\":\"Day of Week=\"},\"len\":0.9,\"pad\":{\"b\":10,\"t\":60},\"steps\":[{\"args\":[[\"Friday\"],{\"frame\":{\"duration\":0,\"redraw\":true},\"mode\":\"immediate\",\"fromcurrent\":true,\"transition\":{\"duration\":0,\"easing\":\"linear\"}}],\"label\":\"Friday\",\"method\":\"animate\"},{\"args\":[[\"Monday\"],{\"frame\":{\"duration\":0,\"redraw\":true},\"mode\":\"immediate\",\"fromcurrent\":true,\"transition\":{\"duration\":0,\"easing\":\"linear\"}}],\"label\":\"Monday\",\"method\":\"animate\"},{\"args\":[[\"Saturday\"],{\"frame\":{\"duration\":0,\"redraw\":true},\"mode\":\"immediate\",\"fromcurrent\":true,\"transition\":{\"duration\":0,\"easing\":\"linear\"}}],\"label\":\"Saturday\",\"method\":\"animate\"},{\"args\":[[\"Sunday\"],{\"frame\":{\"duration\":0,\"redraw\":true},\"mode\":\"immediate\",\"fromcurrent\":true,\"transition\":{\"duration\":0,\"easing\":\"linear\"}}],\"label\":\"Sunday\",\"method\":\"animate\"},{\"args\":[[\"Thursday\"],{\"frame\":{\"duration\":0,\"redraw\":true},\"mode\":\"immediate\",\"fromcurrent\":true,\"transition\":{\"duration\":0,\"easing\":\"linear\"}}],\"label\":\"Thursday\",\"method\":\"animate\"},{\"args\":[[\"Tuesday\"],{\"frame\":{\"duration\":0,\"redraw\":true},\"mode\":\"immediate\",\"fromcurrent\":true,\"transition\":{\"duration\":0,\"easing\":\"linear\"}}],\"label\":\"Tuesday\",\"method\":\"animate\"},{\"args\":[[\"Wednesday\"],{\"frame\":{\"duration\":0,\"redraw\":true},\"mode\":\"immediate\",\"fromcurrent\":true,\"transition\":{\"duration\":0,\"easing\":\"linear\"}}],\"label\":\"Wednesday\",\"method\":\"animate\"}],\"x\":0.1,\"xanchor\":\"left\",\"y\":0,\"yanchor\":\"top\"}],\"showlegend\":false},                        {\"responsive\": true}                    ).then(function(){\n",
       "                            Plotly.addFrames('99fc8b87-0e0c-4a34-8a76-77ea3496a961', [{\"data\":[{\"alignmentgroup\":\"True\",\"hovertemplate\":\"Carrier Name=%{x}\\u003cbr\\u003eDay of Week=Friday\\u003cbr\\u003eDelay Rate=%{y}\\u003cextra\\u003e\\u003c\\u002fextra\\u003e\",\"legendgroup\":\"DHL\",\"marker\":{\"color\":\"#636efa\",\"pattern\":{\"shape\":\"\"}},\"name\":\"DHL\",\"offsetgroup\":\"DHL\",\"orientation\":\"v\",\"showlegend\":true,\"textposition\":\"auto\",\"x\":[\"DHL\"],\"xaxis\":\"x\",\"y\":[0.5267857142857143],\"yaxis\":\"y\",\"type\":\"bar\"},{\"alignmentgroup\":\"True\",\"hovertemplate\":\"Carrier Name=%{x}\\u003cbr\\u003eDay of Week=Friday\\u003cbr\\u003eDelay Rate=%{y}\\u003cextra\\u003e\\u003c\\u002fextra\\u003e\",\"legendgroup\":\"Emirates Cargo\",\"marker\":{\"color\":\"#EF553B\",\"pattern\":{\"shape\":\"\"}},\"name\":\"Emirates Cargo\",\"offsetgroup\":\"Emirates Cargo\",\"orientation\":\"v\",\"showlegend\":true,\"textposition\":\"auto\",\"x\":[\"Emirates Cargo\"],\"xaxis\":\"x\",\"y\":[0.5017482517482518],\"yaxis\":\"y\",\"type\":\"bar\"},{\"alignmentgroup\":\"True\",\"hovertemplate\":\"Carrier Name=%{x}\\u003cbr\\u003eDay of Week=Friday\\u003cbr\\u003eDelay Rate=%{y}\\u003cextra\\u003e\\u003c\\u002fextra\\u003e\",\"legendgroup\":\"FedEx\",\"marker\":{\"color\":\"#00cc96\",\"pattern\":{\"shape\":\"\"}},\"name\":\"FedEx\",\"offsetgroup\":\"FedEx\",\"orientation\":\"v\",\"showlegend\":true,\"textposition\":\"auto\",\"x\":[\"FedEx\"],\"xaxis\":\"x\",\"y\":[0.49016100178890876],\"yaxis\":\"y\",\"type\":\"bar\"},{\"alignmentgroup\":\"True\",\"hovertemplate\":\"Carrier Name=%{x}\\u003cbr\\u003eDay of Week=Friday\\u003cbr\\u003eDelay Rate=%{y}\\u003cextra\\u003e\\u003c\\u002fextra\\u003e\",\"legendgroup\":\"Lufthansa Cargo\",\"marker\":{\"color\":\"#ab63fa\",\"pattern\":{\"shape\":\"\"}},\"name\":\"Lufthansa Cargo\",\"offsetgroup\":\"Lufthansa Cargo\",\"orientation\":\"v\",\"showlegend\":true,\"textposition\":\"auto\",\"x\":[\"Lufthansa Cargo\"],\"xaxis\":\"x\",\"y\":[0.49166666666666664],\"yaxis\":\"y\",\"type\":\"bar\"},{\"alignmentgroup\":\"True\",\"hovertemplate\":\"Carrier Name=%{x}\\u003cbr\\u003eDay of Week=Friday\\u003cbr\\u003eDelay Rate=%{y}\\u003cextra\\u003e\\u003c\\u002fextra\\u003e\",\"legendgroup\":\"UPS\",\"marker\":{\"color\":\"#FFA15A\",\"pattern\":{\"shape\":\"\"}},\"name\":\"UPS\",\"offsetgroup\":\"UPS\",\"orientation\":\"v\",\"showlegend\":true,\"textposition\":\"auto\",\"x\":[\"UPS\"],\"xaxis\":\"x\",\"y\":[0.4870848708487085],\"yaxis\":\"y\",\"type\":\"bar\"}],\"name\":\"Friday\"},{\"data\":[{\"alignmentgroup\":\"True\",\"hovertemplate\":\"Carrier Name=%{x}\\u003cbr\\u003eDay of Week=Monday\\u003cbr\\u003eDelay Rate=%{y}\\u003cextra\\u003e\\u003c\\u002fextra\\u003e\",\"legendgroup\":\"DHL\",\"marker\":{\"color\":\"#636efa\",\"pattern\":{\"shape\":\"\"}},\"name\":\"DHL\",\"offsetgroup\":\"DHL\",\"orientation\":\"v\",\"showlegend\":true,\"textposition\":\"auto\",\"x\":[\"DHL\"],\"xaxis\":\"x\",\"y\":[0.5102040816326531],\"yaxis\":\"y\",\"type\":\"bar\"},{\"alignmentgroup\":\"True\",\"hovertemplate\":\"Carrier Name=%{x}\\u003cbr\\u003eDay of Week=Monday\\u003cbr\\u003eDelay Rate=%{y}\\u003cextra\\u003e\\u003c\\u002fextra\\u003e\",\"legendgroup\":\"Emirates Cargo\",\"marker\":{\"color\":\"#EF553B\",\"pattern\":{\"shape\":\"\"}},\"name\":\"Emirates Cargo\",\"offsetgroup\":\"Emirates Cargo\",\"orientation\":\"v\",\"showlegend\":true,\"textposition\":\"auto\",\"x\":[\"Emirates Cargo\"],\"xaxis\":\"x\",\"y\":[0.4757785467128028],\"yaxis\":\"y\",\"type\":\"bar\"},{\"alignmentgroup\":\"True\",\"hovertemplate\":\"Carrier Name=%{x}\\u003cbr\\u003eDay of Week=Monday\\u003cbr\\u003eDelay Rate=%{y}\\u003cextra\\u003e\\u003c\\u002fextra\\u003e\",\"legendgroup\":\"FedEx\",\"marker\":{\"color\":\"#00cc96\",\"pattern\":{\"shape\":\"\"}},\"name\":\"FedEx\",\"offsetgroup\":\"FedEx\",\"orientation\":\"v\",\"showlegend\":true,\"textposition\":\"auto\",\"x\":[\"FedEx\"],\"xaxis\":\"x\",\"y\":[0.4931972789115646],\"yaxis\":\"y\",\"type\":\"bar\"},{\"alignmentgroup\":\"True\",\"hovertemplate\":\"Carrier Name=%{x}\\u003cbr\\u003eDay of Week=Monday\\u003cbr\\u003eDelay Rate=%{y}\\u003cextra\\u003e\\u003c\\u002fextra\\u003e\",\"legendgroup\":\"Lufthansa Cargo\",\"marker\":{\"color\":\"#ab63fa\",\"pattern\":{\"shape\":\"\"}},\"name\":\"Lufthansa Cargo\",\"offsetgroup\":\"Lufthansa Cargo\",\"orientation\":\"v\",\"showlegend\":true,\"textposition\":\"auto\",\"x\":[\"Lufthansa Cargo\"],\"xaxis\":\"x\",\"y\":[0.4957698815566836],\"yaxis\":\"y\",\"type\":\"bar\"},{\"alignmentgroup\":\"True\",\"hovertemplate\":\"Carrier Name=%{x}\\u003cbr\\u003eDay of Week=Monday\\u003cbr\\u003eDelay Rate=%{y}\\u003cextra\\u003e\\u003c\\u002fextra\\u003e\",\"legendgroup\":\"UPS\",\"marker\":{\"color\":\"#FFA15A\",\"pattern\":{\"shape\":\"\"}},\"name\":\"UPS\",\"offsetgroup\":\"UPS\",\"orientation\":\"v\",\"showlegend\":true,\"textposition\":\"auto\",\"x\":[\"UPS\"],\"xaxis\":\"x\",\"y\":[0.48426573426573427],\"yaxis\":\"y\",\"type\":\"bar\"}],\"name\":\"Monday\"},{\"data\":[{\"alignmentgroup\":\"True\",\"hovertemplate\":\"Carrier Name=%{x}\\u003cbr\\u003eDay of Week=Saturday\\u003cbr\\u003eDelay Rate=%{y}\\u003cextra\\u003e\\u003c\\u002fextra\\u003e\",\"legendgroup\":\"DHL\",\"marker\":{\"color\":\"#636efa\",\"pattern\":{\"shape\":\"\"}},\"name\":\"DHL\",\"offsetgroup\":\"DHL\",\"orientation\":\"v\",\"showlegend\":true,\"textposition\":\"auto\",\"x\":[\"DHL\"],\"xaxis\":\"x\",\"y\":[0.509469696969697],\"yaxis\":\"y\",\"type\":\"bar\"},{\"alignmentgroup\":\"True\",\"hovertemplate\":\"Carrier Name=%{x}\\u003cbr\\u003eDay of Week=Saturday\\u003cbr\\u003eDelay Rate=%{y}\\u003cextra\\u003e\\u003c\\u002fextra\\u003e\",\"legendgroup\":\"Emirates Cargo\",\"marker\":{\"color\":\"#EF553B\",\"pattern\":{\"shape\":\"\"}},\"name\":\"Emirates Cargo\",\"offsetgroup\":\"Emirates Cargo\",\"orientation\":\"v\",\"showlegend\":true,\"textposition\":\"auto\",\"x\":[\"Emirates Cargo\"],\"xaxis\":\"x\",\"y\":[0.5209059233449478],\"yaxis\":\"y\",\"type\":\"bar\"},{\"alignmentgroup\":\"True\",\"hovertemplate\":\"Carrier Name=%{x}\\u003cbr\\u003eDay of Week=Saturday\\u003cbr\\u003eDelay Rate=%{y}\\u003cextra\\u003e\\u003c\\u002fextra\\u003e\",\"legendgroup\":\"FedEx\",\"marker\":{\"color\":\"#00cc96\",\"pattern\":{\"shape\":\"\"}},\"name\":\"FedEx\",\"offsetgroup\":\"FedEx\",\"orientation\":\"v\",\"showlegend\":true,\"textposition\":\"auto\",\"x\":[\"FedEx\"],\"xaxis\":\"x\",\"y\":[0.48608534322820035],\"yaxis\":\"y\",\"type\":\"bar\"},{\"alignmentgroup\":\"True\",\"hovertemplate\":\"Carrier Name=%{x}\\u003cbr\\u003eDay of Week=Saturday\\u003cbr\\u003eDelay Rate=%{y}\\u003cextra\\u003e\\u003c\\u002fextra\\u003e\",\"legendgroup\":\"Lufthansa Cargo\",\"marker\":{\"color\":\"#ab63fa\",\"pattern\":{\"shape\":\"\"}},\"name\":\"Lufthansa Cargo\",\"offsetgroup\":\"Lufthansa Cargo\",\"orientation\":\"v\",\"showlegend\":true,\"textposition\":\"auto\",\"x\":[\"Lufthansa Cargo\"],\"xaxis\":\"x\",\"y\":[0.5134680134680135],\"yaxis\":\"y\",\"type\":\"bar\"},{\"alignmentgroup\":\"True\",\"hovertemplate\":\"Carrier Name=%{x}\\u003cbr\\u003eDay of Week=Saturday\\u003cbr\\u003eDelay Rate=%{y}\\u003cextra\\u003e\\u003c\\u002fextra\\u003e\",\"legendgroup\":\"UPS\",\"marker\":{\"color\":\"#FFA15A\",\"pattern\":{\"shape\":\"\"}},\"name\":\"UPS\",\"offsetgroup\":\"UPS\",\"orientation\":\"v\",\"showlegend\":true,\"textposition\":\"auto\",\"x\":[\"UPS\"],\"xaxis\":\"x\",\"y\":[0.4765625],\"yaxis\":\"y\",\"type\":\"bar\"}],\"name\":\"Saturday\"},{\"data\":[{\"alignmentgroup\":\"True\",\"hovertemplate\":\"Carrier Name=%{x}\\u003cbr\\u003eDay of Week=Sunday\\u003cbr\\u003eDelay Rate=%{y}\\u003cextra\\u003e\\u003c\\u002fextra\\u003e\",\"legendgroup\":\"DHL\",\"marker\":{\"color\":\"#636efa\",\"pattern\":{\"shape\":\"\"}},\"name\":\"DHL\",\"offsetgroup\":\"DHL\",\"orientation\":\"v\",\"showlegend\":true,\"textposition\":\"auto\",\"x\":[\"DHL\"],\"xaxis\":\"x\",\"y\":[0.483704974271012],\"yaxis\":\"y\",\"type\":\"bar\"},{\"alignmentgroup\":\"True\",\"hovertemplate\":\"Carrier Name=%{x}\\u003cbr\\u003eDay of Week=Sunday\\u003cbr\\u003eDelay Rate=%{y}\\u003cextra\\u003e\\u003c\\u002fextra\\u003e\",\"legendgroup\":\"Emirates Cargo\",\"marker\":{\"color\":\"#EF553B\",\"pattern\":{\"shape\":\"\"}},\"name\":\"Emirates Cargo\",\"offsetgroup\":\"Emirates Cargo\",\"orientation\":\"v\",\"showlegend\":true,\"textposition\":\"auto\",\"x\":[\"Emirates Cargo\"],\"xaxis\":\"x\",\"y\":[0.4714038128249567],\"yaxis\":\"y\",\"type\":\"bar\"},{\"alignmentgroup\":\"True\",\"hovertemplate\":\"Carrier Name=%{x}\\u003cbr\\u003eDay of Week=Sunday\\u003cbr\\u003eDelay Rate=%{y}\\u003cextra\\u003e\\u003c\\u002fextra\\u003e\",\"legendgroup\":\"FedEx\",\"marker\":{\"color\":\"#00cc96\",\"pattern\":{\"shape\":\"\"}},\"name\":\"FedEx\",\"offsetgroup\":\"FedEx\",\"orientation\":\"v\",\"showlegend\":true,\"textposition\":\"auto\",\"x\":[\"FedEx\"],\"xaxis\":\"x\",\"y\":[0.5134228187919463],\"yaxis\":\"y\",\"type\":\"bar\"},{\"alignmentgroup\":\"True\",\"hovertemplate\":\"Carrier Name=%{x}\\u003cbr\\u003eDay of Week=Sunday\\u003cbr\\u003eDelay Rate=%{y}\\u003cextra\\u003e\\u003c\\u002fextra\\u003e\",\"legendgroup\":\"Lufthansa Cargo\",\"marker\":{\"color\":\"#ab63fa\",\"pattern\":{\"shape\":\"\"}},\"name\":\"Lufthansa Cargo\",\"offsetgroup\":\"Lufthansa Cargo\",\"orientation\":\"v\",\"showlegend\":true,\"textposition\":\"auto\",\"x\":[\"Lufthansa Cargo\"],\"xaxis\":\"x\",\"y\":[0.49206349206349204],\"yaxis\":\"y\",\"type\":\"bar\"},{\"alignmentgroup\":\"True\",\"hovertemplate\":\"Carrier Name=%{x}\\u003cbr\\u003eDay of Week=Sunday\\u003cbr\\u003eDelay Rate=%{y}\\u003cextra\\u003e\\u003c\\u002fextra\\u003e\",\"legendgroup\":\"UPS\",\"marker\":{\"color\":\"#FFA15A\",\"pattern\":{\"shape\":\"\"}},\"name\":\"UPS\",\"offsetgroup\":\"UPS\",\"orientation\":\"v\",\"showlegend\":true,\"textposition\":\"auto\",\"x\":[\"UPS\"],\"xaxis\":\"x\",\"y\":[0.47394957983193275],\"yaxis\":\"y\",\"type\":\"bar\"}],\"name\":\"Sunday\"},{\"data\":[{\"alignmentgroup\":\"True\",\"hovertemplate\":\"Carrier Name=%{x}\\u003cbr\\u003eDay of Week=Thursday\\u003cbr\\u003eDelay Rate=%{y}\\u003cextra\\u003e\\u003c\\u002fextra\\u003e\",\"legendgroup\":\"DHL\",\"marker\":{\"color\":\"#636efa\",\"pattern\":{\"shape\":\"\"}},\"name\":\"DHL\",\"offsetgroup\":\"DHL\",\"orientation\":\"v\",\"showlegend\":true,\"textposition\":\"auto\",\"x\":[\"DHL\"],\"xaxis\":\"x\",\"y\":[0.47198641765704585],\"yaxis\":\"y\",\"type\":\"bar\"},{\"alignmentgroup\":\"True\",\"hovertemplate\":\"Carrier Name=%{x}\\u003cbr\\u003eDay of Week=Thursday\\u003cbr\\u003eDelay Rate=%{y}\\u003cextra\\u003e\\u003c\\u002fextra\\u003e\",\"legendgroup\":\"Emirates Cargo\",\"marker\":{\"color\":\"#EF553B\",\"pattern\":{\"shape\":\"\"}},\"name\":\"Emirates Cargo\",\"offsetgroup\":\"Emirates Cargo\",\"orientation\":\"v\",\"showlegend\":true,\"textposition\":\"auto\",\"x\":[\"Emirates Cargo\"],\"xaxis\":\"x\",\"y\":[0.4857142857142857],\"yaxis\":\"y\",\"type\":\"bar\"},{\"alignmentgroup\":\"True\",\"hovertemplate\":\"Carrier Name=%{x}\\u003cbr\\u003eDay of Week=Thursday\\u003cbr\\u003eDelay Rate=%{y}\\u003cextra\\u003e\\u003c\\u002fextra\\u003e\",\"legendgroup\":\"FedEx\",\"marker\":{\"color\":\"#00cc96\",\"pattern\":{\"shape\":\"\"}},\"name\":\"FedEx\",\"offsetgroup\":\"FedEx\",\"orientation\":\"v\",\"showlegend\":true,\"textposition\":\"auto\",\"x\":[\"FedEx\"],\"xaxis\":\"x\",\"y\":[0.5076628352490421],\"yaxis\":\"y\",\"type\":\"bar\"},{\"alignmentgroup\":\"True\",\"hovertemplate\":\"Carrier Name=%{x}\\u003cbr\\u003eDay of Week=Thursday\\u003cbr\\u003eDelay Rate=%{y}\\u003cextra\\u003e\\u003c\\u002fextra\\u003e\",\"legendgroup\":\"Lufthansa Cargo\",\"marker\":{\"color\":\"#ab63fa\",\"pattern\":{\"shape\":\"\"}},\"name\":\"Lufthansa Cargo\",\"offsetgroup\":\"Lufthansa Cargo\",\"orientation\":\"v\",\"showlegend\":true,\"textposition\":\"auto\",\"x\":[\"Lufthansa Cargo\"],\"xaxis\":\"x\",\"y\":[0.4623287671232877],\"yaxis\":\"y\",\"type\":\"bar\"},{\"alignmentgroup\":\"True\",\"hovertemplate\":\"Carrier Name=%{x}\\u003cbr\\u003eDay of Week=Thursday\\u003cbr\\u003eDelay Rate=%{y}\\u003cextra\\u003e\\u003c\\u002fextra\\u003e\",\"legendgroup\":\"UPS\",\"marker\":{\"color\":\"#FFA15A\",\"pattern\":{\"shape\":\"\"}},\"name\":\"UPS\",\"offsetgroup\":\"UPS\",\"orientation\":\"v\",\"showlegend\":true,\"textposition\":\"auto\",\"x\":[\"UPS\"],\"xaxis\":\"x\",\"y\":[0.4838160136286201],\"yaxis\":\"y\",\"type\":\"bar\"}],\"name\":\"Thursday\"},{\"data\":[{\"alignmentgroup\":\"True\",\"hovertemplate\":\"Carrier Name=%{x}\\u003cbr\\u003eDay of Week=Tuesday\\u003cbr\\u003eDelay Rate=%{y}\\u003cextra\\u003e\\u003c\\u002fextra\\u003e\",\"legendgroup\":\"DHL\",\"marker\":{\"color\":\"#636efa\",\"pattern\":{\"shape\":\"\"}},\"name\":\"DHL\",\"offsetgroup\":\"DHL\",\"orientation\":\"v\",\"showlegend\":true,\"textposition\":\"auto\",\"x\":[\"DHL\"],\"xaxis\":\"x\",\"y\":[0.5017857142857143],\"yaxis\":\"y\",\"type\":\"bar\"},{\"alignmentgroup\":\"True\",\"hovertemplate\":\"Carrier Name=%{x}\\u003cbr\\u003eDay of Week=Tuesday\\u003cbr\\u003eDelay Rate=%{y}\\u003cextra\\u003e\\u003c\\u002fextra\\u003e\",\"legendgroup\":\"Emirates Cargo\",\"marker\":{\"color\":\"#EF553B\",\"pattern\":{\"shape\":\"\"}},\"name\":\"Emirates Cargo\",\"offsetgroup\":\"Emirates Cargo\",\"orientation\":\"v\",\"showlegend\":true,\"textposition\":\"auto\",\"x\":[\"Emirates Cargo\"],\"xaxis\":\"x\",\"y\":[0.5227272727272727],\"yaxis\":\"y\",\"type\":\"bar\"},{\"alignmentgroup\":\"True\",\"hovertemplate\":\"Carrier Name=%{x}\\u003cbr\\u003eDay of Week=Tuesday\\u003cbr\\u003eDelay Rate=%{y}\\u003cextra\\u003e\\u003c\\u002fextra\\u003e\",\"legendgroup\":\"FedEx\",\"marker\":{\"color\":\"#00cc96\",\"pattern\":{\"shape\":\"\"}},\"name\":\"FedEx\",\"offsetgroup\":\"FedEx\",\"orientation\":\"v\",\"showlegend\":true,\"textposition\":\"auto\",\"x\":[\"FedEx\"],\"xaxis\":\"x\",\"y\":[0.49666666666666665],\"yaxis\":\"y\",\"type\":\"bar\"},{\"alignmentgroup\":\"True\",\"hovertemplate\":\"Carrier Name=%{x}\\u003cbr\\u003eDay of Week=Tuesday\\u003cbr\\u003eDelay Rate=%{y}\\u003cextra\\u003e\\u003c\\u002fextra\\u003e\",\"legendgroup\":\"Lufthansa Cargo\",\"marker\":{\"color\":\"#ab63fa\",\"pattern\":{\"shape\":\"\"}},\"name\":\"Lufthansa Cargo\",\"offsetgroup\":\"Lufthansa Cargo\",\"orientation\":\"v\",\"showlegend\":true,\"textposition\":\"auto\",\"x\":[\"Lufthansa Cargo\"],\"xaxis\":\"x\",\"y\":[0.5008787346221442],\"yaxis\":\"y\",\"type\":\"bar\"},{\"alignmentgroup\":\"True\",\"hovertemplate\":\"Carrier Name=%{x}\\u003cbr\\u003eDay of Week=Tuesday\\u003cbr\\u003eDelay Rate=%{y}\\u003cextra\\u003e\\u003c\\u002fextra\\u003e\",\"legendgroup\":\"UPS\",\"marker\":{\"color\":\"#FFA15A\",\"pattern\":{\"shape\":\"\"}},\"name\":\"UPS\",\"offsetgroup\":\"UPS\",\"orientation\":\"v\",\"showlegend\":true,\"textposition\":\"auto\",\"x\":[\"UPS\"],\"xaxis\":\"x\",\"y\":[0.5239786856127886],\"yaxis\":\"y\",\"type\":\"bar\"}],\"name\":\"Tuesday\"},{\"data\":[{\"alignmentgroup\":\"True\",\"hovertemplate\":\"Carrier Name=%{x}\\u003cbr\\u003eDay of Week=Wednesday\\u003cbr\\u003eDelay Rate=%{y}\\u003cextra\\u003e\\u003c\\u002fextra\\u003e\",\"legendgroup\":\"DHL\",\"marker\":{\"color\":\"#636efa\",\"pattern\":{\"shape\":\"\"}},\"name\":\"DHL\",\"offsetgroup\":\"DHL\",\"orientation\":\"v\",\"showlegend\":true,\"textposition\":\"auto\",\"x\":[\"DHL\"],\"xaxis\":\"x\",\"y\":[0.5171849427168577],\"yaxis\":\"y\",\"type\":\"bar\"},{\"alignmentgroup\":\"True\",\"hovertemplate\":\"Carrier Name=%{x}\\u003cbr\\u003eDay of Week=Wednesday\\u003cbr\\u003eDelay Rate=%{y}\\u003cextra\\u003e\\u003c\\u002fextra\\u003e\",\"legendgroup\":\"Emirates Cargo\",\"marker\":{\"color\":\"#EF553B\",\"pattern\":{\"shape\":\"\"}},\"name\":\"Emirates Cargo\",\"offsetgroup\":\"Emirates Cargo\",\"orientation\":\"v\",\"showlegend\":true,\"textposition\":\"auto\",\"x\":[\"Emirates Cargo\"],\"xaxis\":\"x\",\"y\":[0.522887323943662],\"yaxis\":\"y\",\"type\":\"bar\"},{\"alignmentgroup\":\"True\",\"hovertemplate\":\"Carrier Name=%{x}\\u003cbr\\u003eDay of Week=Wednesday\\u003cbr\\u003eDelay Rate=%{y}\\u003cextra\\u003e\\u003c\\u002fextra\\u003e\",\"legendgroup\":\"FedEx\",\"marker\":{\"color\":\"#00cc96\",\"pattern\":{\"shape\":\"\"}},\"name\":\"FedEx\",\"offsetgroup\":\"FedEx\",\"orientation\":\"v\",\"showlegend\":true,\"textposition\":\"auto\",\"x\":[\"FedEx\"],\"xaxis\":\"x\",\"y\":[0.4851138353765324],\"yaxis\":\"y\",\"type\":\"bar\"},{\"alignmentgroup\":\"True\",\"hovertemplate\":\"Carrier Name=%{x}\\u003cbr\\u003eDay of Week=Wednesday\\u003cbr\\u003eDelay Rate=%{y}\\u003cextra\\u003e\\u003c\\u002fextra\\u003e\",\"legendgroup\":\"Lufthansa Cargo\",\"marker\":{\"color\":\"#ab63fa\",\"pattern\":{\"shape\":\"\"}},\"name\":\"Lufthansa Cargo\",\"offsetgroup\":\"Lufthansa Cargo\",\"orientation\":\"v\",\"showlegend\":true,\"textposition\":\"auto\",\"x\":[\"Lufthansa Cargo\"],\"xaxis\":\"x\",\"y\":[0.4940374787052811],\"yaxis\":\"y\",\"type\":\"bar\"},{\"alignmentgroup\":\"True\",\"hovertemplate\":\"Carrier Name=%{x}\\u003cbr\\u003eDay of Week=Wednesday\\u003cbr\\u003eDelay Rate=%{y}\\u003cextra\\u003e\\u003c\\u002fextra\\u003e\",\"legendgroup\":\"UPS\",\"marker\":{\"color\":\"#FFA15A\",\"pattern\":{\"shape\":\"\"}},\"name\":\"UPS\",\"offsetgroup\":\"UPS\",\"orientation\":\"v\",\"showlegend\":true,\"textposition\":\"auto\",\"x\":[\"UPS\"],\"xaxis\":\"x\",\"y\":[0.5143884892086331],\"yaxis\":\"y\",\"type\":\"bar\"}],\"name\":\"Wednesday\"}]);\n",
       "                        }).then(function(){\n",
       "                            \n",
       "var gd = document.getElementById('99fc8b87-0e0c-4a34-8a76-77ea3496a961');\n",
       "var x = new MutationObserver(function (mutations, observer) {{\n",
       "        var display = window.getComputedStyle(gd).display;\n",
       "        if (!display || display === 'none') {{\n",
       "            console.log([gd, 'removed!']);\n",
       "            Plotly.purge(gd);\n",
       "            observer.disconnect();\n",
       "        }}\n",
       "}});\n",
       "\n",
       "// Listen for the removal of the full notebook cells\n",
       "var notebookContainer = gd.closest('#notebook-container');\n",
       "if (notebookContainer) {{\n",
       "    x.observe(notebookContainer, {childList: true});\n",
       "}}\n",
       "\n",
       "// Listen for the clearing of the current output cell\n",
       "var outputEl = gd.closest('.output');\n",
       "if (outputEl) {{\n",
       "    x.observe(outputEl, {childList: true});\n",
       "}}\n",
       "\n",
       "                        })                };                });            </script>        </div>"
      ]
     },
     "metadata": {},
     "output_type": "display_data"
    }
   ],
   "source": [
    "import plotly.express as px\n",
    "\n",
    "# Example: Assuming you have pre-aggregated data\n",
    "df_agg =tb.groupby(['Day of Week', 'Carrier Name'])['Delay Status'] \\\n",
    "            .value_counts(normalize=True).unstack().fillna(0).reset_index()\n",
    "df_agg.rename(columns={0: 'On-Time', 1: 'Delayed'}, inplace=True)\n",
    "\n",
    "# Animated bar chart using Plotly\n",
    "fig = px.bar(\n",
    "    df_agg, \n",
    "    x='Carrier Name', y='Delayed', \n",
    "    color='Carrier Name',\n",
    "    animation_frame='Day of Week',\n",
    "    range_y=[0, 1],\n",
    "    title=' Delay Rate by Carrier — Animated by Day of Week',\n",
    "    labels={'Delayed': 'Delay Rate'}\n",
    ")\n",
    "\n",
    "fig.update_layout(showlegend=False)\n",
    "fig.show()\n",
    "\n",
    "\n",
    "\n",
    "##The delay rate varies by carrier and day of the week, with some carriers experiencing higher delays on specific days.\n",
    "# Identifying peak delay days can help optimize logistics and improve efficiency."
   ]
  },
  {
   "cell_type": "code",
   "execution_count": null,
   "id": "42193182-c807-4cfd-a6ce-8612dbb1f164",
   "metadata": {},
   "outputs": [],
   "source": []
  }
 ],
 "metadata": {
  "kernelspec": {
   "display_name": "Python 3 (ipykernel)",
   "language": "python",
   "name": "python3"
  },
  "language_info": {
   "codemirror_mode": {
    "name": "ipython",
    "version": 3
   },
   "file_extension": ".py",
   "mimetype": "text/x-python",
   "name": "python",
   "nbconvert_exporter": "python",
   "pygments_lexer": "ipython3",
   "version": "3.11.9"
  }
 },
 "nbformat": 4,
 "nbformat_minor": 5
}
